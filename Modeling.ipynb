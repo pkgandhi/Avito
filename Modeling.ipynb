{
 "cells": [
  {
   "cell_type": "code",
   "execution_count": 2,
   "metadata": {},
   "outputs": [
    {
     "name": "stderr",
     "output_type": "stream",
     "text": [
      "C:\\Program Files\\Anaconda\\lib\\site-packages\\sklearn\\cross_validation.py:41: DeprecationWarning: This module was deprecated in version 0.18 in favor of the model_selection module into which all the refactored classes and functions are moved. Also note that the interface of the new CV iterators are different from that of this module. This module will be removed in 0.20.\n",
      "  \"This module will be removed in 0.20.\", DeprecationWarning)\n"
     ]
    }
   ],
   "source": [
    "import os\n",
    "import gc\n",
    "import time\n",
    "import pickle\n",
    "import kaggle\n",
    "import datetime\n",
    "import pandas as pd\n",
    "import numpy as np\n",
    "import dask.dataframe as dd\n",
    "from dask import delayed, compute\n",
    "import matplotlib.pyplot as plt\n",
    "%matplotlib inline\n",
    "from sklearn.cross_validation import train_test_split\n",
    "from sklearn.model_selection import RandomizedSearchCV, GridSearchCV\n",
    "from sklearn import preprocessing, metrics\n",
    "import lightgbm as lgb\n",
    "from textblob import TextBlob\n",
    "\n",
    "path = \"F:\\\\Pratik\\\\LearningZone\\\\Competitions\\\\Avito_Demand_Prediction_Challenge\\\\RawData\"\n",
    "os.chdir(path)"
   ]
  },
  {
   "cell_type": "code",
   "execution_count": null,
   "metadata": {},
   "outputs": [],
   "source": [
    "train_df = pd.read_csv('train_translated.csv', parse_dates=['activation_date'])\n",
    "test_df = pd.read_csv('test_translated.csv', parse_dates=['activation_date'])"
   ]
  },
  {
   "cell_type": "code",
   "execution_count": 3,
   "metadata": {},
   "outputs": [],
   "source": [
    "total_df = pd.read_csv('total_translated_05102018.csv', parse_dates=['activation_date'])"
   ]
  },
  {
   "cell_type": "code",
   "execution_count": null,
   "metadata": {},
   "outputs": [],
   "source": [
    "train_df['dow'] = train_df['activation_date'].dt.weekday\n",
    "test_df['dow'] = test_df['activation_date'].dt.weekday"
   ]
  },
  {
   "cell_type": "code",
   "execution_count": 4,
   "metadata": {},
   "outputs": [],
   "source": [
    "total_df['dow'] = total_df['activation_date'].dt.weekday"
   ]
  },
  {
   "cell_type": "code",
   "execution_count": 5,
   "metadata": {},
   "outputs": [
    {
     "data": {
      "text/plain": [
       "Index(['item_id', 'user_id', 'region', 'city', 'parent_category_name',\n",
       "       'category_name', 'title', 'description', 'price', 'item_seq_number',\n",
       "       'activation_date', 'user_type', 'image', 'image_top_1',\n",
       "       'deal_probability', 'set', 'price_new', 'en_region', 'en_city',\n",
       "       'en_category_name', 'en_parent_category_name', 'en_param1', 'en_param2',\n",
       "       'en_param3', 'combine_param1n2n3', 'description_num_chars',\n",
       "       'description_num_words', 'description_num_unique_words',\n",
       "       'description_words_vs_unique', 'combine_param1n2n3_num_chars',\n",
       "       'combine_param1n2n3_num_words', 'combine_param1n2n3_num_unique_words',\n",
       "       'combine_param1n2n3_words_vs_unique', 'title_num_chars',\n",
       "       'title_num_words', 'title_num_unique_words', 'title_words_vs_unique',\n",
       "       'dow'],\n",
       "      dtype='object')"
      ]
     },
     "execution_count": 5,
     "metadata": {},
     "output_type": "execute_result"
    }
   ],
   "source": [
    "total_df.columns"
   ]
  },
  {
   "cell_type": "code",
   "execution_count": null,
   "metadata": {},
   "outputs": [],
   "source": [
    "# Function to extract features from them:\n",
    "@delayed\n",
    "def period_features(x):\n",
    "    x['dow_first_day_display'] = x['date_from'].dt.weekday\n",
    "    x['dow_last_day_display'] = x['date_to'].dt.weekday\n",
    "    x['time_btwn_placed_display'] = (x['date_from'] - x['activation_date']).dt.days\n",
    "    x['duration_display'] = (x['date_to'] - x['date_from']).dt.days\n",
    "    return x\n",
    "\n",
    "# Passing the train data through period_features fn:\n",
    "periods_train = period_features(periods_train)\n",
    "%time periods_train = periods_train.compute()\n",
    "\n",
    "# Passing the test data through period_features fn:\n",
    "periods_test = period_features(periods_test)\n",
    "%time periods_test = periods_test.compute()"
   ]
  },
  {
   "cell_type": "code",
   "execution_count": 23,
   "metadata": {},
   "outputs": [],
   "source": [
    "cat_vars = [\"en_region\", \"en_city\", \"en_parent_category_name\", \"en_category_name\", \"user_type\",\"image_top_1\",\"en_param1\",\"en_param2\",\"en_param3\"]"
   ]
  },
  {
   "cell_type": "code",
   "execution_count": 24,
   "metadata": {},
   "outputs": [],
   "source": [
    "def label_encoding(train_data, categorical_feature_names):\n",
    "    le = preprocessing.LabelEncoder() # Defining Label Encoder\n",
    "    train_cat_features = np.array(train_data[categorical_feature_names])\n",
    "    train_data_array = le.fit_transform(train_cat_features[:,0])\n",
    "    for i in range(1,train_cat_features.shape[1]):\n",
    "        train_data_array = np.column_stack((train_data_array, le.fit_transform(train_cat_features[:,i])))\n",
    "        \n",
    "    train_cat_data_df = pd.DataFrame(train_data_array, columns=categorical_feature_names)\n",
    "    return train_cat_data_df[categorical_feature_names]"
   ]
  },
  {
   "cell_type": "code",
   "execution_count": 25,
   "metadata": {},
   "outputs": [
    {
     "name": "stderr",
     "output_type": "stream",
     "text": [
      "C:\\Program Files\\Anaconda\\lib\\site-packages\\pandas\\core\\frame.py:3035: SettingWithCopyWarning: \n",
      "A value is trying to be set on a copy of a slice from a DataFrame\n",
      "\n",
      "See the caveats in the documentation: http://pandas.pydata.org/pandas-docs/stable/indexing.html#indexing-view-versus-copy\n",
      "  downcast=downcast, **kwargs)\n"
     ]
    }
   ],
   "source": [
    "total_df[['en_param1','en_param2','en_param3','image_top_1']].fillna('Missing', inplace=True)"
   ]
  },
  {
   "cell_type": "code",
   "execution_count": null,
   "metadata": {},
   "outputs": [],
   "source": [
    "train_df[['en_param1','en_param2','en_param3']].fillna('Missing', inplace=True)\n",
    "test_df[['en_param1','en_param2','en_param3']].fillna('Missing', inplace=True)"
   ]
  },
  {
   "cell_type": "code",
   "execution_count": 26,
   "metadata": {},
   "outputs": [],
   "source": [
    "total_df['en_param1'] = total_df['en_param1'].map(str)\n",
    "total_df['en_param2'] = total_df['en_param2'].map(str)\n",
    "total_df['en_param3'] = total_df['en_param3'].map(str)"
   ]
  },
  {
   "cell_type": "code",
   "execution_count": null,
   "metadata": {},
   "outputs": [],
   "source": [
    "train_df['en_param1'] = train_df['en_param1'].map(str)\n",
    "train_df['en_param2'] = train_df['en_param2'].map(str)\n",
    "train_df['en_param3'] = train_df['en_param3'].map(str)"
   ]
  },
  {
   "cell_type": "code",
   "execution_count": null,
   "metadata": {},
   "outputs": [],
   "source": [
    "test_df['en_param1'] = test_df['en_param1'].map(str)\n",
    "test_df['en_param2'] = test_df['en_param2'].map(str)\n",
    "test_df['en_param3'] = test_df['en_param3'].map(str)"
   ]
  },
  {
   "cell_type": "code",
   "execution_count": 27,
   "metadata": {},
   "outputs": [],
   "source": [
    "Catg_Var_LE = label_encoding(total_df, cat_vars)"
   ]
  },
  {
   "cell_type": "code",
   "execution_count": 7,
   "metadata": {},
   "outputs": [
    {
     "ename": "NameError",
     "evalue": "name 'train_df' is not defined",
     "output_type": "error",
     "traceback": [
      "\u001b[1;31m---------------------------------------------------------------------------\u001b[0m",
      "\u001b[1;31mNameError\u001b[0m                                 Traceback (most recent call last)",
      "\u001b[1;32m<ipython-input-7-397b21998874>\u001b[0m in \u001b[0;36m<module>\u001b[1;34m()\u001b[0m\n\u001b[1;32m----> 1\u001b[1;33m \u001b[0mCatg_Var_LE_train\u001b[0m \u001b[1;33m=\u001b[0m \u001b[0mlabel_encoding\u001b[0m\u001b[1;33m(\u001b[0m\u001b[0mtrain_df\u001b[0m\u001b[1;33m,\u001b[0m\u001b[0mcat_vars\u001b[0m\u001b[1;33m)\u001b[0m\u001b[1;33m\u001b[0m\u001b[0m\n\u001b[0m\u001b[0;32m      2\u001b[0m \u001b[0mCatg_Var_LE_test\u001b[0m \u001b[1;33m=\u001b[0m \u001b[0mlabel_encoding\u001b[0m\u001b[1;33m(\u001b[0m\u001b[0mtest_df\u001b[0m\u001b[1;33m,\u001b[0m\u001b[0mcat_vars\u001b[0m\u001b[1;33m)\u001b[0m\u001b[1;33m\u001b[0m\u001b[0m\n",
      "\u001b[1;31mNameError\u001b[0m: name 'train_df' is not defined"
     ]
    }
   ],
   "source": [
    "Catg_Var_LE_train = label_encoding(train_df,cat_vars)\n",
    "Catg_Var_LE_test = label_encoding(test_df,cat_vars)"
   ]
  },
  {
   "cell_type": "code",
   "execution_count": 28,
   "metadata": {},
   "outputs": [],
   "source": [
    "# Dropping the rows on which One-Hot Encoding has been performed\n",
    "total_df = total_df.drop(Catg_Var_LE.columns, axis=1)\n",
    "# Concating the rows converted using One-Hot Encoding to other columns:\n",
    "total_df = pd.concat([total_df,Catg_Var_LE], axis=1)"
   ]
  },
  {
   "cell_type": "code",
   "execution_count": null,
   "metadata": {},
   "outputs": [],
   "source": [
    "# Dropping the rows on which One-Hot Encoding has been performed\n",
    "train_df = train_df.drop(Catg_Var_LE_train.columns, axis=1)\n",
    "# Concating the rows converted using One-Hot Encoding to other columns:\n",
    "train_df = pd.concat([train_df,Catg_Var_LE_train], axis=1)"
   ]
  },
  {
   "cell_type": "code",
   "execution_count": null,
   "metadata": {},
   "outputs": [],
   "source": [
    "# Dropping the rows on which One-Hot Encoding has been performed\n",
    "test_df = test_df.drop(Catg_Var_LE_test.columns, axis=1)\n",
    "# Concating the rows converted using One-Hot Encoding to other columns:\n",
    "test_df = pd.concat([test_df,Catg_Var_LE_test], axis=1)"
   ]
  },
  {
   "cell_type": "code",
   "execution_count": null,
   "metadata": {},
   "outputs": [],
   "source": [
    "total_df['price_new'] = np.log(total_df['price']+0.001)\n",
    "total_df[\"price_new\"].fillna(np.nanmean(total_df[\"price_new\"].values), inplace=True)"
   ]
  },
  {
   "cell_type": "code",
   "execution_count": 35,
   "metadata": {},
   "outputs": [],
   "source": [
    "train_df = total_df[total_df['set'] == 'train']\n",
    "test_df = total_df[total_df['set'] == 'test']"
   ]
  },
  {
   "cell_type": "code",
   "execution_count": 60,
   "metadata": {},
   "outputs": [],
   "source": [
    "target = 'deal_probability'\n",
    "predictors = ['dow', 'en_region', 'en_city',\n",
    "       'en_parent_category_name', 'en_category_name', 'user_type', 'price_new', 'description_num_chars',\n",
    "       'description_num_words', 'description_num_unique_words',\n",
    "       'description_words_vs_unique', 'combine_param1n2n3_num_chars',\n",
    "        'title_num_chars',\n",
    "       'title_num_words','image_top_1','en_param1','en_param2','en_param3']"
   ]
  },
  {
   "cell_type": "code",
   "execution_count": null,
   "metadata": {},
   "outputs": [],
   "source": [
    "['title_words_vs_unique','combine_param1n2n3_words_vs_unique','combine_param1n2n3_num_unique_words','combine_param1n2n3_num_words','title_num_unique_words']"
   ]
  },
  {
   "cell_type": "markdown",
   "metadata": {},
   "source": [
    "### Standarizing data:"
   ]
  },
  {
   "cell_type": "code",
   "execution_count": 13,
   "metadata": {},
   "outputs": [],
   "source": [
    "from sklearn.preprocessing import StandardScaler\n",
    "sc = StandardScaler()"
   ]
  },
  {
   "cell_type": "code",
   "execution_count": 14,
   "metadata": {},
   "outputs": [],
   "source": [
    "numeric_cols = ['price_new','description_num_chars','description_num_words','description_num_unique_words',\n",
    "                'description_words_vs_unique','combine_param1n2n3_num_chars','combine_param1n2n3_num_words',\n",
    "               'combine_param1n2n3_num_unique_words','combine_param1n2n3_words_vs_unique','title_num_chars',\n",
    "               'title_words_vs_unique']"
   ]
  },
  {
   "cell_type": "code",
   "execution_count": 15,
   "metadata": {},
   "outputs": [],
   "source": [
    "total_df[numeric_cols] = sc.fit_transform(total_df[numeric_cols])"
   ]
  },
  {
   "cell_type": "code",
   "execution_count": null,
   "metadata": {},
   "outputs": [],
   "source": [
    "#Splitting the data for model training#\n",
    "dev_X = train_df.iloc[:-200000,:]\n",
    "val_X = train_df.iloc[-200000:,:]\n",
    "\n",
    "# # Splitting based on date:\n",
    "# dev_X = train_df[train_df['activation_date'] <= '2017-03-23']\n",
    "# val_X = train_df[train_df['activation_date'] > '2017-03-23']"
   ]
  },
  {
   "cell_type": "code",
   "execution_count": 30,
   "metadata": {},
   "outputs": [],
   "source": [
    "def run_lgb(train_X, val_X):\n",
    "    params = {\n",
    "        \"objective\" : \"regression\",\n",
    "        \"metric\" : \"rmse\",\n",
    "        \"num_leaves\" : 40,\n",
    "        \"learning_rate\" : 0.1,\n",
    "        \"bagging_fraction\" : 0.7,\n",
    "        \"feature_fraction\" : 0.7,\n",
    "        \"bagging_frequency\" : 5,\n",
    "        \"bagging_seed\" : 2018,\n",
    "        \"verbosity\" : -1\n",
    "    }\n",
    "    \n",
    "    lgtrain = lgb.Dataset(train_X[predictors].values, label=train_X[target].values, feature_name=predictors)\n",
    "    lgval = lgb.Dataset(val_X[predictors].values, label=val_X[target].values, feature_name=predictors)\n",
    "    evals_result = {}\n",
    "    model = lgb.train(params, lgtrain, 5000, valid_sets=[lgtrain, lgval], valid_names=['train','valid'],\n",
    "                      early_stopping_rounds=100, verbose_eval=20, evals_result=evals_result)\n",
    "    #model = lgb.cv(params, lgtrain, 5000, verbose_eval=20, nfold=5, stratified=True)\n",
    "    \n",
    "    #pred_test_y = model.predict(test_X, num_iteration=model.best_iteration)\n",
    "    return model, evals_result"
   ]
  },
  {
   "cell_type": "code",
   "execution_count": null,
   "metadata": {},
   "outputs": [],
   "source": [
    "params = {\n",
    "        \"objective\" : \"regression\",\n",
    "        \"metric\" : \"rmse\",\n",
    "        \"num_leaves\" : 30,\n",
    "        \"learning_rate\" : 0.1,\n",
    "        \"bagging_fraction\" : 0.7,\n",
    "        \"feature_fraction\" : 0.7,\n",
    "        \"bagging_frequency\" : 5,\n",
    "        \"bagging_seed\" : 2018,\n",
    "        \"verbosity\" : -1\n",
    "    }"
   ]
  },
  {
   "cell_type": "code",
   "execution_count": null,
   "metadata": {},
   "outputs": [],
   "source": [
    "num_leaves = [20, 25, 30, 35, 40]\n",
    "learning_rate = [0.01, 0.05, 0.1, 0.15, 0.2]\n",
    "bst_results = []\n",
    "for num_lv in num_leaves:\n",
    "    for lr in learning_rate:\n",
    "        new_params = {\"num_leaves\" : num_lv, \"learning_rate\" : lr}\n",
    "        params.update(new_params)\n",
    "        lgtrain = lgb.Dataset(train_X[predictors].values, label=train_X[target].values)\n",
    "        lgval = lgb.Dataset(val_X[predictors].values, label=val_X[target].values)\n",
    "        evals_result = {}\n",
    "        model = lgb.train(params, lgtrain, 1000, valid_sets=[lgtrain, lgval], early_stopping_rounds=100, verbose_eval=20, evals_result=evals_result)\n",
    "        bst_results.append(params, )"
   ]
  },
  {
   "cell_type": "code",
   "execution_count": null,
   "metadata": {},
   "outputs": [],
   "source": [
    "model = lgb.LGBMRegressor(objective=\"regression\",\n",
    "        metric = \"rmse\",\n",
    "        num_leaves = 30,\n",
    "        learning_rate = 0.1,\n",
    "        bagging_fraction = 0.7,\n",
    "        feature_fraction = 0.7,\n",
    "        bagging_frequency = 5,\n",
    "        bagging_seed = 2018,\n",
    "        verbosity = -1)"
   ]
  },
  {
   "cell_type": "code",
   "execution_count": null,
   "metadata": {},
   "outputs": [],
   "source": [
    "params_opt = {'learning_rate': [0.01, 0.05, 0.1, 0.15, 0.2], \"num_leaves\" : [20, 25, 30, 35, 40]}"
   ]
  },
  {
   "cell_type": "code",
   "execution_count": null,
   "metadata": {},
   "outputs": [],
   "source": [
    "gridSearchCV = GridSearchCV(estimator = model, \n",
    "    param_grid = params_opt, verbose=1)"
   ]
  },
  {
   "cell_type": "code",
   "execution_count": null,
   "metadata": {},
   "outputs": [],
   "source": [
    "gridSearchCV.fit(train_df[predictors],train_df[target])"
   ]
  },
  {
   "cell_type": "code",
   "execution_count": null,
   "metadata": {},
   "outputs": [],
   "source": [
    "gridSearchCV.grid_scores_"
   ]
  },
  {
   "cell_type": "code",
   "execution_count": 31,
   "metadata": {},
   "outputs": [],
   "source": [
    "from sklearn.model_selection import KFold"
   ]
  },
  {
   "cell_type": "code",
   "execution_count": 32,
   "metadata": {},
   "outputs": [],
   "source": [
    "kf = KFold(n_splits=5)"
   ]
  },
  {
   "cell_type": "code",
   "execution_count": 33,
   "metadata": {},
   "outputs": [
    {
     "data": {
      "text/plain": [
       "0"
      ]
     },
     "execution_count": 33,
     "metadata": {},
     "output_type": "execute_result"
    }
   ],
   "source": [
    "gc.collect()"
   ]
  },
  {
   "cell_type": "code",
   "execution_count": 61,
   "metadata": {
    "scrolled": true
   },
   "outputs": [
    {
     "name": "stdout",
     "output_type": "stream",
     "text": [
      "Modeling for 1_fold\n",
      "Training until validation scores don't improve for 100 rounds.\n",
      "[20]\ttrain's rmse: 0.23521\tvalid's rmse: 0.235455\n",
      "[40]\ttrain's rmse: 0.232575\tvalid's rmse: 0.233007\n",
      "[60]\ttrain's rmse: 0.231395\tvalid's rmse: 0.231919\n",
      "[80]\ttrain's rmse: 0.23057\tvalid's rmse: 0.231213\n",
      "[100]\ttrain's rmse: 0.229969\tvalid's rmse: 0.230723\n",
      "[120]\ttrain's rmse: 0.229551\tvalid's rmse: 0.230406\n",
      "[140]\ttrain's rmse: 0.229185\tvalid's rmse: 0.23018\n",
      "[160]\ttrain's rmse: 0.228796\tvalid's rmse: 0.229937\n",
      "[180]\ttrain's rmse: 0.228506\tvalid's rmse: 0.229773\n",
      "[200]\ttrain's rmse: 0.228226\tvalid's rmse: 0.229609\n",
      "[220]\ttrain's rmse: 0.227975\tvalid's rmse: 0.229487\n",
      "[240]\ttrain's rmse: 0.227701\tvalid's rmse: 0.229345\n",
      "[260]\ttrain's rmse: 0.227477\tvalid's rmse: 0.229257\n",
      "[280]\ttrain's rmse: 0.22727\tvalid's rmse: 0.229194\n",
      "[300]\ttrain's rmse: 0.227032\tvalid's rmse: 0.229097\n",
      "[320]\ttrain's rmse: 0.22681\tvalid's rmse: 0.228995\n",
      "[340]\ttrain's rmse: 0.226615\tvalid's rmse: 0.228911\n",
      "[360]\ttrain's rmse: 0.226425\tvalid's rmse: 0.228852\n",
      "[380]\ttrain's rmse: 0.226243\tvalid's rmse: 0.22882\n",
      "[400]\ttrain's rmse: 0.226052\tvalid's rmse: 0.228759\n",
      "[420]\ttrain's rmse: 0.225883\tvalid's rmse: 0.22873\n",
      "[440]\ttrain's rmse: 0.225733\tvalid's rmse: 0.228696\n",
      "[460]\ttrain's rmse: 0.225577\tvalid's rmse: 0.228659\n",
      "[480]\ttrain's rmse: 0.22541\tvalid's rmse: 0.228596\n",
      "[500]\ttrain's rmse: 0.225232\tvalid's rmse: 0.228551\n",
      "[520]\ttrain's rmse: 0.22509\tvalid's rmse: 0.228523\n",
      "[540]\ttrain's rmse: 0.224908\tvalid's rmse: 0.228458\n",
      "[560]\ttrain's rmse: 0.224742\tvalid's rmse: 0.22841\n",
      "[580]\ttrain's rmse: 0.224592\tvalid's rmse: 0.228372\n",
      "[600]\ttrain's rmse: 0.224446\tvalid's rmse: 0.228343\n",
      "[620]\ttrain's rmse: 0.22429\tvalid's rmse: 0.228291\n",
      "[640]\ttrain's rmse: 0.224151\tvalid's rmse: 0.228261\n",
      "[660]\ttrain's rmse: 0.224014\tvalid's rmse: 0.228235\n",
      "[680]\ttrain's rmse: 0.223874\tvalid's rmse: 0.228206\n",
      "[700]\ttrain's rmse: 0.223745\tvalid's rmse: 0.228179\n",
      "[720]\ttrain's rmse: 0.223613\tvalid's rmse: 0.22815\n",
      "[740]\ttrain's rmse: 0.223493\tvalid's rmse: 0.228116\n",
      "[760]\ttrain's rmse: 0.223352\tvalid's rmse: 0.22808\n",
      "[780]\ttrain's rmse: 0.223233\tvalid's rmse: 0.228064\n",
      "[800]\ttrain's rmse: 0.223102\tvalid's rmse: 0.228045\n",
      "[820]\ttrain's rmse: 0.222967\tvalid's rmse: 0.228016\n",
      "[840]\ttrain's rmse: 0.222837\tvalid's rmse: 0.227996\n",
      "[860]\ttrain's rmse: 0.222694\tvalid's rmse: 0.227965\n",
      "[880]\ttrain's rmse: 0.222564\tvalid's rmse: 0.227944\n",
      "[900]\ttrain's rmse: 0.222425\tvalid's rmse: 0.227917\n",
      "[920]\ttrain's rmse: 0.222317\tvalid's rmse: 0.227903\n",
      "[940]\ttrain's rmse: 0.222195\tvalid's rmse: 0.227877\n",
      "[960]\ttrain's rmse: 0.222086\tvalid's rmse: 0.227862\n",
      "[980]\ttrain's rmse: 0.221957\tvalid's rmse: 0.227843\n",
      "[1000]\ttrain's rmse: 0.221834\tvalid's rmse: 0.227821\n",
      "[1020]\ttrain's rmse: 0.221716\tvalid's rmse: 0.227806\n",
      "[1040]\ttrain's rmse: 0.221612\tvalid's rmse: 0.227798\n",
      "[1060]\ttrain's rmse: 0.221519\tvalid's rmse: 0.227786\n",
      "[1080]\ttrain's rmse: 0.221406\tvalid's rmse: 0.227769\n",
      "[1100]\ttrain's rmse: 0.221287\tvalid's rmse: 0.227746\n",
      "[1120]\ttrain's rmse: 0.221188\tvalid's rmse: 0.227748\n",
      "[1140]\ttrain's rmse: 0.221078\tvalid's rmse: 0.227737\n",
      "[1160]\ttrain's rmse: 0.220984\tvalid's rmse: 0.227725\n",
      "[1180]\ttrain's rmse: 0.220868\tvalid's rmse: 0.227712\n",
      "[1200]\ttrain's rmse: 0.220757\tvalid's rmse: 0.227696\n",
      "[1220]\ttrain's rmse: 0.220659\tvalid's rmse: 0.227682\n",
      "[1240]\ttrain's rmse: 0.22056\tvalid's rmse: 0.227674\n",
      "[1260]\ttrain's rmse: 0.220465\tvalid's rmse: 0.227668\n",
      "[1280]\ttrain's rmse: 0.220368\tvalid's rmse: 0.22767\n",
      "[1300]\ttrain's rmse: 0.220267\tvalid's rmse: 0.227662\n",
      "[1320]\ttrain's rmse: 0.220154\tvalid's rmse: 0.227655\n",
      "[1340]\ttrain's rmse: 0.220034\tvalid's rmse: 0.227641\n",
      "[1360]\ttrain's rmse: 0.219933\tvalid's rmse: 0.22762\n",
      "[1380]\ttrain's rmse: 0.219831\tvalid's rmse: 0.227613\n",
      "[1400]\ttrain's rmse: 0.219739\tvalid's rmse: 0.227607\n",
      "[1420]\ttrain's rmse: 0.219651\tvalid's rmse: 0.227598\n",
      "[1440]\ttrain's rmse: 0.219563\tvalid's rmse: 0.227591\n",
      "[1460]\ttrain's rmse: 0.219463\tvalid's rmse: 0.227571\n",
      "[1480]\ttrain's rmse: 0.219353\tvalid's rmse: 0.227554\n",
      "[1500]\ttrain's rmse: 0.219252\tvalid's rmse: 0.227539\n",
      "[1520]\ttrain's rmse: 0.219159\tvalid's rmse: 0.227539\n",
      "[1540]\ttrain's rmse: 0.21904\tvalid's rmse: 0.227524\n",
      "[1560]\ttrain's rmse: 0.218937\tvalid's rmse: 0.22752\n",
      "[1580]\ttrain's rmse: 0.21884\tvalid's rmse: 0.227513\n",
      "[1600]\ttrain's rmse: 0.218747\tvalid's rmse: 0.227508\n",
      "[1620]\ttrain's rmse: 0.218655\tvalid's rmse: 0.227504\n",
      "[1640]\ttrain's rmse: 0.21857\tvalid's rmse: 0.2275\n",
      "[1660]\ttrain's rmse: 0.218474\tvalid's rmse: 0.227496\n",
      "[1680]\ttrain's rmse: 0.218374\tvalid's rmse: 0.227488\n",
      "[1700]\ttrain's rmse: 0.218281\tvalid's rmse: 0.227483\n",
      "[1720]\ttrain's rmse: 0.218181\tvalid's rmse: 0.227474\n",
      "[1740]\ttrain's rmse: 0.218102\tvalid's rmse: 0.227474\n",
      "[1760]\ttrain's rmse: 0.217993\tvalid's rmse: 0.227463\n",
      "[1780]\ttrain's rmse: 0.21789\tvalid's rmse: 0.227459\n",
      "[1800]\ttrain's rmse: 0.217797\tvalid's rmse: 0.227455\n",
      "[1820]\ttrain's rmse: 0.217693\tvalid's rmse: 0.227454\n",
      "[1840]\ttrain's rmse: 0.217587\tvalid's rmse: 0.227445\n",
      "[1860]\ttrain's rmse: 0.217506\tvalid's rmse: 0.227438\n",
      "[1880]\ttrain's rmse: 0.217429\tvalid's rmse: 0.227433\n",
      "[1900]\ttrain's rmse: 0.217348\tvalid's rmse: 0.227433\n",
      "[1920]\ttrain's rmse: 0.217253\tvalid's rmse: 0.227433\n",
      "[1940]\ttrain's rmse: 0.217159\tvalid's rmse: 0.227421\n",
      "[1960]\ttrain's rmse: 0.217072\tvalid's rmse: 0.227416\n",
      "[1980]\ttrain's rmse: 0.216956\tvalid's rmse: 0.227386\n",
      "[2000]\ttrain's rmse: 0.216861\tvalid's rmse: 0.227381\n",
      "[2020]\ttrain's rmse: 0.216769\tvalid's rmse: 0.227373\n",
      "[2040]\ttrain's rmse: 0.21667\tvalid's rmse: 0.22737\n",
      "[2060]\ttrain's rmse: 0.216588\tvalid's rmse: 0.227363\n",
      "[2080]\ttrain's rmse: 0.216506\tvalid's rmse: 0.227357\n",
      "[2100]\ttrain's rmse: 0.216404\tvalid's rmse: 0.227357\n",
      "[2120]\ttrain's rmse: 0.216317\tvalid's rmse: 0.227354\n",
      "[2140]\ttrain's rmse: 0.216225\tvalid's rmse: 0.227356\n",
      "[2160]\ttrain's rmse: 0.216133\tvalid's rmse: 0.227353\n",
      "[2180]\ttrain's rmse: 0.216043\tvalid's rmse: 0.22735\n",
      "[2200]\ttrain's rmse: 0.21596\tvalid's rmse: 0.227346\n",
      "[2220]\ttrain's rmse: 0.215882\tvalid's rmse: 0.22734\n",
      "[2240]\ttrain's rmse: 0.215807\tvalid's rmse: 0.227338\n",
      "[2260]\ttrain's rmse: 0.215719\tvalid's rmse: 0.227342\n",
      "[2280]\ttrain's rmse: 0.215629\tvalid's rmse: 0.227335\n",
      "[2300]\ttrain's rmse: 0.215528\tvalid's rmse: 0.227328\n",
      "[2320]\ttrain's rmse: 0.215439\tvalid's rmse: 0.22732\n",
      "[2340]\ttrain's rmse: 0.215349\tvalid's rmse: 0.227322\n",
      "[2360]\ttrain's rmse: 0.215259\tvalid's rmse: 0.227318\n",
      "[2380]\ttrain's rmse: 0.215173\tvalid's rmse: 0.227318\n",
      "[2400]\ttrain's rmse: 0.215082\tvalid's rmse: 0.227314\n",
      "[2420]\ttrain's rmse: 0.214994\tvalid's rmse: 0.227322\n",
      "[2440]\ttrain's rmse: 0.214914\tvalid's rmse: 0.227317\n",
      "[2460]\ttrain's rmse: 0.214821\tvalid's rmse: 0.227314\n",
      "[2480]\ttrain's rmse: 0.214731\tvalid's rmse: 0.227308\n",
      "[2500]\ttrain's rmse: 0.214645\tvalid's rmse: 0.227308\n",
      "[2520]\ttrain's rmse: 0.214555\tvalid's rmse: 0.227305\n",
      "[2540]\ttrain's rmse: 0.214468\tvalid's rmse: 0.227307\n",
      "[2560]\ttrain's rmse: 0.214376\tvalid's rmse: 0.227306\n",
      "[2580]\ttrain's rmse: 0.214289\tvalid's rmse: 0.227303\n",
      "[2600]\ttrain's rmse: 0.214203\tvalid's rmse: 0.227302\n",
      "[2620]\ttrain's rmse: 0.214119\tvalid's rmse: 0.227305\n",
      "[2640]\ttrain's rmse: 0.214024\tvalid's rmse: 0.227305\n",
      "[2660]\ttrain's rmse: 0.213917\tvalid's rmse: 0.2273\n",
      "[2680]\ttrain's rmse: 0.213836\tvalid's rmse: 0.227304\n",
      "[2700]\ttrain's rmse: 0.21375\tvalid's rmse: 0.2273\n",
      "[2720]\ttrain's rmse: 0.213667\tvalid's rmse: 0.227298\n",
      "[2740]\ttrain's rmse: 0.213587\tvalid's rmse: 0.2273\n",
      "[2760]\ttrain's rmse: 0.213507\tvalid's rmse: 0.227293\n",
      "[2780]\ttrain's rmse: 0.213426\tvalid's rmse: 0.227288\n",
      "[2800]\ttrain's rmse: 0.213339\tvalid's rmse: 0.227283\n",
      "[2820]\ttrain's rmse: 0.213261\tvalid's rmse: 0.227281\n",
      "[2840]\ttrain's rmse: 0.213185\tvalid's rmse: 0.227283\n",
      "[2860]\ttrain's rmse: 0.213102\tvalid's rmse: 0.227278\n",
      "[2880]\ttrain's rmse: 0.21302\tvalid's rmse: 0.227271\n",
      "[2900]\ttrain's rmse: 0.212933\tvalid's rmse: 0.227267\n",
      "[2920]\ttrain's rmse: 0.212846\tvalid's rmse: 0.227263\n",
      "[2940]\ttrain's rmse: 0.212762\tvalid's rmse: 0.227255\n",
      "[2960]\ttrain's rmse: 0.212674\tvalid's rmse: 0.227252\n",
      "[2980]\ttrain's rmse: 0.212589\tvalid's rmse: 0.227247\n",
      "[3000]\ttrain's rmse: 0.2125\tvalid's rmse: 0.227243\n",
      "[3020]\ttrain's rmse: 0.212416\tvalid's rmse: 0.227244\n",
      "[3040]\ttrain's rmse: 0.212332\tvalid's rmse: 0.227247\n",
      "[3060]\ttrain's rmse: 0.212251\tvalid's rmse: 0.22725\n",
      "[3080]\ttrain's rmse: 0.21218\tvalid's rmse: 0.22725\n",
      "Early stopping, best iteration is:\n",
      "[2995]\ttrain's rmse: 0.21252\tvalid's rmse: 0.22724\n",
      "Done modeling...\n",
      "Generating predictions....\n"
     ]
    },
    {
     "name": "stderr",
     "output_type": "stream",
     "text": [
      "C:\\Program Files\\Anaconda\\lib\\site-packages\\ipykernel_launcher.py:19: SettingWithCopyWarning: \n",
      "A value is trying to be set on a copy of a slice from a DataFrame.\n",
      "Try using .loc[row_indexer,col_indexer] = value instead\n",
      "\n",
      "See the caveats in the documentation: http://pandas.pydata.org/pandas-docs/stable/indexing.html#indexing-view-versus-copy\n"
     ]
    },
    {
     "name": "stdout",
     "output_type": "stream",
     "text": [
      "Modeling for 2_fold\n",
      "Training until validation scores don't improve for 100 rounds.\n",
      "[20]\ttrain's rmse: 0.235209\tvalid's rmse: 0.235239\n",
      "[40]\ttrain's rmse: 0.232533\tvalid's rmse: 0.232869\n",
      "[60]\ttrain's rmse: 0.231413\tvalid's rmse: 0.23193\n",
      "[80]\ttrain's rmse: 0.230648\tvalid's rmse: 0.231283\n",
      "[100]\ttrain's rmse: 0.230154\tvalid's rmse: 0.230922\n",
      "[120]\ttrain's rmse: 0.229643\tvalid's rmse: 0.23053\n",
      "[140]\ttrain's rmse: 0.229282\tvalid's rmse: 0.230296\n",
      "[160]\ttrain's rmse: 0.228951\tvalid's rmse: 0.230086\n",
      "[180]\ttrain's rmse: 0.228582\tvalid's rmse: 0.229837\n",
      "[200]\ttrain's rmse: 0.228348\tvalid's rmse: 0.229726\n",
      "[220]\ttrain's rmse: 0.228081\tvalid's rmse: 0.229578\n",
      "[240]\ttrain's rmse: 0.227791\tvalid's rmse: 0.229434\n",
      "[260]\ttrain's rmse: 0.227556\tvalid's rmse: 0.229299\n",
      "[280]\ttrain's rmse: 0.227367\tvalid's rmse: 0.229223\n",
      "[300]\ttrain's rmse: 0.22715\tvalid's rmse: 0.22912\n",
      "[320]\ttrain's rmse: 0.226933\tvalid's rmse: 0.22904\n",
      "[340]\ttrain's rmse: 0.226715\tvalid's rmse: 0.228953\n",
      "[360]\ttrain's rmse: 0.226525\tvalid's rmse: 0.228879\n",
      "[380]\ttrain's rmse: 0.226333\tvalid's rmse: 0.228823\n",
      "[400]\ttrain's rmse: 0.22614\tvalid's rmse: 0.228743\n",
      "[420]\ttrain's rmse: 0.22595\tvalid's rmse: 0.228679\n",
      "[440]\ttrain's rmse: 0.225775\tvalid's rmse: 0.228628\n",
      "[460]\ttrain's rmse: 0.225616\tvalid's rmse: 0.228583\n",
      "[480]\ttrain's rmse: 0.225443\tvalid's rmse: 0.228527\n",
      "[500]\ttrain's rmse: 0.225274\tvalid's rmse: 0.228475\n",
      "[520]\ttrain's rmse: 0.225134\tvalid's rmse: 0.22844\n",
      "[540]\ttrain's rmse: 0.225\tvalid's rmse: 0.228409\n",
      "[560]\ttrain's rmse: 0.224852\tvalid's rmse: 0.228378\n",
      "[580]\ttrain's rmse: 0.224716\tvalid's rmse: 0.228349\n",
      "[600]\ttrain's rmse: 0.224572\tvalid's rmse: 0.228309\n",
      "[620]\ttrain's rmse: 0.224423\tvalid's rmse: 0.228267\n",
      "[640]\ttrain's rmse: 0.224292\tvalid's rmse: 0.228246\n",
      "[660]\ttrain's rmse: 0.224137\tvalid's rmse: 0.22821\n",
      "[680]\ttrain's rmse: 0.223975\tvalid's rmse: 0.228161\n",
      "[700]\ttrain's rmse: 0.223856\tvalid's rmse: 0.228139\n",
      "[720]\ttrain's rmse: 0.223734\tvalid's rmse: 0.22812\n",
      "[740]\ttrain's rmse: 0.223608\tvalid's rmse: 0.228104\n",
      "[760]\ttrain's rmse: 0.223471\tvalid's rmse: 0.228075\n",
      "[780]\ttrain's rmse: 0.223349\tvalid's rmse: 0.228057\n",
      "[800]\ttrain's rmse: 0.223202\tvalid's rmse: 0.228024\n",
      "[820]\ttrain's rmse: 0.223073\tvalid's rmse: 0.228007\n",
      "[840]\ttrain's rmse: 0.22295\tvalid's rmse: 0.227986\n",
      "[860]\ttrain's rmse: 0.222823\tvalid's rmse: 0.227973\n",
      "[880]\ttrain's rmse: 0.222703\tvalid's rmse: 0.227945\n",
      "[900]\ttrain's rmse: 0.222593\tvalid's rmse: 0.22793\n",
      "[920]\ttrain's rmse: 0.222484\tvalid's rmse: 0.22792\n",
      "[940]\ttrain's rmse: 0.222344\tvalid's rmse: 0.227889\n",
      "[960]\ttrain's rmse: 0.222235\tvalid's rmse: 0.227883\n",
      "[980]\ttrain's rmse: 0.222132\tvalid's rmse: 0.227871\n",
      "[1000]\ttrain's rmse: 0.221998\tvalid's rmse: 0.227842\n",
      "[1020]\ttrain's rmse: 0.22186\tvalid's rmse: 0.227808\n",
      "[1040]\ttrain's rmse: 0.221739\tvalid's rmse: 0.227801\n",
      "[1060]\ttrain's rmse: 0.221624\tvalid's rmse: 0.227785\n",
      "[1080]\ttrain's rmse: 0.221496\tvalid's rmse: 0.227763\n",
      "[1100]\ttrain's rmse: 0.22139\tvalid's rmse: 0.227756\n",
      "[1120]\ttrain's rmse: 0.221267\tvalid's rmse: 0.227728\n",
      "[1140]\ttrain's rmse: 0.221147\tvalid's rmse: 0.227702\n",
      "[1160]\ttrain's rmse: 0.221038\tvalid's rmse: 0.227689\n",
      "[1180]\ttrain's rmse: 0.220919\tvalid's rmse: 0.227668\n",
      "[1200]\ttrain's rmse: 0.220796\tvalid's rmse: 0.227648\n",
      "[1220]\ttrain's rmse: 0.220683\tvalid's rmse: 0.227634\n",
      "[1240]\ttrain's rmse: 0.220573\tvalid's rmse: 0.227616\n",
      "[1260]\ttrain's rmse: 0.220454\tvalid's rmse: 0.227605\n",
      "[1280]\ttrain's rmse: 0.220315\tvalid's rmse: 0.22757\n",
      "[1300]\ttrain's rmse: 0.22019\tvalid's rmse: 0.227545\n",
      "[1320]\ttrain's rmse: 0.220082\tvalid's rmse: 0.227529\n",
      "[1340]\ttrain's rmse: 0.219983\tvalid's rmse: 0.227519\n",
      "[1360]\ttrain's rmse: 0.219884\tvalid's rmse: 0.227507\n",
      "[1380]\ttrain's rmse: 0.219771\tvalid's rmse: 0.227488\n",
      "[1400]\ttrain's rmse: 0.219662\tvalid's rmse: 0.227478\n",
      "[1420]\ttrain's rmse: 0.219547\tvalid's rmse: 0.227463\n",
      "[1440]\ttrain's rmse: 0.219438\tvalid's rmse: 0.227452\n",
      "[1460]\ttrain's rmse: 0.219338\tvalid's rmse: 0.227439\n",
      "[1480]\ttrain's rmse: 0.21924\tvalid's rmse: 0.227435\n",
      "[1500]\ttrain's rmse: 0.219143\tvalid's rmse: 0.227421\n",
      "[1520]\ttrain's rmse: 0.219041\tvalid's rmse: 0.227405\n",
      "[1540]\ttrain's rmse: 0.218934\tvalid's rmse: 0.227402\n",
      "[1560]\ttrain's rmse: 0.218836\tvalid's rmse: 0.227389\n",
      "[1580]\ttrain's rmse: 0.218734\tvalid's rmse: 0.227377\n",
      "[1600]\ttrain's rmse: 0.218629\tvalid's rmse: 0.22736\n",
      "[1620]\ttrain's rmse: 0.218522\tvalid's rmse: 0.227343\n",
      "[1640]\ttrain's rmse: 0.218413\tvalid's rmse: 0.227339\n",
      "[1660]\ttrain's rmse: 0.218305\tvalid's rmse: 0.227313\n",
      "[1680]\ttrain's rmse: 0.218217\tvalid's rmse: 0.227305\n",
      "[1700]\ttrain's rmse: 0.218124\tvalid's rmse: 0.227297\n",
      "[1720]\ttrain's rmse: 0.218032\tvalid's rmse: 0.227289\n",
      "[1740]\ttrain's rmse: 0.217939\tvalid's rmse: 0.227277\n",
      "[1760]\ttrain's rmse: 0.217829\tvalid's rmse: 0.227265\n",
      "[1780]\ttrain's rmse: 0.217726\tvalid's rmse: 0.22725\n",
      "[1800]\ttrain's rmse: 0.217627\tvalid's rmse: 0.227243\n",
      "[1820]\ttrain's rmse: 0.217525\tvalid's rmse: 0.227228\n",
      "[1840]\ttrain's rmse: 0.217424\tvalid's rmse: 0.227216\n",
      "[1860]\ttrain's rmse: 0.217338\tvalid's rmse: 0.227211\n",
      "[1880]\ttrain's rmse: 0.217228\tvalid's rmse: 0.227197\n",
      "[1900]\ttrain's rmse: 0.217138\tvalid's rmse: 0.227193\n",
      "[1920]\ttrain's rmse: 0.217051\tvalid's rmse: 0.227187\n",
      "[1940]\ttrain's rmse: 0.216956\tvalid's rmse: 0.227185\n",
      "[1960]\ttrain's rmse: 0.216854\tvalid's rmse: 0.227183\n",
      "[1980]\ttrain's rmse: 0.216762\tvalid's rmse: 0.227174\n",
      "[2000]\ttrain's rmse: 0.216662\tvalid's rmse: 0.227166\n",
      "[2020]\ttrain's rmse: 0.216562\tvalid's rmse: 0.227161\n",
      "[2040]\ttrain's rmse: 0.216471\tvalid's rmse: 0.227152\n",
      "[2060]\ttrain's rmse: 0.216374\tvalid's rmse: 0.227137\n",
      "[2080]\ttrain's rmse: 0.216295\tvalid's rmse: 0.227136\n",
      "[2100]\ttrain's rmse: 0.216218\tvalid's rmse: 0.227133\n",
      "[2120]\ttrain's rmse: 0.216129\tvalid's rmse: 0.227132\n",
      "[2140]\ttrain's rmse: 0.216025\tvalid's rmse: 0.227125\n",
      "[2160]\ttrain's rmse: 0.215927\tvalid's rmse: 0.227121\n",
      "[2180]\ttrain's rmse: 0.215832\tvalid's rmse: 0.227122\n",
      "[2200]\ttrain's rmse: 0.215759\tvalid's rmse: 0.22712\n",
      "[2220]\ttrain's rmse: 0.215667\tvalid's rmse: 0.227113\n",
      "[2240]\ttrain's rmse: 0.215577\tvalid's rmse: 0.227106\n",
      "[2260]\ttrain's rmse: 0.215487\tvalid's rmse: 0.227101\n",
      "[2280]\ttrain's rmse: 0.21539\tvalid's rmse: 0.227097\n",
      "[2300]\ttrain's rmse: 0.215306\tvalid's rmse: 0.227099\n",
      "[2320]\ttrain's rmse: 0.215203\tvalid's rmse: 0.227089\n",
      "[2340]\ttrain's rmse: 0.215112\tvalid's rmse: 0.227091\n",
      "[2360]\ttrain's rmse: 0.215025\tvalid's rmse: 0.22708\n",
      "[2380]\ttrain's rmse: 0.214944\tvalid's rmse: 0.227078\n",
      "[2400]\ttrain's rmse: 0.214867\tvalid's rmse: 0.227078\n",
      "[2420]\ttrain's rmse: 0.214777\tvalid's rmse: 0.227078\n",
      "[2440]\ttrain's rmse: 0.214695\tvalid's rmse: 0.22708\n",
      "[2460]\ttrain's rmse: 0.214602\tvalid's rmse: 0.227077\n",
      "[2480]\ttrain's rmse: 0.214516\tvalid's rmse: 0.227076\n",
      "[2500]\ttrain's rmse: 0.214434\tvalid's rmse: 0.227081\n",
      "[2520]\ttrain's rmse: 0.214345\tvalid's rmse: 0.227084\n",
      "[2540]\ttrain's rmse: 0.214264\tvalid's rmse: 0.227081\n",
      "Early stopping, best iteration is:\n",
      "[2453]\ttrain's rmse: 0.214635\tvalid's rmse: 0.227073\n",
      "Done modeling...\n",
      "Generating predictions....\n",
      "Modeling for 3_fold\n",
      "Training until validation scores don't improve for 100 rounds.\n",
      "[20]\ttrain's rmse: 0.235391\tvalid's rmse: 0.235058\n",
      "[40]\ttrain's rmse: 0.232586\tvalid's rmse: 0.232487\n",
      "[60]\ttrain's rmse: 0.231504\tvalid's rmse: 0.231511\n",
      "[80]\ttrain's rmse: 0.230723\tvalid's rmse: 0.23082\n",
      "[100]\ttrain's rmse: 0.230125\tvalid's rmse: 0.230314\n",
      "[120]\ttrain's rmse: 0.229677\tvalid's rmse: 0.229984\n",
      "[140]\ttrain's rmse: 0.229292\tvalid's rmse: 0.229707\n",
      "[160]\ttrain's rmse: 0.228988\tvalid's rmse: 0.229529\n",
      "[180]\ttrain's rmse: 0.228666\tvalid's rmse: 0.229326\n",
      "[200]\ttrain's rmse: 0.228359\tvalid's rmse: 0.229137\n",
      "[220]\ttrain's rmse: 0.228121\tvalid's rmse: 0.229011\n",
      "[240]\ttrain's rmse: 0.227836\tvalid's rmse: 0.228839\n",
      "[260]\ttrain's rmse: 0.227588\tvalid's rmse: 0.228721\n",
      "[280]\ttrain's rmse: 0.227399\tvalid's rmse: 0.228648\n",
      "[300]\ttrain's rmse: 0.227245\tvalid's rmse: 0.228598\n",
      "[320]\ttrain's rmse: 0.22702\tvalid's rmse: 0.22848\n",
      "[340]\ttrain's rmse: 0.22682\tvalid's rmse: 0.228392\n",
      "[360]\ttrain's rmse: 0.22661\tvalid's rmse: 0.228314\n",
      "[380]\ttrain's rmse: 0.226443\tvalid's rmse: 0.22826\n",
      "[400]\ttrain's rmse: 0.226288\tvalid's rmse: 0.228228\n",
      "[420]\ttrain's rmse: 0.226118\tvalid's rmse: 0.228167\n",
      "[440]\ttrain's rmse: 0.225952\tvalid's rmse: 0.228127\n",
      "[460]\ttrain's rmse: 0.225797\tvalid's rmse: 0.228083\n",
      "[480]\ttrain's rmse: 0.225619\tvalid's rmse: 0.228009\n",
      "[500]\ttrain's rmse: 0.225458\tvalid's rmse: 0.227967\n",
      "[520]\ttrain's rmse: 0.225283\tvalid's rmse: 0.227916\n",
      "[540]\ttrain's rmse: 0.225125\tvalid's rmse: 0.22788\n",
      "[560]\ttrain's rmse: 0.224972\tvalid's rmse: 0.227849\n",
      "[580]\ttrain's rmse: 0.224812\tvalid's rmse: 0.227795\n",
      "[600]\ttrain's rmse: 0.224643\tvalid's rmse: 0.227739\n",
      "[620]\ttrain's rmse: 0.224499\tvalid's rmse: 0.227715\n",
      "[640]\ttrain's rmse: 0.224368\tvalid's rmse: 0.227686\n",
      "[660]\ttrain's rmse: 0.224258\tvalid's rmse: 0.227662\n",
      "[680]\ttrain's rmse: 0.224107\tvalid's rmse: 0.227623\n",
      "[700]\ttrain's rmse: 0.223986\tvalid's rmse: 0.227607\n",
      "[720]\ttrain's rmse: 0.223851\tvalid's rmse: 0.227595\n",
      "[740]\ttrain's rmse: 0.223711\tvalid's rmse: 0.227562\n",
      "[760]\ttrain's rmse: 0.223569\tvalid's rmse: 0.227541\n",
      "[780]\ttrain's rmse: 0.22344\tvalid's rmse: 0.22752\n",
      "[800]\ttrain's rmse: 0.223296\tvalid's rmse: 0.227475\n",
      "[820]\ttrain's rmse: 0.223157\tvalid's rmse: 0.227438\n",
      "[840]\ttrain's rmse: 0.22305\tvalid's rmse: 0.227425\n",
      "[860]\ttrain's rmse: 0.222938\tvalid's rmse: 0.227413\n",
      "[880]\ttrain's rmse: 0.222817\tvalid's rmse: 0.227388\n",
      "[900]\ttrain's rmse: 0.222677\tvalid's rmse: 0.227356\n",
      "[920]\ttrain's rmse: 0.222558\tvalid's rmse: 0.227345\n",
      "[940]\ttrain's rmse: 0.22243\tvalid's rmse: 0.227328\n",
      "[960]\ttrain's rmse: 0.222311\tvalid's rmse: 0.227319\n",
      "[980]\ttrain's rmse: 0.222197\tvalid's rmse: 0.227312\n",
      "[1000]\ttrain's rmse: 0.222091\tvalid's rmse: 0.227286\n",
      "[1020]\ttrain's rmse: 0.221954\tvalid's rmse: 0.227268\n",
      "[1040]\ttrain's rmse: 0.221844\tvalid's rmse: 0.227253\n",
      "[1060]\ttrain's rmse: 0.221731\tvalid's rmse: 0.227232\n",
      "[1080]\ttrain's rmse: 0.221595\tvalid's rmse: 0.227215\n",
      "[1100]\ttrain's rmse: 0.221477\tvalid's rmse: 0.227204\n",
      "[1120]\ttrain's rmse: 0.221353\tvalid's rmse: 0.227186\n",
      "[1140]\ttrain's rmse: 0.221236\tvalid's rmse: 0.22717\n",
      "[1160]\ttrain's rmse: 0.221143\tvalid's rmse: 0.22716\n",
      "[1180]\ttrain's rmse: 0.221024\tvalid's rmse: 0.22715\n",
      "[1200]\ttrain's rmse: 0.220909\tvalid's rmse: 0.227131\n",
      "[1220]\ttrain's rmse: 0.220789\tvalid's rmse: 0.22711\n",
      "[1240]\ttrain's rmse: 0.220682\tvalid's rmse: 0.227104\n",
      "[1260]\ttrain's rmse: 0.220572\tvalid's rmse: 0.227093\n",
      "[1280]\ttrain's rmse: 0.220464\tvalid's rmse: 0.227086\n",
      "[1300]\ttrain's rmse: 0.220354\tvalid's rmse: 0.227069\n",
      "[1320]\ttrain's rmse: 0.220258\tvalid's rmse: 0.227056\n",
      "[1340]\ttrain's rmse: 0.22016\tvalid's rmse: 0.227054\n",
      "[1360]\ttrain's rmse: 0.220054\tvalid's rmse: 0.227046\n",
      "[1380]\ttrain's rmse: 0.219954\tvalid's rmse: 0.22704\n",
      "[1400]\ttrain's rmse: 0.219856\tvalid's rmse: 0.227038\n",
      "[1420]\ttrain's rmse: 0.219755\tvalid's rmse: 0.227032\n",
      "[1440]\ttrain's rmse: 0.219653\tvalid's rmse: 0.227025\n",
      "[1460]\ttrain's rmse: 0.219548\tvalid's rmse: 0.227025\n",
      "[1480]\ttrain's rmse: 0.219441\tvalid's rmse: 0.227018\n",
      "[1500]\ttrain's rmse: 0.219328\tvalid's rmse: 0.227001\n",
      "[1520]\ttrain's rmse: 0.219227\tvalid's rmse: 0.226987\n",
      "[1540]\ttrain's rmse: 0.219118\tvalid's rmse: 0.226978\n",
      "[1560]\ttrain's rmse: 0.219\tvalid's rmse: 0.226963\n",
      "[1580]\ttrain's rmse: 0.218906\tvalid's rmse: 0.226961\n",
      "[1600]\ttrain's rmse: 0.218803\tvalid's rmse: 0.226953\n",
      "[1620]\ttrain's rmse: 0.21871\tvalid's rmse: 0.226957\n",
      "[1640]\ttrain's rmse: 0.218621\tvalid's rmse: 0.226957\n",
      "[1660]\ttrain's rmse: 0.218516\tvalid's rmse: 0.226949\n",
      "[1680]\ttrain's rmse: 0.218429\tvalid's rmse: 0.226943\n",
      "[1700]\ttrain's rmse: 0.218339\tvalid's rmse: 0.226941\n",
      "[1720]\ttrain's rmse: 0.21825\tvalid's rmse: 0.226936\n",
      "[1740]\ttrain's rmse: 0.21815\tvalid's rmse: 0.226925\n",
      "[1760]\ttrain's rmse: 0.218053\tvalid's rmse: 0.226916\n",
      "[1780]\ttrain's rmse: 0.217957\tvalid's rmse: 0.226916\n",
      "[1800]\ttrain's rmse: 0.217864\tvalid's rmse: 0.226917\n",
      "[1820]\ttrain's rmse: 0.217762\tvalid's rmse: 0.226912\n",
      "[1840]\ttrain's rmse: 0.217663\tvalid's rmse: 0.226901\n",
      "[1860]\ttrain's rmse: 0.217577\tvalid's rmse: 0.226901\n",
      "[1880]\ttrain's rmse: 0.217489\tvalid's rmse: 0.226893\n",
      "[1900]\ttrain's rmse: 0.217396\tvalid's rmse: 0.226892\n",
      "[1920]\ttrain's rmse: 0.217299\tvalid's rmse: 0.226892\n",
      "[1940]\ttrain's rmse: 0.217204\tvalid's rmse: 0.226892\n",
      "[1960]\ttrain's rmse: 0.217096\tvalid's rmse: 0.226885\n",
      "[1980]\ttrain's rmse: 0.217007\tvalid's rmse: 0.226886\n",
      "[2000]\ttrain's rmse: 0.216913\tvalid's rmse: 0.226889\n",
      "[2020]\ttrain's rmse: 0.216819\tvalid's rmse: 0.226882\n",
      "[2040]\ttrain's rmse: 0.216718\tvalid's rmse: 0.226875\n",
      "[2060]\ttrain's rmse: 0.216627\tvalid's rmse: 0.226869\n",
      "[2080]\ttrain's rmse: 0.216531\tvalid's rmse: 0.226867\n",
      "[2100]\ttrain's rmse: 0.216453\tvalid's rmse: 0.226866\n",
      "[2120]\ttrain's rmse: 0.216364\tvalid's rmse: 0.226864\n",
      "[2140]\ttrain's rmse: 0.216281\tvalid's rmse: 0.226857\n",
      "[2160]\ttrain's rmse: 0.216195\tvalid's rmse: 0.226851\n",
      "[2180]\ttrain's rmse: 0.216112\tvalid's rmse: 0.226847\n",
      "[2200]\ttrain's rmse: 0.216016\tvalid's rmse: 0.226838\n",
      "[2220]\ttrain's rmse: 0.215927\tvalid's rmse: 0.226836\n",
      "[2240]\ttrain's rmse: 0.215851\tvalid's rmse: 0.226835\n",
      "[2260]\ttrain's rmse: 0.215769\tvalid's rmse: 0.22683\n",
      "[2280]\ttrain's rmse: 0.215686\tvalid's rmse: 0.226828\n",
      "[2300]\ttrain's rmse: 0.215592\tvalid's rmse: 0.226828\n",
      "[2320]\ttrain's rmse: 0.215518\tvalid's rmse: 0.226834\n",
      "[2340]\ttrain's rmse: 0.215428\tvalid's rmse: 0.226835\n",
      "[2360]\ttrain's rmse: 0.215352\tvalid's rmse: 0.226844\n",
      "Early stopping, best iteration is:\n",
      "[2268]\ttrain's rmse: 0.215738\tvalid's rmse: 0.226825\n",
      "Done modeling...\n",
      "Generating predictions....\n",
      "Modeling for 4_fold\n",
      "Training until validation scores don't improve for 100 rounds.\n",
      "[20]\ttrain's rmse: 0.235253\tvalid's rmse: 0.235624\n",
      "[40]\ttrain's rmse: 0.232592\tvalid's rmse: 0.232951\n",
      "[60]\ttrain's rmse: 0.231398\tvalid's rmse: 0.231858\n",
      "[80]\ttrain's rmse: 0.230599\tvalid's rmse: 0.23116\n",
      "[100]\ttrain's rmse: 0.230065\tvalid's rmse: 0.230734\n",
      "[120]\ttrain's rmse: 0.229606\tvalid's rmse: 0.230395\n",
      "[140]\ttrain's rmse: 0.229278\tvalid's rmse: 0.230181\n",
      "[160]\ttrain's rmse: 0.228938\tvalid's rmse: 0.229952\n",
      "[180]\ttrain's rmse: 0.228667\tvalid's rmse: 0.229804\n",
      "[200]\ttrain's rmse: 0.22838\tvalid's rmse: 0.229627\n",
      "[220]\ttrain's rmse: 0.228151\tvalid's rmse: 0.229504\n",
      "[240]\ttrain's rmse: 0.227903\tvalid's rmse: 0.229395\n",
      "[260]\ttrain's rmse: 0.227684\tvalid's rmse: 0.229307\n",
      "[280]\ttrain's rmse: 0.227416\tvalid's rmse: 0.22916\n",
      "[300]\ttrain's rmse: 0.227196\tvalid's rmse: 0.229049\n",
      "[320]\ttrain's rmse: 0.227016\tvalid's rmse: 0.228981\n",
      "[340]\ttrain's rmse: 0.226807\tvalid's rmse: 0.2289\n",
      "[360]\ttrain's rmse: 0.226624\tvalid's rmse: 0.228833\n",
      "[380]\ttrain's rmse: 0.226457\tvalid's rmse: 0.228768\n",
      "[400]\ttrain's rmse: 0.226253\tvalid's rmse: 0.228684\n",
      "[420]\ttrain's rmse: 0.226077\tvalid's rmse: 0.228625\n",
      "[440]\ttrain's rmse: 0.225927\tvalid's rmse: 0.228584\n",
      "[460]\ttrain's rmse: 0.225751\tvalid's rmse: 0.228505\n",
      "[480]\ttrain's rmse: 0.225612\tvalid's rmse: 0.228479\n",
      "[500]\ttrain's rmse: 0.225457\tvalid's rmse: 0.228441\n",
      "[520]\ttrain's rmse: 0.225271\tvalid's rmse: 0.228383\n",
      "[540]\ttrain's rmse: 0.225113\tvalid's rmse: 0.228325\n",
      "[560]\ttrain's rmse: 0.224956\tvalid's rmse: 0.228283\n",
      "[580]\ttrain's rmse: 0.224806\tvalid's rmse: 0.228241\n",
      "[600]\ttrain's rmse: 0.22465\tvalid's rmse: 0.228208\n",
      "[620]\ttrain's rmse: 0.224498\tvalid's rmse: 0.228157\n",
      "[640]\ttrain's rmse: 0.224346\tvalid's rmse: 0.22811\n",
      "[660]\ttrain's rmse: 0.224215\tvalid's rmse: 0.228087\n",
      "[680]\ttrain's rmse: 0.224074\tvalid's rmse: 0.228059\n",
      "[700]\ttrain's rmse: 0.223923\tvalid's rmse: 0.228032\n",
      "[720]\ttrain's rmse: 0.223807\tvalid's rmse: 0.228011\n",
      "[740]\ttrain's rmse: 0.223676\tvalid's rmse: 0.227986\n",
      "[760]\ttrain's rmse: 0.223553\tvalid's rmse: 0.22797\n",
      "[780]\ttrain's rmse: 0.223421\tvalid's rmse: 0.227942\n",
      "[800]\ttrain's rmse: 0.223298\tvalid's rmse: 0.227912\n",
      "[820]\ttrain's rmse: 0.223157\tvalid's rmse: 0.227891\n",
      "[840]\ttrain's rmse: 0.223021\tvalid's rmse: 0.227852\n",
      "[860]\ttrain's rmse: 0.222887\tvalid's rmse: 0.22784\n",
      "[880]\ttrain's rmse: 0.222769\tvalid's rmse: 0.227818\n",
      "[900]\ttrain's rmse: 0.222625\tvalid's rmse: 0.227788\n",
      "[920]\ttrain's rmse: 0.222499\tvalid's rmse: 0.227776\n",
      "[940]\ttrain's rmse: 0.222351\tvalid's rmse: 0.227741\n",
      "[960]\ttrain's rmse: 0.222219\tvalid's rmse: 0.227718\n",
      "[980]\ttrain's rmse: 0.222114\tvalid's rmse: 0.227702\n",
      "[1000]\ttrain's rmse: 0.222\tvalid's rmse: 0.227676\n",
      "[1020]\ttrain's rmse: 0.221887\tvalid's rmse: 0.227662\n",
      "[1040]\ttrain's rmse: 0.221769\tvalid's rmse: 0.227647\n",
      "[1060]\ttrain's rmse: 0.221657\tvalid's rmse: 0.22763\n",
      "[1080]\ttrain's rmse: 0.221536\tvalid's rmse: 0.227606\n",
      "[1100]\ttrain's rmse: 0.221424\tvalid's rmse: 0.227589\n",
      "[1120]\ttrain's rmse: 0.221288\tvalid's rmse: 0.227563\n",
      "[1140]\ttrain's rmse: 0.221174\tvalid's rmse: 0.227558\n",
      "[1160]\ttrain's rmse: 0.221066\tvalid's rmse: 0.227537\n",
      "[1180]\ttrain's rmse: 0.220961\tvalid's rmse: 0.227531\n",
      "[1200]\ttrain's rmse: 0.220846\tvalid's rmse: 0.227517\n",
      "[1220]\ttrain's rmse: 0.220742\tvalid's rmse: 0.227495\n",
      "[1240]\ttrain's rmse: 0.220628\tvalid's rmse: 0.227482\n",
      "[1260]\ttrain's rmse: 0.220511\tvalid's rmse: 0.227465\n",
      "[1280]\ttrain's rmse: 0.220389\tvalid's rmse: 0.227441\n",
      "[1300]\ttrain's rmse: 0.220264\tvalid's rmse: 0.22742\n",
      "[1320]\ttrain's rmse: 0.220165\tvalid's rmse: 0.227411\n",
      "[1340]\ttrain's rmse: 0.220062\tvalid's rmse: 0.227393\n",
      "[1360]\ttrain's rmse: 0.219968\tvalid's rmse: 0.227378\n",
      "[1380]\ttrain's rmse: 0.219859\tvalid's rmse: 0.227366\n",
      "[1400]\ttrain's rmse: 0.219746\tvalid's rmse: 0.227351\n",
      "[1420]\ttrain's rmse: 0.219624\tvalid's rmse: 0.227329\n",
      "[1440]\ttrain's rmse: 0.219516\tvalid's rmse: 0.227319\n",
      "[1460]\ttrain's rmse: 0.219423\tvalid's rmse: 0.227315\n",
      "[1480]\ttrain's rmse: 0.219306\tvalid's rmse: 0.227298\n",
      "[1500]\ttrain's rmse: 0.219198\tvalid's rmse: 0.227281\n",
      "[1520]\ttrain's rmse: 0.219094\tvalid's rmse: 0.227272\n",
      "[1540]\ttrain's rmse: 0.218987\tvalid's rmse: 0.227266\n",
      "[1560]\ttrain's rmse: 0.218891\tvalid's rmse: 0.227258\n",
      "[1580]\ttrain's rmse: 0.218777\tvalid's rmse: 0.22724\n",
      "[1600]\ttrain's rmse: 0.218679\tvalid's rmse: 0.227235\n",
      "[1620]\ttrain's rmse: 0.218579\tvalid's rmse: 0.22722\n",
      "[1640]\ttrain's rmse: 0.218488\tvalid's rmse: 0.227215\n",
      "[1660]\ttrain's rmse: 0.21841\tvalid's rmse: 0.227208\n",
      "[1680]\ttrain's rmse: 0.218315\tvalid's rmse: 0.227215\n",
      "[1700]\ttrain's rmse: 0.21822\tvalid's rmse: 0.227212\n",
      "[1720]\ttrain's rmse: 0.218117\tvalid's rmse: 0.227202\n",
      "[1740]\ttrain's rmse: 0.218011\tvalid's rmse: 0.227191\n",
      "[1760]\ttrain's rmse: 0.217926\tvalid's rmse: 0.227179\n",
      "[1780]\ttrain's rmse: 0.217831\tvalid's rmse: 0.227167\n",
      "[1800]\ttrain's rmse: 0.217736\tvalid's rmse: 0.22716\n",
      "[1820]\ttrain's rmse: 0.217639\tvalid's rmse: 0.227151\n",
      "[1840]\ttrain's rmse: 0.217535\tvalid's rmse: 0.227143\n",
      "[1860]\ttrain's rmse: 0.217433\tvalid's rmse: 0.227138\n",
      "[1880]\ttrain's rmse: 0.217347\tvalid's rmse: 0.227131\n",
      "[1900]\ttrain's rmse: 0.217257\tvalid's rmse: 0.227131\n",
      "[1920]\ttrain's rmse: 0.217166\tvalid's rmse: 0.227124\n",
      "[1940]\ttrain's rmse: 0.217062\tvalid's rmse: 0.22712\n",
      "[1960]\ttrain's rmse: 0.21697\tvalid's rmse: 0.227115\n",
      "[1980]\ttrain's rmse: 0.216873\tvalid's rmse: 0.227105\n",
      "[2000]\ttrain's rmse: 0.216782\tvalid's rmse: 0.227099\n",
      "[2020]\ttrain's rmse: 0.216687\tvalid's rmse: 0.227102\n",
      "[2040]\ttrain's rmse: 0.216598\tvalid's rmse: 0.227106\n",
      "[2060]\ttrain's rmse: 0.216503\tvalid's rmse: 0.227099\n",
      "[2080]\ttrain's rmse: 0.216409\tvalid's rmse: 0.227095\n",
      "[2100]\ttrain's rmse: 0.216331\tvalid's rmse: 0.227091\n",
      "[2120]\ttrain's rmse: 0.216252\tvalid's rmse: 0.227083\n",
      "[2140]\ttrain's rmse: 0.216165\tvalid's rmse: 0.227078\n",
      "[2160]\ttrain's rmse: 0.216079\tvalid's rmse: 0.227071\n",
      "[2180]\ttrain's rmse: 0.215994\tvalid's rmse: 0.227061\n",
      "[2200]\ttrain's rmse: 0.215899\tvalid's rmse: 0.227061\n",
      "[2220]\ttrain's rmse: 0.215821\tvalid's rmse: 0.227061\n",
      "[2240]\ttrain's rmse: 0.215736\tvalid's rmse: 0.227052\n",
      "[2260]\ttrain's rmse: 0.21564\tvalid's rmse: 0.227054\n",
      "[2280]\ttrain's rmse: 0.215557\tvalid's rmse: 0.227052\n",
      "[2300]\ttrain's rmse: 0.215455\tvalid's rmse: 0.227045\n",
      "[2320]\ttrain's rmse: 0.215368\tvalid's rmse: 0.227043\n",
      "[2340]\ttrain's rmse: 0.215278\tvalid's rmse: 0.227039\n",
      "[2360]\ttrain's rmse: 0.215211\tvalid's rmse: 0.227038\n",
      "[2380]\ttrain's rmse: 0.215127\tvalid's rmse: 0.227039\n",
      "[2400]\ttrain's rmse: 0.215028\tvalid's rmse: 0.227036\n",
      "[2420]\ttrain's rmse: 0.214939\tvalid's rmse: 0.227034\n",
      "[2440]\ttrain's rmse: 0.214865\tvalid's rmse: 0.22703\n",
      "[2460]\ttrain's rmse: 0.214785\tvalid's rmse: 0.227037\n",
      "[2480]\ttrain's rmse: 0.214697\tvalid's rmse: 0.22704\n",
      "[2500]\ttrain's rmse: 0.214617\tvalid's rmse: 0.227043\n",
      "[2520]\ttrain's rmse: 0.214526\tvalid's rmse: 0.227036\n",
      "[2540]\ttrain's rmse: 0.214454\tvalid's rmse: 0.227033\n",
      "Early stopping, best iteration is:\n",
      "[2440]\ttrain's rmse: 0.214865\tvalid's rmse: 0.22703\n",
      "Done modeling...\n",
      "Generating predictions....\n",
      "Modeling for 5_fold\n",
      "Training until validation scores don't improve for 100 rounds.\n",
      "[20]\ttrain's rmse: 0.235203\tvalid's rmse: 0.235725\n",
      "[40]\ttrain's rmse: 0.232568\tvalid's rmse: 0.233018\n",
      "[60]\ttrain's rmse: 0.23149\tvalid's rmse: 0.23198\n",
      "[80]\ttrain's rmse: 0.230671\tvalid's rmse: 0.231219\n",
      "[100]\ttrain's rmse: 0.230156\tvalid's rmse: 0.230789\n",
      "[120]\ttrain's rmse: 0.229681\tvalid's rmse: 0.230404\n",
      "[140]\ttrain's rmse: 0.2293\tvalid's rmse: 0.230118\n",
      "[160]\ttrain's rmse: 0.229002\tvalid's rmse: 0.229929\n",
      "[180]\ttrain's rmse: 0.228708\tvalid's rmse: 0.229741\n",
      "[200]\ttrain's rmse: 0.228458\tvalid's rmse: 0.229592\n",
      "[220]\ttrain's rmse: 0.228174\tvalid's rmse: 0.229409\n",
      "[240]\ttrain's rmse: 0.227928\tvalid's rmse: 0.229273\n",
      "[260]\ttrain's rmse: 0.227697\tvalid's rmse: 0.229165\n",
      "[280]\ttrain's rmse: 0.227473\tvalid's rmse: 0.229057\n",
      "[300]\ttrain's rmse: 0.227247\tvalid's rmse: 0.22894\n",
      "[320]\ttrain's rmse: 0.227054\tvalid's rmse: 0.228861\n",
      "[340]\ttrain's rmse: 0.226853\tvalid's rmse: 0.228791\n",
      "[360]\ttrain's rmse: 0.226648\tvalid's rmse: 0.228692\n",
      "[380]\ttrain's rmse: 0.226437\tvalid's rmse: 0.228613\n",
      "[400]\ttrain's rmse: 0.226251\tvalid's rmse: 0.228532\n",
      "[420]\ttrain's rmse: 0.226059\tvalid's rmse: 0.228459\n",
      "[440]\ttrain's rmse: 0.225887\tvalid's rmse: 0.228407\n",
      "[460]\ttrain's rmse: 0.225698\tvalid's rmse: 0.228333\n",
      "[480]\ttrain's rmse: 0.225549\tvalid's rmse: 0.228295\n",
      "[500]\ttrain's rmse: 0.225379\tvalid's rmse: 0.228235\n",
      "[520]\ttrain's rmse: 0.225224\tvalid's rmse: 0.228182\n",
      "[540]\ttrain's rmse: 0.225037\tvalid's rmse: 0.228114\n",
      "[560]\ttrain's rmse: 0.224884\tvalid's rmse: 0.228065\n",
      "[580]\ttrain's rmse: 0.224718\tvalid's rmse: 0.228015\n",
      "[600]\ttrain's rmse: 0.224566\tvalid's rmse: 0.227984\n",
      "[620]\ttrain's rmse: 0.224427\tvalid's rmse: 0.227965\n",
      "[640]\ttrain's rmse: 0.224307\tvalid's rmse: 0.227945\n",
      "[660]\ttrain's rmse: 0.224159\tvalid's rmse: 0.227906\n",
      "[680]\ttrain's rmse: 0.224028\tvalid's rmse: 0.227877\n",
      "[700]\ttrain's rmse: 0.223901\tvalid's rmse: 0.227853\n",
      "[720]\ttrain's rmse: 0.223772\tvalid's rmse: 0.227827\n",
      "[740]\ttrain's rmse: 0.223647\tvalid's rmse: 0.227809\n",
      "[760]\ttrain's rmse: 0.223512\tvalid's rmse: 0.227778\n",
      "[780]\ttrain's rmse: 0.223361\tvalid's rmse: 0.227748\n",
      "[800]\ttrain's rmse: 0.223217\tvalid's rmse: 0.227702\n",
      "[820]\ttrain's rmse: 0.223075\tvalid's rmse: 0.227671\n",
      "[840]\ttrain's rmse: 0.22295\tvalid's rmse: 0.227656\n",
      "[860]\ttrain's rmse: 0.222822\tvalid's rmse: 0.227633\n",
      "[880]\ttrain's rmse: 0.222697\tvalid's rmse: 0.22762\n",
      "[900]\ttrain's rmse: 0.22257\tvalid's rmse: 0.227603\n",
      "[920]\ttrain's rmse: 0.222445\tvalid's rmse: 0.227576\n",
      "[940]\ttrain's rmse: 0.22233\tvalid's rmse: 0.227553\n",
      "[960]\ttrain's rmse: 0.222217\tvalid's rmse: 0.22754\n",
      "[980]\ttrain's rmse: 0.222087\tvalid's rmse: 0.227521\n",
      "[1000]\ttrain's rmse: 0.221964\tvalid's rmse: 0.227511\n",
      "[1020]\ttrain's rmse: 0.221845\tvalid's rmse: 0.227497\n",
      "[1040]\ttrain's rmse: 0.221738\tvalid's rmse: 0.227479\n",
      "[1060]\ttrain's rmse: 0.22162\tvalid's rmse: 0.22746\n",
      "[1080]\ttrain's rmse: 0.221508\tvalid's rmse: 0.227444\n",
      "[1100]\ttrain's rmse: 0.221416\tvalid's rmse: 0.227437\n",
      "[1120]\ttrain's rmse: 0.221312\tvalid's rmse: 0.227434\n",
      "[1140]\ttrain's rmse: 0.221186\tvalid's rmse: 0.227418\n",
      "[1160]\ttrain's rmse: 0.22107\tvalid's rmse: 0.227397\n",
      "[1180]\ttrain's rmse: 0.220972\tvalid's rmse: 0.227396\n",
      "[1200]\ttrain's rmse: 0.22087\tvalid's rmse: 0.227384\n",
      "[1220]\ttrain's rmse: 0.22077\tvalid's rmse: 0.227375\n",
      "[1240]\ttrain's rmse: 0.220674\tvalid's rmse: 0.227367\n",
      "[1260]\ttrain's rmse: 0.220566\tvalid's rmse: 0.22735\n",
      "[1280]\ttrain's rmse: 0.220447\tvalid's rmse: 0.227334\n",
      "[1300]\ttrain's rmse: 0.220353\tvalid's rmse: 0.227325\n",
      "[1320]\ttrain's rmse: 0.220253\tvalid's rmse: 0.227306\n",
      "[1340]\ttrain's rmse: 0.220151\tvalid's rmse: 0.227297\n",
      "[1360]\ttrain's rmse: 0.220051\tvalid's rmse: 0.227294\n",
      "[1380]\ttrain's rmse: 0.219943\tvalid's rmse: 0.227288\n",
      "[1400]\ttrain's rmse: 0.219843\tvalid's rmse: 0.227275\n",
      "[1420]\ttrain's rmse: 0.219739\tvalid's rmse: 0.227272\n",
      "[1440]\ttrain's rmse: 0.21963\tvalid's rmse: 0.227261\n",
      "[1460]\ttrain's rmse: 0.219539\tvalid's rmse: 0.227257\n",
      "[1480]\ttrain's rmse: 0.219426\tvalid's rmse: 0.227253\n",
      "[1500]\ttrain's rmse: 0.219314\tvalid's rmse: 0.227243\n",
      "[1520]\ttrain's rmse: 0.21921\tvalid's rmse: 0.227234\n",
      "[1540]\ttrain's rmse: 0.21911\tvalid's rmse: 0.227217\n",
      "[1560]\ttrain's rmse: 0.219023\tvalid's rmse: 0.227219\n",
      "[1580]\ttrain's rmse: 0.218921\tvalid's rmse: 0.22721\n",
      "[1600]\ttrain's rmse: 0.218826\tvalid's rmse: 0.227208\n",
      "[1620]\ttrain's rmse: 0.21873\tvalid's rmse: 0.227197\n",
      "[1640]\ttrain's rmse: 0.218628\tvalid's rmse: 0.227192\n",
      "[1660]\ttrain's rmse: 0.218528\tvalid's rmse: 0.227182\n",
      "[1680]\ttrain's rmse: 0.218435\tvalid's rmse: 0.22718\n",
      "[1700]\ttrain's rmse: 0.218323\tvalid's rmse: 0.227172\n",
      "[1720]\ttrain's rmse: 0.21822\tvalid's rmse: 0.227162\n",
      "[1740]\ttrain's rmse: 0.218119\tvalid's rmse: 0.227165\n",
      "[1760]\ttrain's rmse: 0.218017\tvalid's rmse: 0.227159\n",
      "[1780]\ttrain's rmse: 0.21794\tvalid's rmse: 0.227158\n",
      "[1800]\ttrain's rmse: 0.217836\tvalid's rmse: 0.22715\n",
      "[1820]\ttrain's rmse: 0.217747\tvalid's rmse: 0.227146\n",
      "[1840]\ttrain's rmse: 0.217653\tvalid's rmse: 0.227141\n",
      "[1860]\ttrain's rmse: 0.217562\tvalid's rmse: 0.227126\n",
      "[1880]\ttrain's rmse: 0.217483\tvalid's rmse: 0.227125\n",
      "[1900]\ttrain's rmse: 0.217394\tvalid's rmse: 0.227112\n",
      "[1920]\ttrain's rmse: 0.217292\tvalid's rmse: 0.227103\n",
      "[1940]\ttrain's rmse: 0.217202\tvalid's rmse: 0.2271\n",
      "[1960]\ttrain's rmse: 0.2171\tvalid's rmse: 0.227092\n",
      "[1980]\ttrain's rmse: 0.217007\tvalid's rmse: 0.227081\n",
      "[2000]\ttrain's rmse: 0.216912\tvalid's rmse: 0.227077\n",
      "[2020]\ttrain's rmse: 0.216813\tvalid's rmse: 0.227066\n",
      "[2040]\ttrain's rmse: 0.216714\tvalid's rmse: 0.22705\n",
      "[2060]\ttrain's rmse: 0.216625\tvalid's rmse: 0.227044\n",
      "[2080]\ttrain's rmse: 0.216538\tvalid's rmse: 0.22704\n",
      "[2100]\ttrain's rmse: 0.216447\tvalid's rmse: 0.227033\n",
      "[2120]\ttrain's rmse: 0.216362\tvalid's rmse: 0.227037\n",
      "[2140]\ttrain's rmse: 0.216259\tvalid's rmse: 0.227028\n",
      "[2160]\ttrain's rmse: 0.216178\tvalid's rmse: 0.227023\n",
      "[2180]\ttrain's rmse: 0.216093\tvalid's rmse: 0.22702\n",
      "[2200]\ttrain's rmse: 0.215993\tvalid's rmse: 0.227013\n",
      "[2220]\ttrain's rmse: 0.215903\tvalid's rmse: 0.227012\n",
      "[2240]\ttrain's rmse: 0.215807\tvalid's rmse: 0.227012\n",
      "[2260]\ttrain's rmse: 0.215719\tvalid's rmse: 0.227009\n",
      "[2280]\ttrain's rmse: 0.21564\tvalid's rmse: 0.227008\n",
      "[2300]\ttrain's rmse: 0.215553\tvalid's rmse: 0.227\n",
      "[2320]\ttrain's rmse: 0.215471\tvalid's rmse: 0.226986\n",
      "[2340]\ttrain's rmse: 0.215386\tvalid's rmse: 0.22699\n",
      "[2360]\ttrain's rmse: 0.215306\tvalid's rmse: 0.226986\n",
      "[2380]\ttrain's rmse: 0.215225\tvalid's rmse: 0.22699\n",
      "[2400]\ttrain's rmse: 0.215146\tvalid's rmse: 0.226997\n",
      "[2420]\ttrain's rmse: 0.215052\tvalid's rmse: 0.226991\n",
      "[2440]\ttrain's rmse: 0.214968\tvalid's rmse: 0.226989\n",
      "[2460]\ttrain's rmse: 0.214895\tvalid's rmse: 0.226983\n",
      "[2480]\ttrain's rmse: 0.214809\tvalid's rmse: 0.226982\n",
      "[2500]\ttrain's rmse: 0.214711\tvalid's rmse: 0.226977\n",
      "[2520]\ttrain's rmse: 0.214624\tvalid's rmse: 0.226977\n",
      "[2540]\ttrain's rmse: 0.214545\tvalid's rmse: 0.22697\n",
      "[2560]\ttrain's rmse: 0.214465\tvalid's rmse: 0.226969\n",
      "[2580]\ttrain's rmse: 0.214386\tvalid's rmse: 0.226967\n",
      "[2600]\ttrain's rmse: 0.214312\tvalid's rmse: 0.226963\n",
      "[2620]\ttrain's rmse: 0.214232\tvalid's rmse: 0.226958\n",
      "[2640]\ttrain's rmse: 0.214138\tvalid's rmse: 0.226958\n",
      "[2660]\ttrain's rmse: 0.214053\tvalid's rmse: 0.226959\n",
      "[2680]\ttrain's rmse: 0.213966\tvalid's rmse: 0.226958\n",
      "[2700]\ttrain's rmse: 0.213876\tvalid's rmse: 0.226955\n",
      "[2720]\ttrain's rmse: 0.213802\tvalid's rmse: 0.226949\n",
      "[2740]\ttrain's rmse: 0.213714\tvalid's rmse: 0.22695\n",
      "[2760]\ttrain's rmse: 0.213619\tvalid's rmse: 0.226949\n",
      "[2780]\ttrain's rmse: 0.213538\tvalid's rmse: 0.226949\n",
      "[2800]\ttrain's rmse: 0.21347\tvalid's rmse: 0.226951\n",
      "[2820]\ttrain's rmse: 0.213373\tvalid's rmse: 0.226941\n",
      "[2840]\ttrain's rmse: 0.213279\tvalid's rmse: 0.226939\n",
      "[2860]\ttrain's rmse: 0.213183\tvalid's rmse: 0.226936\n",
      "[2880]\ttrain's rmse: 0.213095\tvalid's rmse: 0.226936\n",
      "[2900]\ttrain's rmse: 0.213005\tvalid's rmse: 0.226931\n",
      "[2920]\ttrain's rmse: 0.212919\tvalid's rmse: 0.226929\n",
      "[2940]\ttrain's rmse: 0.212822\tvalid's rmse: 0.226922\n",
      "[2960]\ttrain's rmse: 0.212738\tvalid's rmse: 0.226921\n",
      "[2980]\ttrain's rmse: 0.212659\tvalid's rmse: 0.226923\n",
      "[3000]\ttrain's rmse: 0.212586\tvalid's rmse: 0.22692\n",
      "[3020]\ttrain's rmse: 0.21251\tvalid's rmse: 0.226925\n",
      "[3040]\ttrain's rmse: 0.21243\tvalid's rmse: 0.226924\n",
      "[3060]\ttrain's rmse: 0.212346\tvalid's rmse: 0.22692\n",
      "[3080]\ttrain's rmse: 0.212269\tvalid's rmse: 0.226915\n",
      "[3100]\ttrain's rmse: 0.212194\tvalid's rmse: 0.226916\n",
      "[3120]\ttrain's rmse: 0.212118\tvalid's rmse: 0.22692\n",
      "[3140]\ttrain's rmse: 0.21204\tvalid's rmse: 0.226918\n",
      "[3160]\ttrain's rmse: 0.211957\tvalid's rmse: 0.226918\n",
      "[3180]\ttrain's rmse: 0.211869\tvalid's rmse: 0.226914\n",
      "[3200]\ttrain's rmse: 0.211782\tvalid's rmse: 0.226907\n",
      "[3220]\ttrain's rmse: 0.211697\tvalid's rmse: 0.226906\n",
      "[3240]\ttrain's rmse: 0.211615\tvalid's rmse: 0.226905\n",
      "[3260]\ttrain's rmse: 0.211525\tvalid's rmse: 0.226899\n",
      "[3280]\ttrain's rmse: 0.211437\tvalid's rmse: 0.226901\n",
      "[3300]\ttrain's rmse: 0.211364\tvalid's rmse: 0.226901\n",
      "[3320]\ttrain's rmse: 0.211281\tvalid's rmse: 0.226904\n",
      "[3340]\ttrain's rmse: 0.211204\tvalid's rmse: 0.226904\n",
      "[3360]\ttrain's rmse: 0.211132\tvalid's rmse: 0.226909\n",
      "Early stopping, best iteration is:\n",
      "[3262]\ttrain's rmse: 0.211514\tvalid's rmse: 0.226898\n",
      "Done modeling...\n",
      "Generating predictions....\n"
     ]
    }
   ],
   "source": [
    "columns = ['fold','train_score','valid_score']\n",
    "final_stats = pd.DataFrame(columns=columns)\n",
    "train_data = pd.DataFrame()\n",
    "val_data = pd.DataFrame()\n",
    "n=1\n",
    "for train_index, val_index in kf.split(train_df):\n",
    "    train_data, val_data = train_df.loc[train_index], train_df.loc[val_index]\n",
    "    #y_train, y_test = y[train_index], y[val_index]\n",
    "    kfold = str(n)+'_fold'\n",
    "    print(\"Modeling for {}\".format(kfold))\n",
    "    model, result = run_lgb(train_data, val_data)\n",
    "    results = {'fold'       : kfold,\n",
    "               'train_score': result['train']['rmse'][model.best_iteration],\n",
    "               'valid_score': result['valid']['rmse'][model.best_iteration]       \n",
    "        }\n",
    "    final_stats = final_stats.append(results, ignore_index=True)\n",
    "    print(\"Done modeling...\")\n",
    "    print(\"Generating predictions....\")\n",
    "    test_df[kfold+'_predictions'] = model.predict(test_df[predictors], num_iteration=model.best_iteration)\n",
    "    n=n+1"
   ]
  },
  {
   "cell_type": "code",
   "execution_count": 62,
   "metadata": {},
   "outputs": [
    {
     "data": {
      "text/html": [
       "<div>\n",
       "<style scoped>\n",
       "    .dataframe tbody tr th:only-of-type {\n",
       "        vertical-align: middle;\n",
       "    }\n",
       "\n",
       "    .dataframe tbody tr th {\n",
       "        vertical-align: top;\n",
       "    }\n",
       "\n",
       "    .dataframe thead th {\n",
       "        text-align: right;\n",
       "    }\n",
       "</style>\n",
       "<table border=\"1\" class=\"dataframe\">\n",
       "  <thead>\n",
       "    <tr style=\"text-align: right;\">\n",
       "      <th></th>\n",
       "      <th>fold</th>\n",
       "      <th>train_score</th>\n",
       "      <th>valid_score</th>\n",
       "    </tr>\n",
       "  </thead>\n",
       "  <tbody>\n",
       "    <tr>\n",
       "      <th>0</th>\n",
       "      <td>1_fold</td>\n",
       "      <td>0.212518</td>\n",
       "      <td>0.227240</td>\n",
       "    </tr>\n",
       "    <tr>\n",
       "      <th>1</th>\n",
       "      <td>2_fold</td>\n",
       "      <td>0.214631</td>\n",
       "      <td>0.227074</td>\n",
       "    </tr>\n",
       "    <tr>\n",
       "      <th>2</th>\n",
       "      <td>3_fold</td>\n",
       "      <td>0.215734</td>\n",
       "      <td>0.226826</td>\n",
       "    </tr>\n",
       "    <tr>\n",
       "      <th>3</th>\n",
       "      <td>4_fold</td>\n",
       "      <td>0.214861</td>\n",
       "      <td>0.227031</td>\n",
       "    </tr>\n",
       "    <tr>\n",
       "      <th>4</th>\n",
       "      <td>5_fold</td>\n",
       "      <td>0.211511</td>\n",
       "      <td>0.226899</td>\n",
       "    </tr>\n",
       "  </tbody>\n",
       "</table>\n",
       "</div>"
      ],
      "text/plain": [
       "     fold  train_score  valid_score\n",
       "0  1_fold     0.212518     0.227240\n",
       "1  2_fold     0.214631     0.227074\n",
       "2  3_fold     0.215734     0.226826\n",
       "3  4_fold     0.214861     0.227031\n",
       "4  5_fold     0.211511     0.226899"
      ]
     },
     "execution_count": 62,
     "metadata": {},
     "output_type": "execute_result"
    }
   ],
   "source": [
    "final_stats"
   ]
  },
  {
   "cell_type": "code",
   "execution_count": 65,
   "metadata": {},
   "outputs": [],
   "source": [
    "final_stats.to_csv(\"../Results/Stats_5foldcv_clipvalue_removingsomefeats_05112018.csv\", index=False)"
   ]
  },
  {
   "cell_type": "code",
   "execution_count": 80,
   "metadata": {},
   "outputs": [
    {
     "data": {
      "text/plain": [
       "0.2138507028035094"
      ]
     },
     "execution_count": 80,
     "metadata": {},
     "output_type": "execute_result"
    }
   ],
   "source": [
    "np.average(final_stats['train_score'])"
   ]
  },
  {
   "cell_type": "code",
   "execution_count": 81,
   "metadata": {},
   "outputs": [
    {
     "data": {
      "text/plain": [
       "0.22701400996710933"
      ]
     },
     "execution_count": 81,
     "metadata": {},
     "output_type": "execute_result"
    }
   ],
   "source": [
    "np.average(final_stats['valid_score'])"
   ]
  },
  {
   "cell_type": "code",
   "execution_count": 68,
   "metadata": {},
   "outputs": [
    {
     "name": "stderr",
     "output_type": "stream",
     "text": [
      "C:\\Program Files\\Anaconda\\lib\\site-packages\\ipykernel_launcher.py:1: SettingWithCopyWarning: \n",
      "A value is trying to be set on a copy of a slice from a DataFrame.\n",
      "Try using .loc[row_indexer,col_indexer] = value instead\n",
      "\n",
      "See the caveats in the documentation: http://pandas.pydata.org/pandas-docs/stable/indexing.html#indexing-view-versus-copy\n",
      "  \"\"\"Entry point for launching an IPython kernel.\n"
     ]
    }
   ],
   "source": [
    "test_df['deal_probability'] = np.average(test_df[['1_fold_predictions','2_fold_predictions','3_fold_predictions','4_fold_predictions','5_fold_predictions']], axis=1)"
   ]
  },
  {
   "cell_type": "code",
   "execution_count": 75,
   "metadata": {},
   "outputs": [
    {
     "name": "stderr",
     "output_type": "stream",
     "text": [
      "C:\\Program Files\\Anaconda\\lib\\site-packages\\ipykernel_launcher.py:1: SettingWithCopyWarning: \n",
      "A value is trying to be set on a copy of a slice from a DataFrame.\n",
      "Try using .loc[row_indexer,col_indexer] = value instead\n",
      "\n",
      "See the caveats in the documentation: http://pandas.pydata.org/pandas-docs/stable/indexing.html#indexing-view-versus-copy\n",
      "  \"\"\"Entry point for launching an IPython kernel.\n"
     ]
    }
   ],
   "source": [
    "test_df['deal_probability'] = np.clip(np.array(test_df['deal_probability']),0,1)"
   ]
  },
  {
   "cell_type": "code",
   "execution_count": 76,
   "metadata": {},
   "outputs": [
    {
     "data": {
      "text/plain": [
       "Series([], Name: deal_probability, dtype: float64)"
      ]
     },
     "execution_count": 76,
     "metadata": {},
     "output_type": "execute_result"
    }
   ],
   "source": [
    "test_df.deal_probability[test_df['deal_probability'] < 0]"
   ]
  },
  {
   "cell_type": "code",
   "execution_count": 25,
   "metadata": {},
   "outputs": [
    {
     "name": "stderr",
     "output_type": "stream",
     "text": [
      "C:\\Program Files\\Anaconda\\lib\\site-packages\\ipykernel_launcher.py:1: SettingWithCopyWarning: \n",
      "A value is trying to be set on a copy of a slice from a DataFrame\n",
      "\n",
      "See the caveats in the documentation: http://pandas.pydata.org/pandas-docs/stable/indexing.html#indexing-view-versus-copy\n",
      "  \"\"\"Entry point for launching an IPython kernel.\n",
      "C:\\Program Files\\Anaconda\\lib\\site-packages\\pandas\\core\\generic.py:5984: SettingWithCopyWarning: \n",
      "A value is trying to be set on a copy of a slice from a DataFrame\n",
      "\n",
      "See the caveats in the documentation: http://pandas.pydata.org/pandas-docs/stable/indexing.html#indexing-view-versus-copy\n",
      "  self._update_inplace(new_data)\n",
      "C:\\Program Files\\Anaconda\\lib\\site-packages\\IPython\\core\\interactiveshell.py:2910: SettingWithCopyWarning: \n",
      "A value is trying to be set on a copy of a slice from a DataFrame\n",
      "\n",
      "See the caveats in the documentation: http://pandas.pydata.org/pandas-docs/stable/indexing.html#indexing-view-versus-copy\n",
      "  exec(code_obj, self.user_global_ns, self.user_ns)\n"
     ]
    }
   ],
   "source": [
    "test_df.deal_probability[test_df['deal_probability'] < 0] = abs(test_df.deal_probability[test_df['deal_probability'] < 0])"
   ]
  },
  {
   "cell_type": "code",
   "execution_count": 44,
   "metadata": {},
   "outputs": [
    {
     "data": {
      "text/plain": [
       "10"
      ]
     },
     "execution_count": 44,
     "metadata": {},
     "output_type": "execute_result"
    }
   ],
   "source": [
    "gc.collect()"
   ]
  },
  {
   "cell_type": "code",
   "execution_count": null,
   "metadata": {
    "scrolled": true
   },
   "outputs": [],
   "source": [
    "model, result = run_lgb(dev_X, val_X)"
   ]
  },
  {
   "cell_type": "markdown",
   "metadata": {},
   "source": [
    "### Defining entire model:"
   ]
  },
  {
   "cell_type": "code",
   "execution_count": null,
   "metadata": {},
   "outputs": [],
   "source": [
    "params = {'max_depth' : -1,\n",
    "          'objective': 'regression', \n",
    "          'num_leaves': 40, \n",
    "          'learning_rate': 0.1, \n",
    "          'bagging_fraction': 1, \n",
    "          'bagging_freq': 1, \n",
    "          'feature_fraction': 0.8, \n",
    "          'metric' : 'rmse'}"
   ]
  },
  {
   "cell_type": "code",
   "execution_count": null,
   "metadata": {},
   "outputs": [],
   "source": [
    "# Create parameters to search\n",
    "gridParams = {\n",
    "    'learning_rate': [0.005, 0.01, 0.05, 0.01],\n",
    "    'n_estimators': [8,16,24],\n",
    "    'num_leaves': [35,40,45,50],\n",
    "    'boosting_type' : ['gbdt'],\n",
    "    'random_state' : [501], # Updated from 'seed'\n",
    "    'colsample_bytree' : [0.64, 0.65, 0.66],\n",
    "    'bagging_fraction' : [0.7,0.75],\n",
    "    #'reg_alpha' : [1,1.2],\n",
    "    #'reg_lambda' : [1,1.2,1.4],\n",
    "    }"
   ]
  },
  {
   "cell_type": "code",
   "execution_count": null,
   "metadata": {},
   "outputs": [],
   "source": [
    "model = lgb.LGBMRegressor(objective=\"regression\",\n",
    "        metric = \"rmse\",\n",
    "        num_leaves = 40,\n",
    "        learning_rate = 0.1,\n",
    "        bagging_fraction = 1,\n",
    "        feature_fraction = 0.8,\n",
    "        bagging_freq = 1,\n",
    "        bagging_seed = 2018,\n",
    "        verbosity = -1)"
   ]
  },
  {
   "cell_type": "code",
   "execution_count": null,
   "metadata": {},
   "outputs": [],
   "source": [
    "grid = GridSearchCV(model, gridParams, verbose=1, cv=5, n_jobs=-1)"
   ]
  },
  {
   "cell_type": "code",
   "execution_count": null,
   "metadata": {},
   "outputs": [],
   "source": [
    "grid.fit(train_df[predictors],train_df[target])"
   ]
  },
  {
   "cell_type": "code",
   "execution_count": null,
   "metadata": {},
   "outputs": [],
   "source": [
    "params.update(grid.best_params_)"
   ]
  },
  {
   "cell_type": "code",
   "execution_count": null,
   "metadata": {},
   "outputs": [],
   "source": [
    "test_df['deal_probability'] = grid.predict(test_df[predictors])"
   ]
  },
  {
   "cell_type": "code",
   "execution_count": null,
   "metadata": {},
   "outputs": [],
   "source": [
    "grid.best_params_"
   ]
  },
  {
   "cell_type": "code",
   "execution_count": null,
   "metadata": {},
   "outputs": [],
   "source": [
    "pd.DataFrame(grid.cv_results_)"
   ]
  },
  {
   "cell_type": "code",
   "execution_count": null,
   "metadata": {},
   "outputs": [],
   "source": [
    "test_df['deal_probability'] = model.predict(test_df[predictors])"
   ]
  },
  {
   "cell_type": "code",
   "execution_count": null,
   "metadata": {},
   "outputs": [],
   "source": [
    "test_df.deal_probability[test_df['deal_probability'] < 0] = 0"
   ]
  },
  {
   "cell_type": "code",
   "execution_count": 77,
   "metadata": {},
   "outputs": [],
   "source": [
    "test_df[['item_id','deal_probability']].to_csv('../Results/5foldcv_clipvalue_removingsomefeats_05112018.csv', index=False)"
   ]
  },
  {
   "cell_type": "code",
   "execution_count": 78,
   "metadata": {},
   "outputs": [
    {
     "data": {
      "image/png": "[encoded data removed]",
      "text/plain": [
       "<matplotlib.figure.Figure at 0x1ff2057edd8>"
      ]
     },
     "metadata": {},
     "output_type": "display_data"
    }
   ],
   "source": [
    "fig, ax = plt.subplots(figsize=(12,18))\n",
    "lgb.plot_importance(model, max_num_features=50, height=0.8, ax=ax)\n",
    "#lgb.plot_importance(model)\n",
    "ax.grid(False)\n",
    "plt.title(\"LightGBM - Feature Importance\", fontsize=15)\n",
    "plt.show()"
   ]
  },
  {
   "cell_type": "code",
   "execution_count": null,
   "metadata": {},
   "outputs": [],
   "source": []
  },
  {
   "cell_type": "markdown",
   "metadata": {},
   "source": [
    "### Running XGBoost:"
   ]
  },
  {
   "cell_type": "code",
   "execution_count": null,
   "metadata": {},
   "outputs": [],
   "source": [
    "import xgboost as xgb"
   ]
  },
  {
   "cell_type": "code",
   "execution_count": null,
   "metadata": {},
   "outputs": [],
   "source": [
    "len(val_X)"
   ]
  },
  {
   "cell_type": "code",
   "execution_count": null,
   "metadata": {},
   "outputs": [],
   "source": [
    "len(dev_X)"
   ]
  },
  {
   "cell_type": "code",
   "execution_count": null,
   "metadata": {},
   "outputs": [],
   "source": [
    "train_dmatrix = xgb.DMatrix(dev_X[predictors],dev_X[target])\n",
    "valid_dmatrix = xgb.DMatrix(val_X[predictors],val_X[target])"
   ]
  },
  {
   "cell_type": "code",
   "execution_count": null,
   "metadata": {},
   "outputs": [],
   "source": [
    "def run_xgb(train_dmatrix, valid_dmatrix):\n",
    "    params = {\n",
    "        \"objective\" : \"reg:linear\",\n",
    "        \"metric\" : \"rmse\",\n",
    "        \"num_leaves\" : 40,\n",
    "        \"learning_rate\" : 0.1,\n",
    "        \"bagging_fraction\" : 0.7,\n",
    "        \"feature_fraction\" : 0.7,\n",
    "        \"bagging_frequency\" : 5,\n",
    "        \"bagging_seed\" : 2018,\n",
    "        \"verbosity\" : -1\n",
    "    }\n",
    "    \n",
    "    evals_result = {}\n",
    "    evallist = [(train_dmatrix,'train'), (valid_dmatrix, 'eval')]\n",
    "    model = xgb.train(params, train_dmatrix, 5000, evallist, early_stopping_rounds=100, verbose_eval=20, evals_result=evals_result)\n",
    "    \n",
    "    #pred_test_y = model.predict(test_X, num_iteration=model.best_iteration)\n",
    "    return model, evals_result"
   ]
  },
  {
   "cell_type": "code",
   "execution_count": null,
   "metadata": {},
   "outputs": [],
   "source": [
    "model, result = run_xgb(train_dmatrix, valid_dmatrix)"
   ]
  },
  {
   "cell_type": "code",
   "execution_count": null,
   "metadata": {},
   "outputs": [],
   "source": [
    "test_dmatrix = xgb.DMatrix(test_df[predictors])"
   ]
  },
  {
   "cell_type": "code",
   "execution_count": null,
   "metadata": {},
   "outputs": [],
   "source": [
    "preds = model.predict(test_dmatrix)"
   ]
  },
  {
   "cell_type": "code",
   "execution_count": null,
   "metadata": {},
   "outputs": [],
   "source": [
    "test_df['deal_probability'] = preds"
   ]
  },
  {
   "cell_type": "code",
   "execution_count": null,
   "metadata": {},
   "outputs": [],
   "source": [
    "test_df.deal_probability[test_df['deal_probability'] < 0] = 0"
   ]
  },
  {
   "cell_type": "code",
   "execution_count": null,
   "metadata": {},
   "outputs": [],
   "source": [
    "test_df[['item_id','deal_probability']].to_csv('base_submission_xgb_05072018.csv', index=False)"
   ]
  },
  {
   "cell_type": "markdown",
   "metadata": {},
   "source": [
    "### Submission to kaggle via API:"
   ]
  },
  {
   "cell_type": "code",
   "execution_count": 79,
   "metadata": {},
   "outputs": [
    {
     "name": "stdout",
     "output_type": "stream",
     "text": [
      "Warning: Looks like you're using an outdated API Version, please consider updating (server 1.3.4 / client 1.3.3)\n",
      "Successfully submitted to Avito Demand Prediction Challenge\n"
     ]
    }
   ],
   "source": [
    "!kaggle competitions submit -c avito-demand-prediction -f ../Results/5foldcv_clipvalue_removingsomefeats_05112018.csv -m \"5CV removingsomefeats clipping to unit interval\""
   ]
  },
  {
   "cell_type": "code",
   "execution_count": null,
   "metadata": {},
   "outputs": [],
   "source": [
    "!kaggle competitions submit -c avito-demand-prediction -f Results/base_submission_xgb_05072018.csv -m \"base submission xgb model\""
   ]
  }
 ],
 "metadata": {
  "kernelspec": {
   "display_name": "Python 3",
   "language": "python",
   "name": "python3"
  },
  "language_info": {
   "codemirror_mode": {
    "name": "ipython",
    "version": 3
   },
   "file_extension": ".py",
   "mimetype": "text/x-python",
   "name": "python",
   "nbconvert_exporter": "python",
   "pygments_lexer": "ipython3",
   "version": "3.6.4"
  }
 },
 "nbformat": 4,
 "nbformat_minor": 2
}
