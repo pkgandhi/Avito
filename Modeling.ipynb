{
 "cells": [
  {
   "cell_type": "code",
   "execution_count": 1,
   "metadata": {},
   "outputs": [
    {
     "name": "stderr",
     "output_type": "stream",
     "text": [
      "C:\\Program Files\\Anaconda\\lib\\site-packages\\sklearn\\cross_validation.py:41: DeprecationWarning: This module was deprecated in version 0.18 in favor of the model_selection module into which all the refactored classes and functions are moved. Also note that the interface of the new CV iterators are different from that of this module. This module will be removed in 0.20.\n",
      "  \"This module will be removed in 0.20.\", DeprecationWarning)\n"
     ]
    }
   ],
   "source": [
    "import os\n",
    "import gc\n",
    "import time\n",
    "import pickle\n",
    "import datetime\n",
    "import pandas as pd\n",
    "import numpy as np\n",
    "import dask.dataframe as dd\n",
    "from dask import delayed, compute\n",
    "import matplotlib.pyplot as plt\n",
    "%matplotlib inline\n",
    "from sklearn.cross_validation import train_test_split\n",
    "from sklearn import preprocessing, metrics\n",
    "import lightgbm as lgb\n",
    "from textblob import TextBlob\n",
    "\n",
    "path = \"F:\\\\Pratik\\\\LearningZone\\\\Competitions\\\\Avito_Demand_Prediction_Challenge\"\n",
    "os.chdir(path)"
   ]
  },
  {
   "cell_type": "code",
   "execution_count": 8,
   "metadata": {},
   "outputs": [],
   "source": [
    "train_df = pd.read_csv('train_translated.csv', parse_dates=['activation_date'])\n",
    "test_df = pd.read_csv('test_translated.csv', parse_dates=['activation_date'])"
   ]
  },
  {
   "cell_type": "code",
   "execution_count": 9,
   "metadata": {},
   "outputs": [],
   "source": [
    "train_df['dow'] = train_df['activation_date'].dt.weekday\n",
    "test_df['dow'] = test_df['activation_date'].dt.weekday"
   ]
  },
  {
   "cell_type": "code",
   "execution_count": null,
   "metadata": {},
   "outputs": [],
   "source": [
    "train_df.head()"
   ]
  },
  {
   "cell_type": "code",
   "execution_count": 10,
   "metadata": {},
   "outputs": [],
   "source": [
    "cat_vars = [\"en_region\", \"en_city\", \"en_parent_category_name\", \"en_category_name\", \"user_type\", \"en_param1\", \"en_param2\", \"en_param3\"]"
   ]
  },
  {
   "cell_type": "code",
   "execution_count": 11,
   "metadata": {},
   "outputs": [],
   "source": [
    "def label_encoding(train_data, categorical_feature_names):\n",
    "    le = preprocessing.LabelEncoder() # Defining Label Encoder\n",
    "    train_cat_features = np.array(train_data[categorical_feature_names])\n",
    "    train_data_array = le.fit_transform(train_cat_features[:,0])\n",
    "    for i in range(1,train_cat_features.shape[1]):\n",
    "        train_data_array = np.column_stack((train_data_array, le.fit_transform(train_cat_features[:,i])))\n",
    "        \n",
    "    train_cat_data_df = pd.DataFrame(train_data_array, columns=categorical_feature_names)\n",
    "    return train_cat_data_df[categorical_feature_names]"
   ]
  },
  {
   "cell_type": "code",
   "execution_count": 13,
   "metadata": {},
   "outputs": [
    {
     "name": "stderr",
     "output_type": "stream",
     "text": [
      "C:\\Program Files\\Anaconda\\lib\\site-packages\\pandas\\core\\frame.py:3035: SettingWithCopyWarning: \n",
      "A value is trying to be set on a copy of a slice from a DataFrame\n",
      "\n",
      "See the caveats in the documentation: http://pandas.pydata.org/pandas-docs/stable/indexing.html#indexing-view-versus-copy\n",
      "  downcast=downcast, **kwargs)\n"
     ]
    }
   ],
   "source": [
    "train_df[['en_param1','en_param2','en_param3']].fillna('Missing', inplace=True)\n",
    "test_df[['en_param1','en_param2','en_param3']].fillna('Missing', inplace=True)"
   ]
  },
  {
   "cell_type": "code",
   "execution_count": 14,
   "metadata": {},
   "outputs": [],
   "source": [
    "train_df['en_param1'] = train_df['en_param1'].map(str)\n",
    "train_df['en_param2'] = train_df['en_param2'].map(str)\n",
    "train_df['en_param3'] = train_df['en_param3'].map(str)"
   ]
  },
  {
   "cell_type": "code",
   "execution_count": 15,
   "metadata": {},
   "outputs": [],
   "source": [
    "test_df['en_param1'] = test_df['en_param1'].map(str)\n",
    "test_df['en_param2'] = test_df['en_param2'].map(str)\n",
    "test_df['en_param3'] = test_df['en_param3'].map(str)"
   ]
  },
  {
   "cell_type": "code",
   "execution_count": 16,
   "metadata": {},
   "outputs": [],
   "source": [
    "Catg_Var_LE_train = label_encoding(train_df,cat_vars)\n",
    "Catg_Var_LE_test = label_encoding(test_df,cat_vars)"
   ]
  },
  {
   "cell_type": "code",
   "execution_count": 17,
   "metadata": {},
   "outputs": [],
   "source": [
    "# Dropping the rows on which One-Hot Encoding has been performed\n",
    "train_df = train_df.drop(Catg_Var_LE_train.columns, axis=1)\n",
    "# Concating the rows converted using One-Hot Encoding to other columns:\n",
    "train_df = pd.concat([train_df,Catg_Var_LE_train], axis=1)"
   ]
  },
  {
   "cell_type": "code",
   "execution_count": 18,
   "metadata": {},
   "outputs": [],
   "source": [
    "# Dropping the rows on which One-Hot Encoding has been performed\n",
    "test_df = test_df.drop(Catg_Var_LE_test.columns, axis=1)\n",
    "# Concating the rows converted using One-Hot Encoding to other columns:\n",
    "test_df = pd.concat([test_df,Catg_Var_LE_test], axis=1)"
   ]
  },
  {
   "cell_type": "code",
   "execution_count": 46,
   "metadata": {},
   "outputs": [],
   "source": [
    "target = 'deal_probability'\n",
    "predictors = ['dow', 'en_region', 'en_city',\n",
    "       'en_parent_category_name', 'en_category_name', 'user_type', 'en_param1',\n",
    "       'en_param2', 'en_param3','price_new']"
   ]
  },
  {
   "cell_type": "code",
   "execution_count": 47,
   "metadata": {},
   "outputs": [],
   "source": [
    "# Splitting the data for model training#\n",
    "dev_X = train_df.iloc[:-200000,:]\n",
    "val_X = train_df.iloc[-200000:,:]"
   ]
  },
  {
   "cell_type": "code",
   "execution_count": 48,
   "metadata": {},
   "outputs": [],
   "source": [
    "def run_lgb(train_X, val_X):\n",
    "    params = {\n",
    "        \"objective\" : \"regression\",\n",
    "        \"metric\" : \"rmse\",\n",
    "        \"num_leaves\" : 30,\n",
    "        \"learning_rate\" : 0.1,\n",
    "        \"bagging_fraction\" : 0.7,\n",
    "        \"feature_fraction\" : 0.7,\n",
    "        \"bagging_frequency\" : 5,\n",
    "        \"bagging_seed\" : 2018,\n",
    "        \"verbosity\" : -1\n",
    "    }\n",
    "    \n",
    "    lgtrain = lgb.Dataset(train_X[predictors].values, label=train_X[target].values)\n",
    "    lgval = lgb.Dataset(val_X[predictors].values, label=val_X[target].values)\n",
    "    evals_result = {}\n",
    "    model = lgb.train(params, lgtrain, 1000, valid_sets=[lgtrain, lgval], early_stopping_rounds=100, verbose_eval=20, evals_result=evals_result)\n",
    "    \n",
    "    #pred_test_y = model.predict(test_X, num_iteration=model.best_iteration)\n",
    "    return model, evals_result"
   ]
  },
  {
   "cell_type": "code",
   "execution_count": 49,
   "metadata": {
    "scrolled": true
   },
   "outputs": [
    {
     "name": "stdout",
     "output_type": "stream",
     "text": [
      "Training until validation scores don't improve for 100 rounds.\n",
      "[20]\ttraining's rmse: 0.236636\tvalid_1's rmse: 0.236923\n",
      "[40]\ttraining's rmse: 0.234309\tvalid_1's rmse: 0.23463\n",
      "[60]\ttraining's rmse: 0.233294\tvalid_1's rmse: 0.233631\n",
      "[80]\ttraining's rmse: 0.232652\tvalid_1's rmse: 0.233015\n",
      "[100]\ttraining's rmse: 0.232152\tvalid_1's rmse: 0.232557\n",
      "[120]\ttraining's rmse: 0.231786\tvalid_1's rmse: 0.232226\n",
      "[140]\ttraining's rmse: 0.231433\tvalid_1's rmse: 0.23191\n",
      "[160]\ttraining's rmse: 0.231173\tvalid_1's rmse: 0.231688\n",
      "[180]\ttraining's rmse: 0.230931\tvalid_1's rmse: 0.2315\n",
      "[200]\ttraining's rmse: 0.23073\tvalid_1's rmse: 0.231351\n",
      "[220]\ttraining's rmse: 0.230574\tvalid_1's rmse: 0.231244\n",
      "[240]\ttraining's rmse: 0.230438\tvalid_1's rmse: 0.231156\n",
      "[260]\ttraining's rmse: 0.230273\tvalid_1's rmse: 0.231035\n",
      "[280]\ttraining's rmse: 0.23014\tvalid_1's rmse: 0.230954\n",
      "[300]\ttraining's rmse: 0.230007\tvalid_1's rmse: 0.230872\n",
      "[320]\ttraining's rmse: 0.229875\tvalid_1's rmse: 0.230797\n",
      "[340]\ttraining's rmse: 0.22977\tvalid_1's rmse: 0.230747\n",
      "[360]\ttraining's rmse: 0.229643\tvalid_1's rmse: 0.230674\n",
      "[380]\ttraining's rmse: 0.229513\tvalid_1's rmse: 0.230598\n",
      "[400]\ttraining's rmse: 0.229368\tvalid_1's rmse: 0.230507\n",
      "[420]\ttraining's rmse: 0.229251\tvalid_1's rmse: 0.230435\n",
      "[440]\ttraining's rmse: 0.229149\tvalid_1's rmse: 0.230392\n",
      "[460]\ttraining's rmse: 0.229057\tvalid_1's rmse: 0.230355\n",
      "[480]\ttraining's rmse: 0.228964\tvalid_1's rmse: 0.230303\n",
      "[500]\ttraining's rmse: 0.228865\tvalid_1's rmse: 0.230254\n",
      "[520]\ttraining's rmse: 0.228761\tvalid_1's rmse: 0.230201\n",
      "[540]\ttraining's rmse: 0.228675\tvalid_1's rmse: 0.230159\n",
      "[560]\ttraining's rmse: 0.228589\tvalid_1's rmse: 0.23011\n",
      "[580]\ttraining's rmse: 0.228495\tvalid_1's rmse: 0.230066\n",
      "[600]\ttraining's rmse: 0.22841\tvalid_1's rmse: 0.230025\n",
      "[620]\ttraining's rmse: 0.228323\tvalid_1's rmse: 0.229986\n",
      "[640]\ttraining's rmse: 0.228235\tvalid_1's rmse: 0.22995\n",
      "[660]\ttraining's rmse: 0.228161\tvalid_1's rmse: 0.229924\n",
      "[680]\ttraining's rmse: 0.228086\tvalid_1's rmse: 0.229893\n",
      "[700]\ttraining's rmse: 0.228003\tvalid_1's rmse: 0.229866\n",
      "[720]\ttraining's rmse: 0.227927\tvalid_1's rmse: 0.229845\n",
      "[740]\ttraining's rmse: 0.227854\tvalid_1's rmse: 0.229822\n",
      "[760]\ttraining's rmse: 0.227769\tvalid_1's rmse: 0.229799\n",
      "[780]\ttraining's rmse: 0.227699\tvalid_1's rmse: 0.229773\n",
      "[800]\ttraining's rmse: 0.227626\tvalid_1's rmse: 0.229755\n",
      "[820]\ttraining's rmse: 0.227557\tvalid_1's rmse: 0.229728\n",
      "[840]\ttraining's rmse: 0.227483\tvalid_1's rmse: 0.229706\n",
      "[860]\ttraining's rmse: 0.227416\tvalid_1's rmse: 0.229686\n",
      "[880]\ttraining's rmse: 0.22735\tvalid_1's rmse: 0.22966\n",
      "[900]\ttraining's rmse: 0.227291\tvalid_1's rmse: 0.229639\n",
      "[920]\ttraining's rmse: 0.227234\tvalid_1's rmse: 0.22962\n",
      "[940]\ttraining's rmse: 0.227173\tvalid_1's rmse: 0.229608\n",
      "[960]\ttraining's rmse: 0.227116\tvalid_1's rmse: 0.22959\n",
      "[980]\ttraining's rmse: 0.227048\tvalid_1's rmse: 0.229571\n",
      "[1000]\ttraining's rmse: 0.226992\tvalid_1's rmse: 0.229556\n",
      "Did not meet early stopping. Best iteration is:\n",
      "[1000]\ttraining's rmse: 0.226992\tvalid_1's rmse: 0.229556\n"
     ]
    }
   ],
   "source": [
    "model, result = run_lgb(dev_X, val_X)"
   ]
  },
  {
   "cell_type": "code",
   "execution_count": 50,
   "metadata": {},
   "outputs": [],
   "source": [
    "test_df['deal_probability'] = model.predict(test_df[predictors])"
   ]
  },
  {
   "cell_type": "code",
   "execution_count": 53,
   "metadata": {},
   "outputs": [],
   "source": [
    "test_df[['item_id','deal_probability']].to_csv('base_submission_including_price.csv', index=False)"
   ]
  },
  {
   "cell_type": "code",
   "execution_count": 35,
   "metadata": {},
   "outputs": [
    {
     "data": {
      "text/plain": [
       "508438"
      ]
     },
     "execution_count": 35,
     "metadata": {},
     "output_type": "execute_result"
    }
   ],
   "source": [
    "len(test_df)"
   ]
  },
  {
   "cell_type": "code",
   "execution_count": 52,
   "metadata": {},
   "outputs": [
    {
     "name": "stderr",
     "output_type": "stream",
     "text": [
      "C:\\Program Files\\Anaconda\\lib\\site-packages\\ipykernel_launcher.py:1: SettingWithCopyWarning: \n",
      "A value is trying to be set on a copy of a slice from a DataFrame\n",
      "\n",
      "See the caveats in the documentation: http://pandas.pydata.org/pandas-docs/stable/indexing.html#indexing-view-versus-copy\n",
      "  \"\"\"Entry point for launching an IPython kernel.\n"
     ]
    }
   ],
   "source": [
    "test_df.deal_probability[test_df['deal_probability'] < 0] = 0"
   ]
  },
  {
   "cell_type": "code",
   "execution_count": 30,
   "metadata": {},
   "outputs": [],
   "source": [
    "import kaggle"
   ]
  },
  {
   "cell_type": "code",
   "execution_count": 54,
   "metadata": {},
   "outputs": [
    {
     "name": "stdout",
     "output_type": "stream",
     "text": [
      "Warning: Looks like you're using an outdated API Version, please consider updating (server 1.3.4 / client 1.3.3)\n",
      "Successfully submitted to Avito Demand Prediction Challenge\n"
     ]
    }
   ],
   "source": [
    "!kaggle competitions submit -c avito-demand-prediction -f base_submission_including_price.csv -m \"Base Submissions with Price\""
   ]
  },
  {
   "cell_type": "code",
   "execution_count": 23,
   "metadata": {},
   "outputs": [
    {
     "data": {
      "image/png": "[encoded data removed]",
      "text/plain": [
       "<matplotlib.figure.Figure at 0x1dc1cf6f438>"
      ]
     },
     "metadata": {},
     "output_type": "display_data"
    }
   ],
   "source": [
    "fig, ax = plt.subplots(figsize=(12,18))\n",
    "lgb.plot_importance(model, max_num_features=50, height=0.8, ax=ax)\n",
    "ax.grid(False)\n",
    "plt.title(\"LightGBM - Feature Importance\", fontsize=15)\n",
    "plt.show()"
   ]
  },
  {
   "cell_type": "code",
   "execution_count": null,
   "metadata": {},
   "outputs": [],
   "source": []
  }
 ],
 "metadata": {
  "kernelspec": {
   "display_name": "Python 3",
   "language": "python",
   "name": "python3"
  },
  "language_info": {
   "codemirror_mode": {
    "name": "ipython",
    "version": 3
   },
   "file_extension": ".py",
   "mimetype": "text/x-python",
   "name": "python",
   "nbconvert_exporter": "python",
   "pygments_lexer": "ipython3",
   "version": "3.6.4"
  }
 },
 "nbformat": 4,
 "nbformat_minor": 2
}
