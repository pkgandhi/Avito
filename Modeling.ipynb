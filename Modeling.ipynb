{
 "cells": [
  {
   "cell_type": "code",
   "execution_count": 1,
   "metadata": {},
   "outputs": [
    {
     "name": "stderr",
     "output_type": "stream",
     "text": [
      "C:\\Program Files\\Anaconda\\lib\\site-packages\\sklearn\\cross_validation.py:41: DeprecationWarning: This module was deprecated in version 0.18 in favor of the model_selection module into which all the refactored classes and functions are moved. Also note that the interface of the new CV iterators are different from that of this module. This module will be removed in 0.20.\n",
      "  \"This module will be removed in 0.20.\", DeprecationWarning)\n"
     ]
    }
   ],
   "source": [
    "import os\n",
    "import gc\n",
    "import time\n",
    "import pickle\n",
    "import kaggle\n",
    "import datetime\n",
    "import pandas as pd\n",
    "import numpy as np\n",
    "import dask.dataframe as dd\n",
    "from dask import delayed, compute\n",
    "import matplotlib.pyplot as plt\n",
    "%matplotlib inline\n",
    "from sklearn.cross_validation import train_test_split\n",
    "from sklearn.model_selection import RandomizedSearchCV, GridSearchCV\n",
    "from sklearn import preprocessing, metrics\n",
    "import lightgbm as lgb\n",
    "from textblob import TextBlob\n",
    "\n",
    "path = \"F:\\\\Pratik\\\\LearningZone\\\\Competitions\\\\Avito_Demand_Prediction_Challenge\\\\RawData\"\n",
    "os.chdir(path)"
   ]
  },
  {
   "cell_type": "code",
   "execution_count": null,
   "metadata": {},
   "outputs": [],
   "source": [
    "train_df = pd.read_csv('train_translated.csv', parse_dates=['activation_date'])\n",
    "test_df = pd.read_csv('test_translated.csv', parse_dates=['activation_date'])"
   ]
  },
  {
   "cell_type": "code",
   "execution_count": 2,
   "metadata": {},
   "outputs": [],
   "source": [
    "total_df = pd.read_csv('total_translated_05152018.csv', parse_dates=['activation_date'])"
   ]
  },
  {
   "cell_type": "code",
   "execution_count": 14,
   "metadata": {},
   "outputs": [],
   "source": [
    "svd_df = pd.read_csv('total_translated_05122018.csv', parse_dates=['activation_date'])"
   ]
  },
  {
   "cell_type": "code",
   "execution_count": null,
   "metadata": {},
   "outputs": [],
   "source": [
    "train_df['dow'] = train_df['activation_date'].dt.weekday\n",
    "test_df['dow'] = test_df['activation_date'].dt.weekday"
   ]
  },
  {
   "cell_type": "code",
   "execution_count": 3,
   "metadata": {},
   "outputs": [],
   "source": [
    "total_df['dow'] = total_df['activation_date'].dt.weekday"
   ]
  },
  {
   "cell_type": "code",
   "execution_count": null,
   "metadata": {},
   "outputs": [],
   "source": [
    "# Function to extract features from them:\n",
    "@delayed\n",
    "def period_features(x):\n",
    "    x['dow_first_day_display'] = x['date_from'].dt.weekday\n",
    "    x['dow_last_day_display'] = x['date_to'].dt.weekday\n",
    "    x['time_btwn_placed_display'] = (x['date_from'] - x['activation_date']).dt.days\n",
    "    x['duration_display'] = (x['date_to'] - x['date_from']).dt.days\n",
    "    return x\n",
    "\n",
    "# Passing the train data through period_features fn:\n",
    "periods_train = period_features(periods_train)\n",
    "%time periods_train = periods_train.compute()\n",
    "\n",
    "# Passing the test data through period_features fn:\n",
    "periods_test = period_features(periods_test)\n",
    "%time periods_test = periods_test.compute()"
   ]
  },
  {
   "cell_type": "code",
   "execution_count": 4,
   "metadata": {},
   "outputs": [],
   "source": [
    "cat_vars = [\"en_region\", \"en_city\", \"en_parent_category_name\", \"en_category_name\", \"user_type\",\"image_top_1\",\"en_param1\",\"en_param2\",\"en_param3\"]"
   ]
  },
  {
   "cell_type": "code",
   "execution_count": 5,
   "metadata": {},
   "outputs": [],
   "source": [
    "def label_encoding(train_data, categorical_feature_names):\n",
    "    le = preprocessing.LabelEncoder() # Defining Label Encoder\n",
    "    train_cat_features = np.array(train_data[categorical_feature_names])\n",
    "    train_data_array = le.fit_transform(train_cat_features[:,0])\n",
    "    for i in range(1,train_cat_features.shape[1]):\n",
    "        train_data_array = np.column_stack((train_data_array, le.fit_transform(train_cat_features[:,i])))\n",
    "        \n",
    "    train_cat_data_df = pd.DataFrame(train_data_array, columns=categorical_feature_names)\n",
    "    return train_cat_data_df[categorical_feature_names]"
   ]
  },
  {
   "cell_type": "code",
   "execution_count": 6,
   "metadata": {},
   "outputs": [
    {
     "name": "stderr",
     "output_type": "stream",
     "text": [
      "C:\\Program Files\\Anaconda\\lib\\site-packages\\pandas\\core\\frame.py:3035: SettingWithCopyWarning: \n",
      "A value is trying to be set on a copy of a slice from a DataFrame\n",
      "\n",
      "See the caveats in the documentation: http://pandas.pydata.org/pandas-docs/stable/indexing.html#indexing-view-versus-copy\n",
      "  downcast=downcast, **kwargs)\n"
     ]
    }
   ],
   "source": [
    "total_df[['en_param1','en_param2','en_param3','image_top_1']].fillna('Missing', inplace=True)"
   ]
  },
  {
   "cell_type": "code",
   "execution_count": null,
   "metadata": {},
   "outputs": [],
   "source": [
    "train_df[['en_param1','en_param2','en_param3']].fillna('Missing', inplace=True)\n",
    "test_df[['en_param1','en_param2','en_param3']].fillna('Missing', inplace=True)"
   ]
  },
  {
   "cell_type": "code",
   "execution_count": 7,
   "metadata": {},
   "outputs": [],
   "source": [
    "total_df['en_param1'] = total_df['en_param1'].map(str)\n",
    "total_df['en_param2'] = total_df['en_param2'].map(str)\n",
    "total_df['en_param3'] = total_df['en_param3'].map(str)"
   ]
  },
  {
   "cell_type": "code",
   "execution_count": null,
   "metadata": {},
   "outputs": [],
   "source": [
    "train_df['en_param1'] = train_df['en_param1'].map(str)\n",
    "train_df['en_param2'] = train_df['en_param2'].map(str)\n",
    "train_df['en_param3'] = train_df['en_param3'].map(str)"
   ]
  },
  {
   "cell_type": "code",
   "execution_count": null,
   "metadata": {},
   "outputs": [],
   "source": [
    "test_df['en_param1'] = test_df['en_param1'].map(str)\n",
    "test_df['en_param2'] = test_df['en_param2'].map(str)\n",
    "test_df['en_param3'] = test_df['en_param3'].map(str)"
   ]
  },
  {
   "cell_type": "code",
   "execution_count": 8,
   "metadata": {},
   "outputs": [],
   "source": [
    "Catg_Var_LE = label_encoding(total_df, cat_vars)"
   ]
  },
  {
   "cell_type": "code",
   "execution_count": null,
   "metadata": {},
   "outputs": [],
   "source": [
    "Catg_Var_LE_train = label_encoding(train_df,cat_vars)\n",
    "Catg_Var_LE_test = label_encoding(test_df,cat_vars)"
   ]
  },
  {
   "cell_type": "code",
   "execution_count": 9,
   "metadata": {},
   "outputs": [],
   "source": [
    "# Dropping the rows on which One-Hot Encoding has been performed\n",
    "total_df = total_df.drop(Catg_Var_LE.columns, axis=1)\n",
    "# Concating the rows converted using One-Hot Encoding to other columns:\n",
    "total_df = pd.concat([total_df,Catg_Var_LE], axis=1)"
   ]
  },
  {
   "cell_type": "code",
   "execution_count": null,
   "metadata": {},
   "outputs": [],
   "source": [
    "# Dropping the rows on which One-Hot Encoding has been performed\n",
    "train_df = train_df.drop(Catg_Var_LE_train.columns, axis=1)\n",
    "# Concating the rows converted using One-Hot Encoding to other columns:\n",
    "train_df = pd.concat([train_df,Catg_Var_LE_train], axis=1)"
   ]
  },
  {
   "cell_type": "code",
   "execution_count": null,
   "metadata": {},
   "outputs": [],
   "source": [
    "# Dropping the rows on which One-Hot Encoding has been performed\n",
    "test_df = test_df.drop(Catg_Var_LE_test.columns, axis=1)\n",
    "# Concating the rows converted using One-Hot Encoding to other columns:\n",
    "test_df = pd.concat([test_df,Catg_Var_LE_test], axis=1)"
   ]
  },
  {
   "cell_type": "code",
   "execution_count": null,
   "metadata": {},
   "outputs": [],
   "source": [
    "total_df['price_new'] = np.log(total_df['price']+0.001)\n",
    "total_df[\"price_new\"].fillna(np.nanmean(total_df[\"price_new\"].values), inplace=True)"
   ]
  },
  {
   "cell_type": "code",
   "execution_count": 17,
   "metadata": {},
   "outputs": [],
   "source": [
    "train_df = total_df[total_df['set'] == 'train']\n",
    "test_df = total_df[total_df['set'] == 'test']"
   ]
  },
  {
   "cell_type": "code",
   "execution_count": 15,
   "metadata": {},
   "outputs": [],
   "source": [
    "target = 'deal_probability'\n",
    "predictors = ['dow', 'en_region', 'en_city',\n",
    "       'en_parent_category_name', 'en_category_name', 'user_type', 'price_new', 'description_num_chars',\n",
    "       'description_num_words', 'description_num_unique_words',\n",
    "       'description_words_vs_unique', 'combine_param1n2n3_num_chars',\n",
    "        'title_num_chars', 'item_seq_number',\n",
    "       'title_num_words','image_top_1','en_param1','en_param2','en_param3',\n",
    "        'count_by_byuser','count_by_parent_category_byuser','percent_parent_category_byuser',\n",
    "             'count_by_parent_category_city_byuser','count_by_parent_category_city','percent_parent_category_city_byuser',\n",
    "             'count_by_category_city_byuser','count_by_category_city','percent_category_city_byuser',\n",
    "             'count_by_parent_category_region_byuser','count_by_parent_category_region','percent_parent_category_region_byuser',\n",
    "             'count_by_category_region_byuser','count_by_category_region','percent_category_region_byuser',\n",
    "             'meanprice_category_name_city','stdprice_category_name_city','meanprice_parent_category_name_city','stdprice_parent_category_name_city',\n",
    "             'meanprice_category_name_region','stdprice_category_name_region','meanprice_parent_category_name_region','stdprice_parent_category_name_region']\n",
    "\n",
    "# getting the title_svd cols:\n",
    "title_cols = [col for col in svd_df.columns if 'title' in col]\n",
    "title_cols.remove('title')\n",
    "\n",
    "# getting the desc_svd cols:\n",
    "desc_cols = [col for col in svd_df.columns if 'desc' in col]\n",
    "desc_cols.remove('description')\n",
    "\n",
    "# putting all of them together:\n",
    "predictors = predictors + title_cols + desc_cols"
   ]
  },
  {
   "cell_type": "code",
   "execution_count": 16,
   "metadata": {},
   "outputs": [],
   "source": [
    "total_df = pd.concat([total_df, svd_df[title_cols], svd_df[desc_cols]], axis=1)"
   ]
  },
  {
   "cell_type": "code",
   "execution_count": 18,
   "metadata": {},
   "outputs": [
    {
     "data": {
      "text/plain": [
       "24"
      ]
     },
     "execution_count": 18,
     "metadata": {},
     "output_type": "execute_result"
    }
   ],
   "source": [
    "# del svd_df\n",
    "# del prev_df\n",
    "#del total_df\n",
    "gc.collect()"
   ]
  },
  {
   "cell_type": "code",
   "execution_count": null,
   "metadata": {},
   "outputs": [],
   "source": [
    "['title_words_vs_unique','combine_param1n2n3_words_vs_unique','combine_param1n2n3_num_unique_words','combine_param1n2n3_num_words','title_num_unique_words']"
   ]
  },
  {
   "cell_type": "markdown",
   "metadata": {},
   "source": [
    "### Standarizing data:"
   ]
  },
  {
   "cell_type": "code",
   "execution_count": null,
   "metadata": {},
   "outputs": [],
   "source": [
    "from sklearn.preprocessing import StandardScaler\n",
    "sc = StandardScaler()"
   ]
  },
  {
   "cell_type": "code",
   "execution_count": null,
   "metadata": {},
   "outputs": [],
   "source": [
    "numeric_cols = ['price_new','description_num_chars','description_num_words','description_num_unique_words',\n",
    "                'description_words_vs_unique','combine_param1n2n3_num_chars','combine_param1n2n3_num_words',\n",
    "               'combine_param1n2n3_num_unique_words','combine_param1n2n3_words_vs_unique','title_num_chars',\n",
    "               'title_words_vs_unique']"
   ]
  },
  {
   "cell_type": "code",
   "execution_count": null,
   "metadata": {},
   "outputs": [],
   "source": [
    "total_df[numeric_cols] = sc.fit_transform(total_df[numeric_cols])"
   ]
  },
  {
   "cell_type": "code",
   "execution_count": null,
   "metadata": {},
   "outputs": [],
   "source": [
    "#Splitting the data for model training#\n",
    "dev_X = train_df.iloc[:-200000,:]\n",
    "val_X = train_df.iloc[-200000:,:]\n",
    "\n",
    "# # Splitting based on date:\n",
    "# dev_X = train_df[train_df['activation_date'] <= '2017-03-23']\n",
    "# val_X = train_df[train_df['activation_date'] > '2017-03-23']"
   ]
  },
  {
   "cell_type": "code",
   "execution_count": 22,
   "metadata": {},
   "outputs": [],
   "source": [
    "def run_lgb(train_X, val_X):\n",
    "    params = {\n",
    "        \"objective\" : \"regression\",\n",
    "        \"metric\" : \"rmse\",\n",
    "        \"num_leaves\" : 40,\n",
    "        \"learning_rate\" : 0.1,\n",
    "        \"bagging_fraction\" : 0.7,\n",
    "        \"feature_fraction\" : 0.7,\n",
    "        \"bagging_frequency\" : 5,\n",
    "        \"bagging_seed\" : 2018,\n",
    "        \"verbosity\" : -1\n",
    "    }\n",
    "    \n",
    "    lgtrain = lgb.Dataset(train_X[predictors].values, label=train_X[target].values, feature_name=predictors)\n",
    "    lgval = lgb.Dataset(val_X[predictors].values, label=val_X[target].values, feature_name=predictors)\n",
    "    evals_result = {}\n",
    "    model = lgb.train(params, lgtrain, 5000, valid_sets=[lgtrain, lgval], valid_names=['train','valid'],\n",
    "                      early_stopping_rounds=100, verbose_eval=20, evals_result=evals_result)\n",
    "    #model = lgb.cv(params, lgtrain, 5000, verbose_eval=20, nfold=5, stratified=True)\n",
    "    \n",
    "    #pred_test_y = model.predict(test_X, num_iteration=model.best_iteration)\n",
    "    return model, evals_result"
   ]
  },
  {
   "cell_type": "code",
   "execution_count": null,
   "metadata": {},
   "outputs": [],
   "source": [
    "params = {\n",
    "        \"objective\" : \"regression\",\n",
    "        \"metric\" : \"rmse\",\n",
    "        \"num_leaves\" : 30,\n",
    "        \"learning_rate\" : 0.1,\n",
    "        \"bagging_fraction\" : 0.7,\n",
    "        \"feature_fraction\" : 0.7,\n",
    "        \"bagging_frequency\" : 5,\n",
    "        \"bagging_seed\" : 2018,\n",
    "        \"verbosity\" : -1\n",
    "    }"
   ]
  },
  {
   "cell_type": "code",
   "execution_count": null,
   "metadata": {},
   "outputs": [],
   "source": [
    "num_leaves = [20, 25, 30, 35, 40]\n",
    "learning_rate = [0.01, 0.05, 0.1, 0.15, 0.2]\n",
    "bst_results = []\n",
    "for num_lv in num_leaves:\n",
    "    for lr in learning_rate:\n",
    "        new_params = {\"num_leaves\" : num_lv, \"learning_rate\" : lr}\n",
    "        params.update(new_params)\n",
    "        lgtrain = lgb.Dataset(train_X[predictors].values, label=train_X[target].values)\n",
    "        lgval = lgb.Dataset(val_X[predictors].values, label=val_X[target].values)\n",
    "        evals_result = {}\n",
    "        model = lgb.train(params, lgtrain, 1000, valid_sets=[lgtrain, lgval], early_stopping_rounds=100, verbose_eval=20, evals_result=evals_result)\n",
    "        bst_results.append(params, )"
   ]
  },
  {
   "cell_type": "code",
   "execution_count": null,
   "metadata": {},
   "outputs": [],
   "source": [
    "model = lgb.LGBMRegressor(objective=\"regression\",\n",
    "        metric = \"rmse\",\n",
    "        num_leaves = 30,\n",
    "        learning_rate = 0.1,\n",
    "        bagging_fraction = 0.7,\n",
    "        feature_fraction = 0.7,\n",
    "        bagging_frequency = 5,\n",
    "        bagging_seed = 2018,\n",
    "        verbosity = -1)"
   ]
  },
  {
   "cell_type": "code",
   "execution_count": null,
   "metadata": {},
   "outputs": [],
   "source": [
    "params_opt = {'learning_rate': [0.01, 0.05, 0.1, 0.15, 0.2], \"num_leaves\" : [20, 25, 30, 35, 40]}"
   ]
  },
  {
   "cell_type": "code",
   "execution_count": null,
   "metadata": {},
   "outputs": [],
   "source": [
    "gridSearchCV = GridSearchCV(estimator = model, \n",
    "    param_grid = params_opt, verbose=1)"
   ]
  },
  {
   "cell_type": "code",
   "execution_count": null,
   "metadata": {},
   "outputs": [],
   "source": [
    "gridSearchCV.fit(train_df[predictors],train_df[target])"
   ]
  },
  {
   "cell_type": "code",
   "execution_count": null,
   "metadata": {},
   "outputs": [],
   "source": [
    "gridSearchCV.grid_scores_"
   ]
  },
  {
   "cell_type": "code",
   "execution_count": 19,
   "metadata": {},
   "outputs": [],
   "source": [
    "from sklearn.model_selection import KFold"
   ]
  },
  {
   "cell_type": "code",
   "execution_count": 20,
   "metadata": {},
   "outputs": [],
   "source": [
    "kf = KFold(n_splits=5)"
   ]
  },
  {
   "cell_type": "code",
   "execution_count": 21,
   "metadata": {},
   "outputs": [
    {
     "data": {
      "text/plain": [
       "0"
      ]
     },
     "execution_count": 21,
     "metadata": {},
     "output_type": "execute_result"
    }
   ],
   "source": [
    "gc.collect()"
   ]
  },
  {
   "cell_type": "code",
   "execution_count": 10,
   "metadata": {},
   "outputs": [],
   "source": [
    "prev_df = pd.read_csv('total_translated_05102018.csv')"
   ]
  },
  {
   "cell_type": "code",
   "execution_count": 11,
   "metadata": {},
   "outputs": [],
   "source": [
    "prev_df = prev_df[['description_num_chars', 'description_num_words', 'description_num_unique_words', 'description_words_vs_unique', 'combine_param1n2n3_num_chars', 'title_num_chars', 'title_num_words']]"
   ]
  },
  {
   "cell_type": "code",
   "execution_count": 12,
   "metadata": {},
   "outputs": [],
   "source": [
    "total_df = pd.concat([total_df, prev_df], axis=1)"
   ]
  },
  {
   "cell_type": "code",
   "execution_count": 23,
   "metadata": {
    "scrolled": true
   },
   "outputs": [
    {
     "name": "stdout",
     "output_type": "stream",
     "text": [
      "Modeling for 1_fold\n",
      "Training until validation scores don't improve for 100 rounds.\n",
      "[20]\ttrain's rmse: 0.233929\tvalid's rmse: 0.234247\n",
      "[40]\ttrain's rmse: 0.230504\tvalid's rmse: 0.231009\n",
      "[60]\ttrain's rmse: 0.228748\tvalid's rmse: 0.229425\n",
      "[80]\ttrain's rmse: 0.227651\tvalid's rmse: 0.228544\n",
      "[100]\ttrain's rmse: 0.226754\tvalid's rmse: 0.22785\n",
      "[120]\ttrain's rmse: 0.225983\tvalid's rmse: 0.227308\n",
      "[140]\ttrain's rmse: 0.225383\tvalid's rmse: 0.226965\n",
      "[160]\ttrain's rmse: 0.224787\tvalid's rmse: 0.226603\n",
      "[180]\ttrain's rmse: 0.224267\tvalid's rmse: 0.22633\n",
      "[200]\ttrain's rmse: 0.223786\tvalid's rmse: 0.22609\n",
      "[220]\ttrain's rmse: 0.223404\tvalid's rmse: 0.225975\n",
      "[240]\ttrain's rmse: 0.222994\tvalid's rmse: 0.225803\n",
      "[260]\ttrain's rmse: 0.222608\tvalid's rmse: 0.225651\n",
      "[280]\ttrain's rmse: 0.222213\tvalid's rmse: 0.225521\n",
      "[300]\ttrain's rmse: 0.22186\tvalid's rmse: 0.225415\n",
      "[320]\ttrain's rmse: 0.2215\tvalid's rmse: 0.225287\n",
      "[340]\ttrain's rmse: 0.221198\tvalid's rmse: 0.225232\n",
      "[360]\ttrain's rmse: 0.220822\tvalid's rmse: 0.225104\n",
      "[380]\ttrain's rmse: 0.220508\tvalid's rmse: 0.225046\n",
      "[400]\ttrain's rmse: 0.220177\tvalid's rmse: 0.224958\n",
      "[420]\ttrain's rmse: 0.219809\tvalid's rmse: 0.224854\n",
      "[440]\ttrain's rmse: 0.219513\tvalid's rmse: 0.224815\n",
      "[460]\ttrain's rmse: 0.219211\tvalid's rmse: 0.224782\n",
      "[480]\ttrain's rmse: 0.218917\tvalid's rmse: 0.224743\n",
      "[500]\ttrain's rmse: 0.2186\tvalid's rmse: 0.224678\n",
      "[520]\ttrain's rmse: 0.218276\tvalid's rmse: 0.224616\n",
      "[540]\ttrain's rmse: 0.217978\tvalid's rmse: 0.224571\n",
      "[560]\ttrain's rmse: 0.21769\tvalid's rmse: 0.224538\n",
      "[580]\ttrain's rmse: 0.217427\tvalid's rmse: 0.224527\n",
      "[600]\ttrain's rmse: 0.217139\tvalid's rmse: 0.224481\n",
      "[620]\ttrain's rmse: 0.216877\tvalid's rmse: 0.224451\n",
      "[640]\ttrain's rmse: 0.216591\tvalid's rmse: 0.224397\n",
      "[660]\ttrain's rmse: 0.21628\tvalid's rmse: 0.224339\n",
      "[680]\ttrain's rmse: 0.215997\tvalid's rmse: 0.224301\n",
      "[700]\ttrain's rmse: 0.21574\tvalid's rmse: 0.224288\n",
      "[720]\ttrain's rmse: 0.215483\tvalid's rmse: 0.224273\n",
      "[740]\ttrain's rmse: 0.215216\tvalid's rmse: 0.224244\n",
      "[760]\ttrain's rmse: 0.214963\tvalid's rmse: 0.224227\n",
      "[780]\ttrain's rmse: 0.21468\tvalid's rmse: 0.224197\n",
      "[800]\ttrain's rmse: 0.214421\tvalid's rmse: 0.224174\n",
      "[820]\ttrain's rmse: 0.214166\tvalid's rmse: 0.224163\n",
      "[840]\ttrain's rmse: 0.213898\tvalid's rmse: 0.224123\n",
      "[860]\ttrain's rmse: 0.213643\tvalid's rmse: 0.224111\n",
      "[880]\ttrain's rmse: 0.213399\tvalid's rmse: 0.224094\n",
      "[900]\ttrain's rmse: 0.213139\tvalid's rmse: 0.224064\n",
      "[920]\ttrain's rmse: 0.212895\tvalid's rmse: 0.22405\n",
      "[940]\ttrain's rmse: 0.212664\tvalid's rmse: 0.224033\n",
      "[960]\ttrain's rmse: 0.212415\tvalid's rmse: 0.224012\n",
      "[980]\ttrain's rmse: 0.212171\tvalid's rmse: 0.223994\n",
      "[1000]\ttrain's rmse: 0.211922\tvalid's rmse: 0.223982\n",
      "[1020]\ttrain's rmse: 0.211664\tvalid's rmse: 0.223954\n",
      "[1040]\ttrain's rmse: 0.211398\tvalid's rmse: 0.22392\n",
      "[1060]\ttrain's rmse: 0.211174\tvalid's rmse: 0.223911\n",
      "[1080]\ttrain's rmse: 0.21095\tvalid's rmse: 0.223907\n",
      "[1100]\ttrain's rmse: 0.21071\tvalid's rmse: 0.223897\n",
      "[1120]\ttrain's rmse: 0.210475\tvalid's rmse: 0.223883\n",
      "[1140]\ttrain's rmse: 0.210232\tvalid's rmse: 0.223874\n",
      "[1160]\ttrain's rmse: 0.209991\tvalid's rmse: 0.223851\n",
      "[1180]\ttrain's rmse: 0.209761\tvalid's rmse: 0.223835\n",
      "[1200]\ttrain's rmse: 0.209513\tvalid's rmse: 0.22382\n",
      "[1220]\ttrain's rmse: 0.209277\tvalid's rmse: 0.223805\n",
      "[1240]\ttrain's rmse: 0.209045\tvalid's rmse: 0.223794\n",
      "[1260]\ttrain's rmse: 0.208825\tvalid's rmse: 0.223798\n",
      "[1280]\ttrain's rmse: 0.208601\tvalid's rmse: 0.223793\n",
      "[1300]\ttrain's rmse: 0.208377\tvalid's rmse: 0.223776\n",
      "[1320]\ttrain's rmse: 0.208156\tvalid's rmse: 0.223769\n",
      "[1340]\ttrain's rmse: 0.207896\tvalid's rmse: 0.223749\n",
      "[1360]\ttrain's rmse: 0.207662\tvalid's rmse: 0.223733\n",
      "[1380]\ttrain's rmse: 0.20745\tvalid's rmse: 0.223728\n",
      "[1400]\ttrain's rmse: 0.207211\tvalid's rmse: 0.223719\n",
      "[1420]\ttrain's rmse: 0.206995\tvalid's rmse: 0.223696\n",
      "[1440]\ttrain's rmse: 0.206793\tvalid's rmse: 0.22369\n",
      "[1460]\ttrain's rmse: 0.206565\tvalid's rmse: 0.22367\n",
      "[1480]\ttrain's rmse: 0.206364\tvalid's rmse: 0.223664\n",
      "[1500]\ttrain's rmse: 0.206148\tvalid's rmse: 0.223657\n",
      "[1520]\ttrain's rmse: 0.205917\tvalid's rmse: 0.223651\n",
      "[1540]\ttrain's rmse: 0.205708\tvalid's rmse: 0.223625\n",
      "[1560]\ttrain's rmse: 0.205515\tvalid's rmse: 0.223628\n",
      "[1580]\ttrain's rmse: 0.205309\tvalid's rmse: 0.223619\n",
      "[1600]\ttrain's rmse: 0.20507\tvalid's rmse: 0.223618\n",
      "[1620]\ttrain's rmse: 0.204839\tvalid's rmse: 0.223604\n",
      "[1640]\ttrain's rmse: 0.204624\tvalid's rmse: 0.223604\n",
      "[1660]\ttrain's rmse: 0.20441\tvalid's rmse: 0.223596\n",
      "[1680]\ttrain's rmse: 0.204195\tvalid's rmse: 0.223591\n",
      "[1700]\ttrain's rmse: 0.203993\tvalid's rmse: 0.223587\n",
      "[1720]\ttrain's rmse: 0.203798\tvalid's rmse: 0.223578\n",
      "[1740]\ttrain's rmse: 0.203599\tvalid's rmse: 0.223577\n",
      "[1760]\ttrain's rmse: 0.20339\tvalid's rmse: 0.223571\n",
      "[1780]\ttrain's rmse: 0.203173\tvalid's rmse: 0.223576\n",
      "[1800]\ttrain's rmse: 0.202973\tvalid's rmse: 0.223583\n",
      "[1820]\ttrain's rmse: 0.202765\tvalid's rmse: 0.223589\n",
      "[1840]\ttrain's rmse: 0.202543\tvalid's rmse: 0.223581\n",
      "[1860]\ttrain's rmse: 0.20234\tvalid's rmse: 0.223565\n",
      "[1880]\ttrain's rmse: 0.202138\tvalid's rmse: 0.223561\n",
      "[1900]\ttrain's rmse: 0.201947\tvalid's rmse: 0.223559\n",
      "[1920]\ttrain's rmse: 0.201726\tvalid's rmse: 0.223559\n",
      "[1940]\ttrain's rmse: 0.201527\tvalid's rmse: 0.223551\n",
      "[1960]\ttrain's rmse: 0.201309\tvalid's rmse: 0.223547\n",
      "[1980]\ttrain's rmse: 0.201125\tvalid's rmse: 0.223543\n",
      "[2000]\ttrain's rmse: 0.200943\tvalid's rmse: 0.223542\n",
      "[2020]\ttrain's rmse: 0.200747\tvalid's rmse: 0.223538\n",
      "[2040]\ttrain's rmse: 0.200561\tvalid's rmse: 0.223542\n",
      "[2060]\ttrain's rmse: 0.200362\tvalid's rmse: 0.223533\n",
      "[2080]\ttrain's rmse: 0.200179\tvalid's rmse: 0.223529\n",
      "[2100]\ttrain's rmse: 0.199983\tvalid's rmse: 0.22353\n",
      "[2120]\ttrain's rmse: 0.199796\tvalid's rmse: 0.223525\n",
      "[2140]\ttrain's rmse: 0.199596\tvalid's rmse: 0.223522\n",
      "[2160]\ttrain's rmse: 0.199411\tvalid's rmse: 0.223522\n",
      "[2180]\ttrain's rmse: 0.199199\tvalid's rmse: 0.223527\n",
      "[2200]\ttrain's rmse: 0.198998\tvalid's rmse: 0.22352\n",
      "[2220]\ttrain's rmse: 0.198792\tvalid's rmse: 0.223529\n",
      "[2240]\ttrain's rmse: 0.198591\tvalid's rmse: 0.223533\n",
      "Early stopping, best iteration is:\n",
      "[2143]\ttrain's rmse: 0.199567\tvalid's rmse: 0.223517\n",
      "Done modeling...\n",
      "Generating predictions....\n"
     ]
    },
    {
     "name": "stderr",
     "output_type": "stream",
     "text": [
      "C:\\Program Files\\Anaconda\\lib\\site-packages\\ipykernel_launcher.py:19: SettingWithCopyWarning: \n",
      "A value is trying to be set on a copy of a slice from a DataFrame.\n",
      "Try using .loc[row_indexer,col_indexer] = value instead\n",
      "\n",
      "See the caveats in the documentation: http://pandas.pydata.org/pandas-docs/stable/indexing.html#indexing-view-versus-copy\n"
     ]
    },
    {
     "name": "stdout",
     "output_type": "stream",
     "text": [
      "Modeling for 2_fold\n",
      "Training until validation scores don't improve for 100 rounds.\n",
      "[20]\ttrain's rmse: 0.234042\tvalid's rmse: 0.234273\n",
      "[40]\ttrain's rmse: 0.230617\tvalid's rmse: 0.231248\n",
      "[60]\ttrain's rmse: 0.228842\tvalid's rmse: 0.229716\n",
      "[80]\ttrain's rmse: 0.227699\tvalid's rmse: 0.22879\n",
      "[100]\ttrain's rmse: 0.226788\tvalid's rmse: 0.228121\n",
      "[120]\ttrain's rmse: 0.225981\tvalid's rmse: 0.227532\n",
      "[140]\ttrain's rmse: 0.225353\tvalid's rmse: 0.227133\n",
      "[160]\ttrain's rmse: 0.224784\tvalid's rmse: 0.226811\n",
      "[180]\ttrain's rmse: 0.224293\tvalid's rmse: 0.226576\n",
      "[200]\ttrain's rmse: 0.223806\tvalid's rmse: 0.226349\n",
      "[220]\ttrain's rmse: 0.223382\tvalid's rmse: 0.226188\n",
      "[240]\ttrain's rmse: 0.222956\tvalid's rmse: 0.226008\n",
      "[260]\ttrain's rmse: 0.222536\tvalid's rmse: 0.225853\n",
      "[280]\ttrain's rmse: 0.222128\tvalid's rmse: 0.225722\n",
      "[300]\ttrain's rmse: 0.221792\tvalid's rmse: 0.225634\n",
      "[320]\ttrain's rmse: 0.22143\tvalid's rmse: 0.225534\n",
      "[340]\ttrain's rmse: 0.221106\tvalid's rmse: 0.225485\n",
      "[360]\ttrain's rmse: 0.2208\tvalid's rmse: 0.225434\n",
      "[380]\ttrain's rmse: 0.220491\tvalid's rmse: 0.225374\n",
      "[400]\ttrain's rmse: 0.220147\tvalid's rmse: 0.225279\n",
      "[420]\ttrain's rmse: 0.219842\tvalid's rmse: 0.225219\n",
      "[440]\ttrain's rmse: 0.21952\tvalid's rmse: 0.225161\n",
      "[460]\ttrain's rmse: 0.219196\tvalid's rmse: 0.225089\n",
      "[480]\ttrain's rmse: 0.218892\tvalid's rmse: 0.225021\n",
      "[500]\ttrain's rmse: 0.218601\tvalid's rmse: 0.224979\n",
      "[520]\ttrain's rmse: 0.218306\tvalid's rmse: 0.224942\n",
      "[540]\ttrain's rmse: 0.217997\tvalid's rmse: 0.224894\n",
      "[560]\ttrain's rmse: 0.217733\tvalid's rmse: 0.22487\n",
      "[580]\ttrain's rmse: 0.217421\tvalid's rmse: 0.224813\n",
      "[600]\ttrain's rmse: 0.217107\tvalid's rmse: 0.224754\n",
      "[620]\ttrain's rmse: 0.216847\tvalid's rmse: 0.224724\n",
      "[640]\ttrain's rmse: 0.216565\tvalid's rmse: 0.224681\n",
      "[660]\ttrain's rmse: 0.216289\tvalid's rmse: 0.22463\n",
      "[680]\ttrain's rmse: 0.216028\tvalid's rmse: 0.224601\n",
      "[700]\ttrain's rmse: 0.215742\tvalid's rmse: 0.224549\n",
      "[720]\ttrain's rmse: 0.215471\tvalid's rmse: 0.224522\n",
      "[740]\ttrain's rmse: 0.215221\tvalid's rmse: 0.224504\n",
      "[760]\ttrain's rmse: 0.214942\tvalid's rmse: 0.224462\n",
      "[780]\ttrain's rmse: 0.214659\tvalid's rmse: 0.224419\n",
      "[800]\ttrain's rmse: 0.214386\tvalid's rmse: 0.224379\n",
      "[820]\ttrain's rmse: 0.214098\tvalid's rmse: 0.224341\n",
      "[840]\ttrain's rmse: 0.2138\tvalid's rmse: 0.224302\n",
      "[860]\ttrain's rmse: 0.213559\tvalid's rmse: 0.224282\n",
      "[880]\ttrain's rmse: 0.213321\tvalid's rmse: 0.224266\n",
      "[900]\ttrain's rmse: 0.213063\tvalid's rmse: 0.224239\n",
      "[920]\ttrain's rmse: 0.212797\tvalid's rmse: 0.224213\n",
      "[940]\ttrain's rmse: 0.212556\tvalid's rmse: 0.224193\n",
      "[960]\ttrain's rmse: 0.212311\tvalid's rmse: 0.224177\n",
      "[980]\ttrain's rmse: 0.212066\tvalid's rmse: 0.224162\n",
      "[1000]\ttrain's rmse: 0.211815\tvalid's rmse: 0.224143\n",
      "[1020]\ttrain's rmse: 0.211568\tvalid's rmse: 0.224114\n",
      "[1040]\ttrain's rmse: 0.211304\tvalid's rmse: 0.224078\n",
      "[1060]\ttrain's rmse: 0.21104\tvalid's rmse: 0.224055\n",
      "[1080]\ttrain's rmse: 0.210791\tvalid's rmse: 0.224036\n",
      "[1100]\ttrain's rmse: 0.210554\tvalid's rmse: 0.224021\n",
      "[1120]\ttrain's rmse: 0.210322\tvalid's rmse: 0.224008\n",
      "[1140]\ttrain's rmse: 0.21007\tvalid's rmse: 0.223987\n",
      "[1160]\ttrain's rmse: 0.209828\tvalid's rmse: 0.223959\n",
      "[1180]\ttrain's rmse: 0.209608\tvalid's rmse: 0.22396\n",
      "[1200]\ttrain's rmse: 0.209404\tvalid's rmse: 0.223952\n",
      "[1220]\ttrain's rmse: 0.209174\tvalid's rmse: 0.223946\n",
      "[1240]\ttrain's rmse: 0.208955\tvalid's rmse: 0.223937\n",
      "[1260]\ttrain's rmse: 0.208731\tvalid's rmse: 0.223929\n",
      "[1280]\ttrain's rmse: 0.208545\tvalid's rmse: 0.223927\n",
      "[1300]\ttrain's rmse: 0.208303\tvalid's rmse: 0.223912\n",
      "[1320]\ttrain's rmse: 0.208093\tvalid's rmse: 0.223919\n",
      "[1340]\ttrain's rmse: 0.207862\tvalid's rmse: 0.223911\n",
      "[1360]\ttrain's rmse: 0.207633\tvalid's rmse: 0.22391\n",
      "[1380]\ttrain's rmse: 0.207416\tvalid's rmse: 0.223909\n",
      "[1400]\ttrain's rmse: 0.207175\tvalid's rmse: 0.223886\n",
      "[1420]\ttrain's rmse: 0.206973\tvalid's rmse: 0.223891\n",
      "[1440]\ttrain's rmse: 0.206769\tvalid's rmse: 0.223899\n",
      "[1460]\ttrain's rmse: 0.206547\tvalid's rmse: 0.22388\n",
      "[1480]\ttrain's rmse: 0.206317\tvalid's rmse: 0.22388\n",
      "[1500]\ttrain's rmse: 0.20609\tvalid's rmse: 0.223871\n",
      "[1520]\ttrain's rmse: 0.205895\tvalid's rmse: 0.223868\n",
      "[1540]\ttrain's rmse: 0.205685\tvalid's rmse: 0.223866\n",
      "[1560]\ttrain's rmse: 0.205461\tvalid's rmse: 0.223849\n",
      "[1580]\ttrain's rmse: 0.205248\tvalid's rmse: 0.223844\n",
      "[1600]\ttrain's rmse: 0.205041\tvalid's rmse: 0.223842\n",
      "[1620]\ttrain's rmse: 0.204841\tvalid's rmse: 0.22384\n",
      "[1640]\ttrain's rmse: 0.20462\tvalid's rmse: 0.223845\n",
      "[1660]\ttrain's rmse: 0.204402\tvalid's rmse: 0.223841\n",
      "[1680]\ttrain's rmse: 0.204207\tvalid's rmse: 0.223838\n",
      "[1700]\ttrain's rmse: 0.204012\tvalid's rmse: 0.223833\n",
      "[1720]\ttrain's rmse: 0.203791\tvalid's rmse: 0.223821\n",
      "[1740]\ttrain's rmse: 0.20361\tvalid's rmse: 0.223824\n",
      "[1760]\ttrain's rmse: 0.203396\tvalid's rmse: 0.223809\n",
      "[1780]\ttrain's rmse: 0.203186\tvalid's rmse: 0.223808\n",
      "[1800]\ttrain's rmse: 0.20298\tvalid's rmse: 0.223803\n",
      "[1820]\ttrain's rmse: 0.202782\tvalid's rmse: 0.223803\n",
      "[1840]\ttrain's rmse: 0.202568\tvalid's rmse: 0.223796\n",
      "[1860]\ttrain's rmse: 0.202367\tvalid's rmse: 0.223794\n",
      "[1880]\ttrain's rmse: 0.202159\tvalid's rmse: 0.223795\n",
      "[1900]\ttrain's rmse: 0.201952\tvalid's rmse: 0.223783\n",
      "[1920]\ttrain's rmse: 0.201765\tvalid's rmse: 0.223776\n",
      "[1940]\ttrain's rmse: 0.201564\tvalid's rmse: 0.223773\n",
      "[1960]\ttrain's rmse: 0.201373\tvalid's rmse: 0.223762\n",
      "[1980]\ttrain's rmse: 0.201164\tvalid's rmse: 0.223749\n",
      "[2000]\ttrain's rmse: 0.200982\tvalid's rmse: 0.223754\n",
      "[2020]\ttrain's rmse: 0.200766\tvalid's rmse: 0.223744\n",
      "[2040]\ttrain's rmse: 0.20057\tvalid's rmse: 0.223745\n",
      "[2060]\ttrain's rmse: 0.200364\tvalid's rmse: 0.223737\n",
      "[2080]\ttrain's rmse: 0.20017\tvalid's rmse: 0.22374\n",
      "[2100]\ttrain's rmse: 0.199954\tvalid's rmse: 0.223738\n",
      "[2120]\ttrain's rmse: 0.199738\tvalid's rmse: 0.22373\n",
      "[2140]\ttrain's rmse: 0.199541\tvalid's rmse: 0.223731\n",
      "[2160]\ttrain's rmse: 0.199342\tvalid's rmse: 0.223732\n",
      "[2180]\ttrain's rmse: 0.199143\tvalid's rmse: 0.223729\n",
      "[2200]\ttrain's rmse: 0.198949\tvalid's rmse: 0.223723\n",
      "[2220]\ttrain's rmse: 0.198769\tvalid's rmse: 0.223732\n",
      "[2240]\ttrain's rmse: 0.198577\tvalid's rmse: 0.22373\n",
      "[2260]\ttrain's rmse: 0.198384\tvalid's rmse: 0.223733\n",
      "[2280]\ttrain's rmse: 0.198191\tvalid's rmse: 0.223723\n",
      "[2300]\ttrain's rmse: 0.198008\tvalid's rmse: 0.223729\n",
      "Early stopping, best iteration is:\n",
      "[2201]\ttrain's rmse: 0.198937\tvalid's rmse: 0.223722\n",
      "Done modeling...\n",
      "Generating predictions....\n",
      "Modeling for 3_fold\n",
      "Training until validation scores don't improve for 100 rounds.\n",
      "[20]\ttrain's rmse: 0.234124\tvalid's rmse: 0.233897\n",
      "[40]\ttrain's rmse: 0.230632\tvalid's rmse: 0.230762\n",
      "[60]\ttrain's rmse: 0.228952\tvalid's rmse: 0.229336\n",
      "[80]\ttrain's rmse: 0.227817\tvalid's rmse: 0.228426\n",
      "[100]\ttrain's rmse: 0.226857\tvalid's rmse: 0.22769\n",
      "[120]\ttrain's rmse: 0.226088\tvalid's rmse: 0.22715\n",
      "[140]\ttrain's rmse: 0.225448\tvalid's rmse: 0.226766\n",
      "[160]\ttrain's rmse: 0.224848\tvalid's rmse: 0.226395\n",
      "[180]\ttrain's rmse: 0.224391\tvalid's rmse: 0.226194\n",
      "[200]\ttrain's rmse: 0.223942\tvalid's rmse: 0.225995\n",
      "[220]\ttrain's rmse: 0.223541\tvalid's rmse: 0.225858\n",
      "[240]\ttrain's rmse: 0.223126\tvalid's rmse: 0.22569\n",
      "[260]\ttrain's rmse: 0.222712\tvalid's rmse: 0.225538\n",
      "[280]\ttrain's rmse: 0.222347\tvalid's rmse: 0.22545\n",
      "[300]\ttrain's rmse: 0.221964\tvalid's rmse: 0.225317\n",
      "[320]\ttrain's rmse: 0.221592\tvalid's rmse: 0.225204\n",
      "[340]\ttrain's rmse: 0.221242\tvalid's rmse: 0.225102\n",
      "[360]\ttrain's rmse: 0.220929\tvalid's rmse: 0.225014\n",
      "[380]\ttrain's rmse: 0.220597\tvalid's rmse: 0.224941\n",
      "[400]\ttrain's rmse: 0.220253\tvalid's rmse: 0.224848\n",
      "[420]\ttrain's rmse: 0.219971\tvalid's rmse: 0.224824\n",
      "[440]\ttrain's rmse: 0.219638\tvalid's rmse: 0.224761\n",
      "[460]\ttrain's rmse: 0.219303\tvalid's rmse: 0.224683\n",
      "[480]\ttrain's rmse: 0.219009\tvalid's rmse: 0.224651\n",
      "[500]\ttrain's rmse: 0.218707\tvalid's rmse: 0.224582\n",
      "[520]\ttrain's rmse: 0.218381\tvalid's rmse: 0.2245\n",
      "[540]\ttrain's rmse: 0.21807\tvalid's rmse: 0.224442\n",
      "[560]\ttrain's rmse: 0.217761\tvalid's rmse: 0.224385\n",
      "[580]\ttrain's rmse: 0.217481\tvalid's rmse: 0.224339\n",
      "[600]\ttrain's rmse: 0.217205\tvalid's rmse: 0.224308\n",
      "[620]\ttrain's rmse: 0.216918\tvalid's rmse: 0.22427\n",
      "[640]\ttrain's rmse: 0.216621\tvalid's rmse: 0.224235\n",
      "[660]\ttrain's rmse: 0.216326\tvalid's rmse: 0.224189\n",
      "[680]\ttrain's rmse: 0.216036\tvalid's rmse: 0.224145\n",
      "[700]\ttrain's rmse: 0.215778\tvalid's rmse: 0.224125\n",
      "[720]\ttrain's rmse: 0.215517\tvalid's rmse: 0.224107\n",
      "[740]\ttrain's rmse: 0.21523\tvalid's rmse: 0.224052\n",
      "[760]\ttrain's rmse: 0.214953\tvalid's rmse: 0.224017\n",
      "[780]\ttrain's rmse: 0.214679\tvalid's rmse: 0.223989\n",
      "[800]\ttrain's rmse: 0.214438\tvalid's rmse: 0.223981\n",
      "[820]\ttrain's rmse: 0.21418\tvalid's rmse: 0.223966\n",
      "[840]\ttrain's rmse: 0.213911\tvalid's rmse: 0.223943\n",
      "[860]\ttrain's rmse: 0.213674\tvalid's rmse: 0.22392\n",
      "[880]\ttrain's rmse: 0.213441\tvalid's rmse: 0.223911\n",
      "[900]\ttrain's rmse: 0.21317\tvalid's rmse: 0.223872\n",
      "[920]\ttrain's rmse: 0.212931\tvalid's rmse: 0.223859\n",
      "[940]\ttrain's rmse: 0.212668\tvalid's rmse: 0.223846\n",
      "[960]\ttrain's rmse: 0.21245\tvalid's rmse: 0.223842\n",
      "[980]\ttrain's rmse: 0.212212\tvalid's rmse: 0.223832\n",
      "[1000]\ttrain's rmse: 0.211967\tvalid's rmse: 0.223821\n",
      "[1020]\ttrain's rmse: 0.21171\tvalid's rmse: 0.223798\n",
      "[1040]\ttrain's rmse: 0.211467\tvalid's rmse: 0.223796\n",
      "[1060]\ttrain's rmse: 0.211219\tvalid's rmse: 0.223789\n",
      "[1080]\ttrain's rmse: 0.210973\tvalid's rmse: 0.223778\n",
      "[1100]\ttrain's rmse: 0.210734\tvalid's rmse: 0.223768\n",
      "[1120]\ttrain's rmse: 0.210499\tvalid's rmse: 0.223761\n",
      "[1140]\ttrain's rmse: 0.210276\tvalid's rmse: 0.223751\n",
      "[1160]\ttrain's rmse: 0.210059\tvalid's rmse: 0.223736\n",
      "[1180]\ttrain's rmse: 0.209834\tvalid's rmse: 0.223717\n",
      "[1200]\ttrain's rmse: 0.209599\tvalid's rmse: 0.223699\n",
      "[1220]\ttrain's rmse: 0.209364\tvalid's rmse: 0.223687\n",
      "[1240]\ttrain's rmse: 0.20913\tvalid's rmse: 0.223671\n",
      "[1260]\ttrain's rmse: 0.208893\tvalid's rmse: 0.223667\n",
      "[1280]\ttrain's rmse: 0.208658\tvalid's rmse: 0.223662\n",
      "[1300]\ttrain's rmse: 0.208435\tvalid's rmse: 0.223645\n",
      "[1320]\ttrain's rmse: 0.208215\tvalid's rmse: 0.223636\n",
      "[1340]\ttrain's rmse: 0.207984\tvalid's rmse: 0.223633\n",
      "[1360]\ttrain's rmse: 0.207763\tvalid's rmse: 0.223628\n",
      "[1380]\ttrain's rmse: 0.207566\tvalid's rmse: 0.223621\n",
      "[1400]\ttrain's rmse: 0.207338\tvalid's rmse: 0.223619\n",
      "[1420]\ttrain's rmse: 0.207117\tvalid's rmse: 0.223609\n",
      "[1440]\ttrain's rmse: 0.206908\tvalid's rmse: 0.223599\n",
      "[1460]\ttrain's rmse: 0.206687\tvalid's rmse: 0.223596\n",
      "[1480]\ttrain's rmse: 0.206471\tvalid's rmse: 0.22358\n",
      "[1500]\ttrain's rmse: 0.206236\tvalid's rmse: 0.223573\n",
      "[1520]\ttrain's rmse: 0.206041\tvalid's rmse: 0.22358\n",
      "[1540]\ttrain's rmse: 0.205828\tvalid's rmse: 0.223562\n",
      "[1560]\ttrain's rmse: 0.205604\tvalid's rmse: 0.223546\n",
      "[1580]\ttrain's rmse: 0.205405\tvalid's rmse: 0.223546\n",
      "[1600]\ttrain's rmse: 0.205186\tvalid's rmse: 0.223534\n",
      "[1620]\ttrain's rmse: 0.204988\tvalid's rmse: 0.223539\n",
      "[1640]\ttrain's rmse: 0.204789\tvalid's rmse: 0.223544\n",
      "[1660]\ttrain's rmse: 0.204578\tvalid's rmse: 0.223533\n",
      "[1680]\ttrain's rmse: 0.204376\tvalid's rmse: 0.223523\n",
      "[1700]\ttrain's rmse: 0.204186\tvalid's rmse: 0.223522\n",
      "[1720]\ttrain's rmse: 0.203971\tvalid's rmse: 0.223518\n",
      "[1740]\ttrain's rmse: 0.203777\tvalid's rmse: 0.223506\n",
      "[1760]\ttrain's rmse: 0.203589\tvalid's rmse: 0.223503\n",
      "[1780]\ttrain's rmse: 0.203371\tvalid's rmse: 0.223481\n",
      "[1800]\ttrain's rmse: 0.203161\tvalid's rmse: 0.223469\n",
      "[1820]\ttrain's rmse: 0.202974\tvalid's rmse: 0.223471\n",
      "[1840]\ttrain's rmse: 0.202758\tvalid's rmse: 0.223455\n",
      "[1860]\ttrain's rmse: 0.20255\tvalid's rmse: 0.223453\n",
      "[1880]\ttrain's rmse: 0.202342\tvalid's rmse: 0.22345\n",
      "[1900]\ttrain's rmse: 0.202144\tvalid's rmse: 0.223436\n",
      "[1920]\ttrain's rmse: 0.201952\tvalid's rmse: 0.22344\n",
      "[1940]\ttrain's rmse: 0.201739\tvalid's rmse: 0.223429\n",
      "[1960]\ttrain's rmse: 0.201549\tvalid's rmse: 0.223424\n",
      "[1980]\ttrain's rmse: 0.201354\tvalid's rmse: 0.223421\n",
      "[2000]\ttrain's rmse: 0.201158\tvalid's rmse: 0.223434\n",
      "[2020]\ttrain's rmse: 0.200945\tvalid's rmse: 0.223436\n",
      "[2040]\ttrain's rmse: 0.200753\tvalid's rmse: 0.223429\n",
      "[2060]\ttrain's rmse: 0.200569\tvalid's rmse: 0.223426\n",
      "Early stopping, best iteration is:\n",
      "[1965]\ttrain's rmse: 0.201495\tvalid's rmse: 0.22342\n",
      "Done modeling...\n",
      "Generating predictions....\n",
      "Modeling for 4_fold\n",
      "Training until validation scores don't improve for 100 rounds.\n",
      "[20]\ttrain's rmse: 0.233906\tvalid's rmse: 0.234301\n",
      "[40]\ttrain's rmse: 0.230604\tvalid's rmse: 0.231097\n",
      "[60]\ttrain's rmse: 0.228943\tvalid's rmse: 0.229603\n",
      "[80]\ttrain's rmse: 0.227699\tvalid's rmse: 0.228535\n",
      "[100]\ttrain's rmse: 0.226784\tvalid's rmse: 0.227843\n",
      "[120]\ttrain's rmse: 0.226042\tvalid's rmse: 0.22734\n",
      "[140]\ttrain's rmse: 0.225413\tvalid's rmse: 0.226963\n",
      "[160]\ttrain's rmse: 0.224818\tvalid's rmse: 0.22663\n",
      "[180]\ttrain's rmse: 0.224347\tvalid's rmse: 0.226406\n",
      "[200]\ttrain's rmse: 0.223888\tvalid's rmse: 0.2262\n",
      "[220]\ttrain's rmse: 0.223472\tvalid's rmse: 0.226055\n",
      "[240]\ttrain's rmse: 0.223072\tvalid's rmse: 0.225916\n",
      "[260]\ttrain's rmse: 0.222675\tvalid's rmse: 0.225796\n",
      "[280]\ttrain's rmse: 0.222308\tvalid's rmse: 0.225686\n",
      "[300]\ttrain's rmse: 0.221934\tvalid's rmse: 0.225572\n",
      "[320]\ttrain's rmse: 0.221589\tvalid's rmse: 0.225507\n",
      "[340]\ttrain's rmse: 0.22124\tvalid's rmse: 0.22542\n",
      "[360]\ttrain's rmse: 0.220934\tvalid's rmse: 0.22536\n",
      "[380]\ttrain's rmse: 0.220584\tvalid's rmse: 0.225261\n",
      "[400]\ttrain's rmse: 0.220235\tvalid's rmse: 0.225175\n",
      "[420]\ttrain's rmse: 0.219917\tvalid's rmse: 0.225114\n",
      "[440]\ttrain's rmse: 0.219623\tvalid's rmse: 0.225067\n",
      "[460]\ttrain's rmse: 0.219325\tvalid's rmse: 0.225034\n",
      "[480]\ttrain's rmse: 0.219037\tvalid's rmse: 0.224989\n",
      "[500]\ttrain's rmse: 0.21873\tvalid's rmse: 0.224908\n",
      "[520]\ttrain's rmse: 0.218399\tvalid's rmse: 0.224825\n",
      "[540]\ttrain's rmse: 0.218098\tvalid's rmse: 0.224762\n",
      "[560]\ttrain's rmse: 0.21781\tvalid's rmse: 0.224745\n",
      "[580]\ttrain's rmse: 0.217521\tvalid's rmse: 0.224703\n",
      "[600]\ttrain's rmse: 0.217253\tvalid's rmse: 0.224678\n",
      "[620]\ttrain's rmse: 0.216985\tvalid's rmse: 0.224661\n",
      "[640]\ttrain's rmse: 0.216697\tvalid's rmse: 0.224616\n",
      "[660]\ttrain's rmse: 0.216398\tvalid's rmse: 0.224564\n",
      "[680]\ttrain's rmse: 0.216107\tvalid's rmse: 0.224528\n",
      "[700]\ttrain's rmse: 0.215823\tvalid's rmse: 0.224491\n",
      "[720]\ttrain's rmse: 0.215567\tvalid's rmse: 0.224473\n",
      "[740]\ttrain's rmse: 0.215309\tvalid's rmse: 0.224445\n",
      "[760]\ttrain's rmse: 0.215015\tvalid's rmse: 0.224395\n",
      "[780]\ttrain's rmse: 0.214731\tvalid's rmse: 0.224352\n",
      "[800]\ttrain's rmse: 0.21446\tvalid's rmse: 0.224302\n",
      "[820]\ttrain's rmse: 0.21422\tvalid's rmse: 0.224282\n",
      "[840]\ttrain's rmse: 0.213939\tvalid's rmse: 0.224238\n",
      "[860]\ttrain's rmse: 0.213663\tvalid's rmse: 0.224206\n",
      "[880]\ttrain's rmse: 0.213393\tvalid's rmse: 0.224188\n",
      "[900]\ttrain's rmse: 0.213112\tvalid's rmse: 0.224151\n",
      "[920]\ttrain's rmse: 0.212885\tvalid's rmse: 0.224144\n",
      "[940]\ttrain's rmse: 0.212624\tvalid's rmse: 0.22412\n",
      "[960]\ttrain's rmse: 0.212347\tvalid's rmse: 0.224099\n",
      "[980]\ttrain's rmse: 0.212101\tvalid's rmse: 0.22406\n",
      "[1000]\ttrain's rmse: 0.211845\tvalid's rmse: 0.224025\n",
      "[1020]\ttrain's rmse: 0.211597\tvalid's rmse: 0.223999\n",
      "[1040]\ttrain's rmse: 0.211372\tvalid's rmse: 0.223999\n",
      "[1060]\ttrain's rmse: 0.211128\tvalid's rmse: 0.223981\n",
      "[1080]\ttrain's rmse: 0.210882\tvalid's rmse: 0.223962\n",
      "[1100]\ttrain's rmse: 0.210625\tvalid's rmse: 0.223935\n",
      "[1120]\ttrain's rmse: 0.210411\tvalid's rmse: 0.223925\n",
      "[1140]\ttrain's rmse: 0.210161\tvalid's rmse: 0.223911\n",
      "[1160]\ttrain's rmse: 0.209914\tvalid's rmse: 0.22388\n",
      "[1180]\ttrain's rmse: 0.209673\tvalid's rmse: 0.22387\n",
      "[1200]\ttrain's rmse: 0.209468\tvalid's rmse: 0.223857\n",
      "[1220]\ttrain's rmse: 0.209225\tvalid's rmse: 0.223835\n",
      "[1240]\ttrain's rmse: 0.209016\tvalid's rmse: 0.223832\n",
      "[1260]\ttrain's rmse: 0.208804\tvalid's rmse: 0.223827\n",
      "[1280]\ttrain's rmse: 0.208586\tvalid's rmse: 0.223821\n",
      "[1300]\ttrain's rmse: 0.208368\tvalid's rmse: 0.223806\n",
      "[1320]\ttrain's rmse: 0.208149\tvalid's rmse: 0.223805\n",
      "[1340]\ttrain's rmse: 0.207912\tvalid's rmse: 0.223793\n",
      "[1360]\ttrain's rmse: 0.207699\tvalid's rmse: 0.223778\n",
      "[1380]\ttrain's rmse: 0.207467\tvalid's rmse: 0.223759\n",
      "[1400]\ttrain's rmse: 0.20727\tvalid's rmse: 0.223763\n",
      "[1420]\ttrain's rmse: 0.207044\tvalid's rmse: 0.223744\n",
      "[1440]\ttrain's rmse: 0.20682\tvalid's rmse: 0.223732\n",
      "[1460]\ttrain's rmse: 0.206583\tvalid's rmse: 0.223709\n",
      "[1480]\ttrain's rmse: 0.206381\tvalid's rmse: 0.223704\n",
      "[1500]\ttrain's rmse: 0.206153\tvalid's rmse: 0.223687\n",
      "[1520]\ttrain's rmse: 0.20594\tvalid's rmse: 0.223682\n",
      "[1540]\ttrain's rmse: 0.205722\tvalid's rmse: 0.223677\n",
      "[1560]\ttrain's rmse: 0.20552\tvalid's rmse: 0.223686\n",
      "[1580]\ttrain's rmse: 0.205313\tvalid's rmse: 0.223677\n",
      "[1600]\ttrain's rmse: 0.205103\tvalid's rmse: 0.223667\n",
      "[1620]\ttrain's rmse: 0.204895\tvalid's rmse: 0.223664\n",
      "[1640]\ttrain's rmse: 0.204687\tvalid's rmse: 0.223664\n",
      "[1660]\ttrain's rmse: 0.204474\tvalid's rmse: 0.223659\n",
      "[1680]\ttrain's rmse: 0.204269\tvalid's rmse: 0.223652\n",
      "[1700]\ttrain's rmse: 0.204075\tvalid's rmse: 0.223649\n",
      "[1720]\ttrain's rmse: 0.203836\tvalid's rmse: 0.223647\n",
      "[1740]\ttrain's rmse: 0.203648\tvalid's rmse: 0.223645\n",
      "[1760]\ttrain's rmse: 0.203418\tvalid's rmse: 0.223629\n",
      "[1780]\ttrain's rmse: 0.203222\tvalid's rmse: 0.223631\n",
      "[1800]\ttrain's rmse: 0.203013\tvalid's rmse: 0.223619\n",
      "[1820]\ttrain's rmse: 0.202799\tvalid's rmse: 0.223612\n",
      "[1840]\ttrain's rmse: 0.202583\tvalid's rmse: 0.223613\n",
      "[1860]\ttrain's rmse: 0.202381\tvalid's rmse: 0.223607\n",
      "[1880]\ttrain's rmse: 0.20219\tvalid's rmse: 0.223612\n",
      "[1900]\ttrain's rmse: 0.202013\tvalid's rmse: 0.223604\n",
      "[1920]\ttrain's rmse: 0.20182\tvalid's rmse: 0.223601\n",
      "[1940]\ttrain's rmse: 0.20162\tvalid's rmse: 0.22359\n",
      "[1960]\ttrain's rmse: 0.201411\tvalid's rmse: 0.223578\n",
      "[1980]\ttrain's rmse: 0.201206\tvalid's rmse: 0.223574\n",
      "[2000]\ttrain's rmse: 0.201018\tvalid's rmse: 0.223568\n",
      "[2020]\ttrain's rmse: 0.200818\tvalid's rmse: 0.223568\n",
      "[2040]\ttrain's rmse: 0.200627\tvalid's rmse: 0.223576\n",
      "[2060]\ttrain's rmse: 0.200416\tvalid's rmse: 0.223566\n",
      "[2080]\ttrain's rmse: 0.200201\tvalid's rmse: 0.223555\n",
      "[2100]\ttrain's rmse: 0.200003\tvalid's rmse: 0.22356\n",
      "[2120]\ttrain's rmse: 0.199809\tvalid's rmse: 0.22356\n",
      "[2140]\ttrain's rmse: 0.199591\tvalid's rmse: 0.223552\n",
      "[2160]\ttrain's rmse: 0.199415\tvalid's rmse: 0.223559\n",
      "[2180]\ttrain's rmse: 0.199203\tvalid's rmse: 0.223555\n",
      "[2200]\ttrain's rmse: 0.199025\tvalid's rmse: 0.223546\n",
      "[2220]\ttrain's rmse: 0.198855\tvalid's rmse: 0.223545\n",
      "[2240]\ttrain's rmse: 0.198648\tvalid's rmse: 0.223545\n",
      "[2260]\ttrain's rmse: 0.198454\tvalid's rmse: 0.223542\n",
      "[2280]\ttrain's rmse: 0.198259\tvalid's rmse: 0.223535\n",
      "[2300]\ttrain's rmse: 0.198072\tvalid's rmse: 0.22354\n",
      "[2320]\ttrain's rmse: 0.197863\tvalid's rmse: 0.223526\n",
      "[2340]\ttrain's rmse: 0.197664\tvalid's rmse: 0.223529\n",
      "[2360]\ttrain's rmse: 0.197486\tvalid's rmse: 0.223525\n",
      "[2380]\ttrain's rmse: 0.197287\tvalid's rmse: 0.223524\n",
      "[2400]\ttrain's rmse: 0.197093\tvalid's rmse: 0.223528\n",
      "[2420]\ttrain's rmse: 0.196925\tvalid's rmse: 0.223535\n",
      "Early stopping, best iteration is:\n",
      "[2323]\ttrain's rmse: 0.197834\tvalid's rmse: 0.223523\n",
      "Done modeling...\n",
      "Generating predictions....\n",
      "Modeling for 5_fold\n",
      "Training until validation scores don't improve for 100 rounds.\n",
      "[20]\ttrain's rmse: 0.233924\tvalid's rmse: 0.234589\n",
      "[40]\ttrain's rmse: 0.230603\tvalid's rmse: 0.231367\n",
      "[60]\ttrain's rmse: 0.228809\tvalid's rmse: 0.229678\n",
      "[80]\ttrain's rmse: 0.227619\tvalid's rmse: 0.22865\n",
      "[100]\ttrain's rmse: 0.226744\tvalid's rmse: 0.227945\n",
      "[120]\ttrain's rmse: 0.225991\tvalid's rmse: 0.22739\n",
      "[140]\ttrain's rmse: 0.225352\tvalid's rmse: 0.226985\n",
      "[160]\ttrain's rmse: 0.22482\tvalid's rmse: 0.226699\n",
      "[180]\ttrain's rmse: 0.224349\tvalid's rmse: 0.226477\n",
      "[200]\ttrain's rmse: 0.223911\tvalid's rmse: 0.226268\n",
      "[220]\ttrain's rmse: 0.223528\tvalid's rmse: 0.226137\n",
      "[240]\ttrain's rmse: 0.223076\tvalid's rmse: 0.225929\n",
      "[260]\ttrain's rmse: 0.222707\tvalid's rmse: 0.225823\n",
      "[280]\ttrain's rmse: 0.222309\tvalid's rmse: 0.225685\n",
      "[300]\ttrain's rmse: 0.221973\tvalid's rmse: 0.225608\n",
      "[320]\ttrain's rmse: 0.2216\tvalid's rmse: 0.2255\n",
      "[340]\ttrain's rmse: 0.221214\tvalid's rmse: 0.225366\n",
      "[360]\ttrain's rmse: 0.220918\tvalid's rmse: 0.225334\n",
      "[380]\ttrain's rmse: 0.220586\tvalid's rmse: 0.225245\n",
      "[400]\ttrain's rmse: 0.220236\tvalid's rmse: 0.225141\n",
      "[420]\ttrain's rmse: 0.219927\tvalid's rmse: 0.22509\n",
      "[440]\ttrain's rmse: 0.219622\tvalid's rmse: 0.225024\n",
      "[460]\ttrain's rmse: 0.219302\tvalid's rmse: 0.224953\n",
      "[480]\ttrain's rmse: 0.218989\tvalid's rmse: 0.224884\n",
      "[500]\ttrain's rmse: 0.218723\tvalid's rmse: 0.22486\n",
      "[520]\ttrain's rmse: 0.218445\tvalid's rmse: 0.224814\n",
      "[540]\ttrain's rmse: 0.21821\tvalid's rmse: 0.224789\n",
      "[560]\ttrain's rmse: 0.217925\tvalid's rmse: 0.224752\n",
      "[580]\ttrain's rmse: 0.217635\tvalid's rmse: 0.224712\n",
      "[600]\ttrain's rmse: 0.217316\tvalid's rmse: 0.22463\n",
      "[620]\ttrain's rmse: 0.217046\tvalid's rmse: 0.224603\n",
      "[640]\ttrain's rmse: 0.216765\tvalid's rmse: 0.224548\n",
      "[660]\ttrain's rmse: 0.216481\tvalid's rmse: 0.224523\n",
      "[680]\ttrain's rmse: 0.216236\tvalid's rmse: 0.224506\n",
      "[700]\ttrain's rmse: 0.215943\tvalid's rmse: 0.224444\n",
      "[720]\ttrain's rmse: 0.215663\tvalid's rmse: 0.224413\n",
      "[740]\ttrain's rmse: 0.215398\tvalid's rmse: 0.224377\n",
      "[760]\ttrain's rmse: 0.215119\tvalid's rmse: 0.22434\n",
      "[780]\ttrain's rmse: 0.21488\tvalid's rmse: 0.224337\n",
      "[800]\ttrain's rmse: 0.214628\tvalid's rmse: 0.224321\n",
      "[820]\ttrain's rmse: 0.214374\tvalid's rmse: 0.224271\n",
      "[840]\ttrain's rmse: 0.21411\tvalid's rmse: 0.224229\n",
      "[860]\ttrain's rmse: 0.213857\tvalid's rmse: 0.224221\n",
      "[880]\ttrain's rmse: 0.213606\tvalid's rmse: 0.22422\n",
      "[900]\ttrain's rmse: 0.213341\tvalid's rmse: 0.22418\n",
      "[920]\ttrain's rmse: 0.213086\tvalid's rmse: 0.224157\n",
      "[940]\ttrain's rmse: 0.212848\tvalid's rmse: 0.224138\n",
      "[960]\ttrain's rmse: 0.212588\tvalid's rmse: 0.224127\n",
      "[980]\ttrain's rmse: 0.212337\tvalid's rmse: 0.224122\n",
      "[1000]\ttrain's rmse: 0.212096\tvalid's rmse: 0.224095\n",
      "[1020]\ttrain's rmse: 0.211829\tvalid's rmse: 0.224052\n",
      "[1040]\ttrain's rmse: 0.211581\tvalid's rmse: 0.224029\n",
      "[1060]\ttrain's rmse: 0.211327\tvalid's rmse: 0.224006\n",
      "[1080]\ttrain's rmse: 0.211091\tvalid's rmse: 0.22399\n",
      "[1100]\ttrain's rmse: 0.210836\tvalid's rmse: 0.223957\n",
      "[1120]\ttrain's rmse: 0.210611\tvalid's rmse: 0.223949\n",
      "[1140]\ttrain's rmse: 0.210401\tvalid's rmse: 0.223934\n",
      "[1160]\ttrain's rmse: 0.210172\tvalid's rmse: 0.223929\n",
      "[1180]\ttrain's rmse: 0.209915\tvalid's rmse: 0.223896\n",
      "[1200]\ttrain's rmse: 0.209661\tvalid's rmse: 0.223877\n",
      "[1220]\ttrain's rmse: 0.209437\tvalid's rmse: 0.223855\n",
      "[1240]\ttrain's rmse: 0.209186\tvalid's rmse: 0.223832\n",
      "[1260]\ttrain's rmse: 0.208949\tvalid's rmse: 0.22381\n",
      "[1280]\ttrain's rmse: 0.208706\tvalid's rmse: 0.223783\n",
      "[1300]\ttrain's rmse: 0.208463\tvalid's rmse: 0.223753\n",
      "[1320]\ttrain's rmse: 0.208224\tvalid's rmse: 0.223738\n",
      "[1340]\ttrain's rmse: 0.207998\tvalid's rmse: 0.22373\n",
      "[1360]\ttrain's rmse: 0.207736\tvalid's rmse: 0.223697\n",
      "[1380]\ttrain's rmse: 0.207495\tvalid's rmse: 0.223683\n",
      "[1400]\ttrain's rmse: 0.207271\tvalid's rmse: 0.223665\n",
      "[1420]\ttrain's rmse: 0.207078\tvalid's rmse: 0.223658\n",
      "[1440]\ttrain's rmse: 0.20687\tvalid's rmse: 0.223643\n",
      "[1460]\ttrain's rmse: 0.206655\tvalid's rmse: 0.223635\n",
      "[1480]\ttrain's rmse: 0.206447\tvalid's rmse: 0.223634\n",
      "[1500]\ttrain's rmse: 0.206237\tvalid's rmse: 0.22363\n",
      "[1520]\ttrain's rmse: 0.206017\tvalid's rmse: 0.223615\n",
      "[1540]\ttrain's rmse: 0.205818\tvalid's rmse: 0.22361\n",
      "[1560]\ttrain's rmse: 0.205595\tvalid's rmse: 0.223593\n",
      "[1580]\ttrain's rmse: 0.205396\tvalid's rmse: 0.223594\n",
      "[1600]\ttrain's rmse: 0.205168\tvalid's rmse: 0.223584\n",
      "[1620]\ttrain's rmse: 0.204959\tvalid's rmse: 0.223578\n",
      "[1640]\ttrain's rmse: 0.204758\tvalid's rmse: 0.223586\n",
      "[1660]\ttrain's rmse: 0.204573\tvalid's rmse: 0.223595\n",
      "[1680]\ttrain's rmse: 0.204361\tvalid's rmse: 0.223578\n",
      "[1700]\ttrain's rmse: 0.20417\tvalid's rmse: 0.223578\n",
      "[1720]\ttrain's rmse: 0.203947\tvalid's rmse: 0.223576\n",
      "[1740]\ttrain's rmse: 0.203763\tvalid's rmse: 0.223579\n",
      "[1760]\ttrain's rmse: 0.203542\tvalid's rmse: 0.223563\n",
      "[1780]\ttrain's rmse: 0.203323\tvalid's rmse: 0.223551\n",
      "[1800]\ttrain's rmse: 0.203136\tvalid's rmse: 0.223552\n",
      "[1820]\ttrain's rmse: 0.202926\tvalid's rmse: 0.22354\n",
      "[1840]\ttrain's rmse: 0.202733\tvalid's rmse: 0.223542\n",
      "[1860]\ttrain's rmse: 0.202543\tvalid's rmse: 0.223543\n",
      "[1880]\ttrain's rmse: 0.202323\tvalid's rmse: 0.223545\n",
      "[1900]\ttrain's rmse: 0.202118\tvalid's rmse: 0.223531\n",
      "[1920]\ttrain's rmse: 0.201903\tvalid's rmse: 0.22353\n",
      "[1940]\ttrain's rmse: 0.201697\tvalid's rmse: 0.223515\n",
      "[1960]\ttrain's rmse: 0.201512\tvalid's rmse: 0.223514\n",
      "[1980]\ttrain's rmse: 0.201338\tvalid's rmse: 0.223508\n",
      "[2000]\ttrain's rmse: 0.201147\tvalid's rmse: 0.223503\n",
      "[2020]\ttrain's rmse: 0.200963\tvalid's rmse: 0.223504\n",
      "[2040]\ttrain's rmse: 0.20076\tvalid's rmse: 0.223499\n",
      "[2060]\ttrain's rmse: 0.200564\tvalid's rmse: 0.223496\n",
      "[2080]\ttrain's rmse: 0.200365\tvalid's rmse: 0.223496\n",
      "[2100]\ttrain's rmse: 0.200157\tvalid's rmse: 0.223496\n",
      "[2120]\ttrain's rmse: 0.199959\tvalid's rmse: 0.223494\n",
      "[2140]\ttrain's rmse: 0.199758\tvalid's rmse: 0.223497\n",
      "[2160]\ttrain's rmse: 0.199572\tvalid's rmse: 0.223505\n",
      "[2180]\ttrain's rmse: 0.199377\tvalid's rmse: 0.223484\n",
      "[2200]\ttrain's rmse: 0.199187\tvalid's rmse: 0.223487\n",
      "[2220]\ttrain's rmse: 0.198988\tvalid's rmse: 0.223482\n",
      "[2240]\ttrain's rmse: 0.198787\tvalid's rmse: 0.223476\n",
      "[2260]\ttrain's rmse: 0.198599\tvalid's rmse: 0.223474\n",
      "[2280]\ttrain's rmse: 0.198408\tvalid's rmse: 0.223471\n",
      "[2300]\ttrain's rmse: 0.198227\tvalid's rmse: 0.223474\n",
      "[2320]\ttrain's rmse: 0.198043\tvalid's rmse: 0.223473\n",
      "[2340]\ttrain's rmse: 0.197852\tvalid's rmse: 0.223477\n",
      "[2360]\ttrain's rmse: 0.197672\tvalid's rmse: 0.223482\n",
      "[2380]\ttrain's rmse: 0.197485\tvalid's rmse: 0.223486\n",
      "[2400]\ttrain's rmse: 0.197282\tvalid's rmse: 0.22348\n",
      "Early stopping, best iteration is:\n",
      "[2306]\ttrain's rmse: 0.198162\tvalid's rmse: 0.223468\n",
      "Done modeling...\n",
      "Generating predictions....\n"
     ]
    }
   ],
   "source": [
    "columns = ['fold','train_score','valid_score']\n",
    "final_stats = pd.DataFrame(columns=columns)\n",
    "train_data = pd.DataFrame()\n",
    "val_data = pd.DataFrame()\n",
    "n=1\n",
    "for train_index, val_index in kf.split(train_df):\n",
    "    train_data, val_data = train_df.loc[train_index], train_df.loc[val_index]\n",
    "    #y_train, y_test = y[train_index], y[val_index]\n",
    "    kfold = str(n)+'_fold'\n",
    "    print(\"Modeling for {}\".format(kfold))\n",
    "    model, result = run_lgb(train_data, val_data)\n",
    "    results = {'fold'       : kfold,\n",
    "               'train_score': result['train']['rmse'][model.best_iteration],\n",
    "               'valid_score': result['valid']['rmse'][model.best_iteration]       \n",
    "        }\n",
    "    final_stats = final_stats.append(results, ignore_index=True)\n",
    "    print(\"Done modeling...\")\n",
    "    print(\"Generating predictions....\")\n",
    "    test_df[kfold+'_predictions'] = model.predict(test_df[predictors], num_iteration=model.best_iteration)\n",
    "    n=n+1"
   ]
  },
  {
   "cell_type": "code",
   "execution_count": 24,
   "metadata": {},
   "outputs": [
    {
     "data": {
      "text/html": [
       "<div>\n",
       "<style scoped>\n",
       "    .dataframe tbody tr th:only-of-type {\n",
       "        vertical-align: middle;\n",
       "    }\n",
       "\n",
       "    .dataframe tbody tr th {\n",
       "        vertical-align: top;\n",
       "    }\n",
       "\n",
       "    .dataframe thead th {\n",
       "        text-align: right;\n",
       "    }\n",
       "</style>\n",
       "<table border=\"1\" class=\"dataframe\">\n",
       "  <thead>\n",
       "    <tr style=\"text-align: right;\">\n",
       "      <th></th>\n",
       "      <th>fold</th>\n",
       "      <th>train_score</th>\n",
       "      <th>valid_score</th>\n",
       "    </tr>\n",
       "  </thead>\n",
       "  <tbody>\n",
       "    <tr>\n",
       "      <th>0</th>\n",
       "      <td>1_fold</td>\n",
       "      <td>0.199558</td>\n",
       "      <td>0.223518</td>\n",
       "    </tr>\n",
       "    <tr>\n",
       "      <th>1</th>\n",
       "      <td>2_fold</td>\n",
       "      <td>0.198924</td>\n",
       "      <td>0.223722</td>\n",
       "    </tr>\n",
       "    <tr>\n",
       "      <th>2</th>\n",
       "      <td>3_fold</td>\n",
       "      <td>0.201483</td>\n",
       "      <td>0.223420</td>\n",
       "    </tr>\n",
       "    <tr>\n",
       "      <th>3</th>\n",
       "      <td>4_fold</td>\n",
       "      <td>0.197826</td>\n",
       "      <td>0.223524</td>\n",
       "    </tr>\n",
       "    <tr>\n",
       "      <th>4</th>\n",
       "      <td>5_fold</td>\n",
       "      <td>0.198153</td>\n",
       "      <td>0.223469</td>\n",
       "    </tr>\n",
       "  </tbody>\n",
       "</table>\n",
       "</div>"
      ],
      "text/plain": [
       "     fold  train_score  valid_score\n",
       "0  1_fold     0.199558     0.223518\n",
       "1  2_fold     0.198924     0.223722\n",
       "2  3_fold     0.201483     0.223420\n",
       "3  4_fold     0.197826     0.223524\n",
       "4  5_fold     0.198153     0.223469"
      ]
     },
     "execution_count": 24,
     "metadata": {},
     "output_type": "execute_result"
    }
   ],
   "source": [
    "final_stats"
   ]
  },
  {
   "cell_type": "code",
   "execution_count": 25,
   "metadata": {},
   "outputs": [],
   "source": [
    "final_stats.to_csv(\"../Results/Stats_5foldcv_clipvalue_newfeats_05152018_2.csv\", index=False)"
   ]
  },
  {
   "cell_type": "code",
   "execution_count": 26,
   "metadata": {},
   "outputs": [
    {
     "data": {
      "text/plain": [
       "0.19918872823482203"
      ]
     },
     "execution_count": 26,
     "metadata": {},
     "output_type": "execute_result"
    }
   ],
   "source": [
    "np.average(final_stats['train_score'])"
   ]
  },
  {
   "cell_type": "code",
   "execution_count": 27,
   "metadata": {},
   "outputs": [
    {
     "data": {
      "text/plain": [
       "0.22353057039481278"
      ]
     },
     "execution_count": 27,
     "metadata": {},
     "output_type": "execute_result"
    }
   ],
   "source": [
    "np.average(final_stats['valid_score'])"
   ]
  },
  {
   "cell_type": "code",
   "execution_count": 28,
   "metadata": {},
   "outputs": [
    {
     "name": "stderr",
     "output_type": "stream",
     "text": [
      "C:\\Program Files\\Anaconda\\lib\\site-packages\\ipykernel_launcher.py:1: SettingWithCopyWarning: \n",
      "A value is trying to be set on a copy of a slice from a DataFrame.\n",
      "Try using .loc[row_indexer,col_indexer] = value instead\n",
      "\n",
      "See the caveats in the documentation: http://pandas.pydata.org/pandas-docs/stable/indexing.html#indexing-view-versus-copy\n",
      "  \"\"\"Entry point for launching an IPython kernel.\n"
     ]
    }
   ],
   "source": [
    "test_df['deal_probability'] = np.average(test_df[['1_fold_predictions','2_fold_predictions','3_fold_predictions','4_fold_predictions','5_fold_predictions']], axis=1)"
   ]
  },
  {
   "cell_type": "code",
   "execution_count": 29,
   "metadata": {},
   "outputs": [
    {
     "name": "stderr",
     "output_type": "stream",
     "text": [
      "C:\\Program Files\\Anaconda\\lib\\site-packages\\ipykernel_launcher.py:1: SettingWithCopyWarning: \n",
      "A value is trying to be set on a copy of a slice from a DataFrame.\n",
      "Try using .loc[row_indexer,col_indexer] = value instead\n",
      "\n",
      "See the caveats in the documentation: http://pandas.pydata.org/pandas-docs/stable/indexing.html#indexing-view-versus-copy\n",
      "  \"\"\"Entry point for launching an IPython kernel.\n"
     ]
    }
   ],
   "source": [
    "test_df['deal_probability'] = np.clip(np.array(test_df['deal_probability']),0.0,1.0)"
   ]
  },
  {
   "cell_type": "code",
   "execution_count": null,
   "metadata": {},
   "outputs": [],
   "source": [
    "test_df.deal_probability[test_df['deal_probability'] < 0] = abs(test_df.deal_probability[test_df['deal_probability'] < 0])"
   ]
  },
  {
   "cell_type": "code",
   "execution_count": null,
   "metadata": {},
   "outputs": [],
   "source": [
    "gc.collect()"
   ]
  },
  {
   "cell_type": "code",
   "execution_count": null,
   "metadata": {
    "scrolled": true
   },
   "outputs": [],
   "source": [
    "model, result = run_lgb(dev_X, val_X)"
   ]
  },
  {
   "cell_type": "markdown",
   "metadata": {},
   "source": [
    "### Defining entire model:"
   ]
  },
  {
   "cell_type": "code",
   "execution_count": null,
   "metadata": {},
   "outputs": [],
   "source": [
    "params = {'max_depth' : -1,\n",
    "          'objective': 'regression', \n",
    "          'num_leaves': 40, \n",
    "          'learning_rate': 0.1, \n",
    "          'bagging_fraction': 1, \n",
    "          'bagging_freq': 1, \n",
    "          'feature_fraction': 0.8, \n",
    "          'metric' : 'rmse'}"
   ]
  },
  {
   "cell_type": "code",
   "execution_count": null,
   "metadata": {},
   "outputs": [],
   "source": [
    "# Create parameters to search\n",
    "gridParams = {\n",
    "    'learning_rate': [0.005, 0.01, 0.05, 0.01],\n",
    "    'n_estimators': [8,16,24],\n",
    "    'num_leaves': [35,40,45,50],\n",
    "    'boosting_type' : ['gbdt'],\n",
    "    'random_state' : [501], # Updated from 'seed'\n",
    "    'colsample_bytree' : [0.64, 0.65, 0.66],\n",
    "    'bagging_fraction' : [0.7,0.75],\n",
    "    #'reg_alpha' : [1,1.2],\n",
    "    #'reg_lambda' : [1,1.2,1.4],\n",
    "    }"
   ]
  },
  {
   "cell_type": "code",
   "execution_count": null,
   "metadata": {},
   "outputs": [],
   "source": [
    "model = lgb.LGBMRegressor(objective=\"regression\",\n",
    "        metric = \"rmse\",\n",
    "        num_leaves = 40,\n",
    "        learning_rate = 0.1,\n",
    "        bagging_fraction = 1,\n",
    "        feature_fraction = 0.8,\n",
    "        bagging_freq = 1,\n",
    "        bagging_seed = 2018,\n",
    "        verbosity = -1)"
   ]
  },
  {
   "cell_type": "code",
   "execution_count": null,
   "metadata": {},
   "outputs": [],
   "source": [
    "grid = GridSearchCV(model, gridParams, verbose=1, cv=5, n_jobs=-1)"
   ]
  },
  {
   "cell_type": "code",
   "execution_count": null,
   "metadata": {},
   "outputs": [],
   "source": [
    "grid.fit(train_df[predictors],train_df[target])"
   ]
  },
  {
   "cell_type": "code",
   "execution_count": null,
   "metadata": {},
   "outputs": [],
   "source": [
    "params.update(grid.best_params_)"
   ]
  },
  {
   "cell_type": "code",
   "execution_count": null,
   "metadata": {},
   "outputs": [],
   "source": [
    "test_df['deal_probability'] = grid.predict(test_df[predictors])"
   ]
  },
  {
   "cell_type": "code",
   "execution_count": null,
   "metadata": {},
   "outputs": [],
   "source": [
    "grid.best_params_"
   ]
  },
  {
   "cell_type": "code",
   "execution_count": null,
   "metadata": {},
   "outputs": [],
   "source": [
    "pd.DataFrame(grid.cv_results_)"
   ]
  },
  {
   "cell_type": "code",
   "execution_count": null,
   "metadata": {},
   "outputs": [],
   "source": [
    "test_df['deal_probability'] = model.predict(test_df[predictors])"
   ]
  },
  {
   "cell_type": "code",
   "execution_count": null,
   "metadata": {},
   "outputs": [],
   "source": [
    "test_df.deal_probability[test_df['deal_probability'] < 0] = 0"
   ]
  },
  {
   "cell_type": "code",
   "execution_count": 30,
   "metadata": {},
   "outputs": [],
   "source": [
    "test_df[['item_id','deal_probability']].to_csv('../Results/5foldcv_clipvalue_newfeats_05152018_2.csv', index=False)"
   ]
  },
  {
   "cell_type": "code",
   "execution_count": 31,
   "metadata": {},
   "outputs": [
    {
     "data": {
      "image/png": "[encoded data removed]",
      "text/plain": [
       "<matplotlib.figure.Figure at 0x22dc7dc6dd8>"
      ]
     },
     "metadata": {},
     "output_type": "display_data"
    }
   ],
   "source": [
    "fig, ax = plt.subplots(figsize=(12,18))\n",
    "lgb.plot_importance(model, max_num_features=50, height=0.8, ax=ax)\n",
    "#lgb.plot_importance(model)\n",
    "ax.grid(False)\n",
    "plt.title(\"LightGBM - Feature Importance\", fontsize=15)\n",
    "plt.show()\n",
    "fig.savefig('5foldcv_clipvalue_newfeats_05152018.png')"
   ]
  },
  {
   "cell_type": "code",
   "execution_count": null,
   "metadata": {},
   "outputs": [],
   "source": [
    "fig, ax = plt.subplots(figsize=(12,18))\n",
    "lgb.plot_importance(model, max_num_features=50, height=0.8, ax=ax)\n",
    "#lgb.plot_importance(model)\n",
    "ax.grid(False)\n",
    "plt.title(\"LightGBM - Feature Importance\", fontsize=15)\n",
    "plt.show()"
   ]
  },
  {
   "cell_type": "code",
   "execution_count": null,
   "metadata": {},
   "outputs": [],
   "source": []
  },
  {
   "cell_type": "markdown",
   "metadata": {},
   "source": [
    "### Running XGBoost:"
   ]
  },
  {
   "cell_type": "code",
   "execution_count": null,
   "metadata": {},
   "outputs": [],
   "source": [
    "import xgboost as xgb"
   ]
  },
  {
   "cell_type": "code",
   "execution_count": null,
   "metadata": {},
   "outputs": [],
   "source": [
    "len(val_X)"
   ]
  },
  {
   "cell_type": "code",
   "execution_count": null,
   "metadata": {},
   "outputs": [],
   "source": [
    "len(dev_X)"
   ]
  },
  {
   "cell_type": "code",
   "execution_count": null,
   "metadata": {},
   "outputs": [],
   "source": [
    "train_dmatrix = xgb.DMatrix(dev_X[predictors],dev_X[target])\n",
    "valid_dmatrix = xgb.DMatrix(val_X[predictors],val_X[target])"
   ]
  },
  {
   "cell_type": "code",
   "execution_count": null,
   "metadata": {},
   "outputs": [],
   "source": [
    "def run_xgb(train_dmatrix, valid_dmatrix):\n",
    "    params = {\n",
    "        \"objective\" : \"reg:linear\",\n",
    "        \"metric\" : \"rmse\",\n",
    "        \"num_leaves\" : 40,\n",
    "        \"learning_rate\" : 0.1,\n",
    "        \"bagging_fraction\" : 0.7,\n",
    "        \"feature_fraction\" : 0.7,\n",
    "        \"bagging_frequency\" : 5,\n",
    "        \"bagging_seed\" : 2018,\n",
    "        \"verbosity\" : -1\n",
    "    }\n",
    "    \n",
    "    evals_result = {}\n",
    "    evallist = [(train_dmatrix,'train'), (valid_dmatrix, 'eval')]\n",
    "    model = xgb.train(params, train_dmatrix, 5000, evallist, early_stopping_rounds=100, verbose_eval=20, evals_result=evals_result)\n",
    "    \n",
    "    #pred_test_y = model.predict(test_X, num_iteration=model.best_iteration)\n",
    "    return model, evals_result"
   ]
  },
  {
   "cell_type": "code",
   "execution_count": null,
   "metadata": {},
   "outputs": [],
   "source": [
    "model, result = run_xgb(train_dmatrix, valid_dmatrix)"
   ]
  },
  {
   "cell_type": "code",
   "execution_count": null,
   "metadata": {},
   "outputs": [],
   "source": [
    "test_dmatrix = xgb.DMatrix(test_df[predictors])"
   ]
  },
  {
   "cell_type": "code",
   "execution_count": null,
   "metadata": {},
   "outputs": [],
   "source": [
    "preds = model.predict(test_dmatrix)"
   ]
  },
  {
   "cell_type": "code",
   "execution_count": null,
   "metadata": {},
   "outputs": [],
   "source": [
    "test_df['deal_probability'] = preds"
   ]
  },
  {
   "cell_type": "code",
   "execution_count": null,
   "metadata": {},
   "outputs": [],
   "source": [
    "test_df.deal_probability[test_df['deal_probability'] < 0] = 0"
   ]
  },
  {
   "cell_type": "code",
   "execution_count": null,
   "metadata": {},
   "outputs": [],
   "source": [
    "test_df[['item_id','deal_probability']].to_csv('base_submission_xgb_05072018.csv', index=False)"
   ]
  },
  {
   "cell_type": "markdown",
   "metadata": {},
   "source": [
    "### Submission to kaggle via API:"
   ]
  },
  {
   "cell_type": "code",
   "execution_count": 32,
   "metadata": {},
   "outputs": [
    {
     "name": "stdout",
     "output_type": "stream",
     "text": [
      "Warning: Looks like you're using an outdated API Version, please consider updating (server 1.3.4 / client 1.3.3)\n",
      "Successfully submitted to Avito Demand Prediction Challenge\n"
     ]
    }
   ],
   "source": [
    "!kaggle competitions submit -c avito-demand-prediction -f ../Results/5foldcv_clipvalue_newfeats_05152018_2.csv -m \"5CV newfeats clipping to unit interval - 05152018_2\""
   ]
  },
  {
   "cell_type": "code",
   "execution_count": null,
   "metadata": {},
   "outputs": [],
   "source": [
    "!kaggle competitions submit -c avito-demand-prediction -f Results/base_submission_xgb_05072018.csv -m \"base submission xgb model\""
   ]
  }
 ],
 "metadata": {
  "kernelspec": {
   "display_name": "Python 3",
   "language": "python",
   "name": "python3"
  },
  "language_info": {
   "codemirror_mode": {
    "name": "ipython",
    "version": 3
   },
   "file_extension": ".py",
   "mimetype": "text/x-python",
   "name": "python",
   "nbconvert_exporter": "python",
   "pygments_lexer": "ipython3",
   "version": "3.6.4"
  }
 },
 "nbformat": 4,
 "nbformat_minor": 2
}
