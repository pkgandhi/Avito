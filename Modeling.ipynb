{
 "cells": [
  {
   "cell_type": "code",
   "execution_count": 3,
   "metadata": {},
   "outputs": [
    {
     "name": "stderr",
     "output_type": "stream",
     "text": [
      "C:\\Program Files\\Anaconda\\lib\\site-packages\\sklearn\\cross_validation.py:41: DeprecationWarning: This module was deprecated in version 0.18 in favor of the model_selection module into which all the refactored classes and functions are moved. Also note that the interface of the new CV iterators are different from that of this module. This module will be removed in 0.20.\n",
      "  \"This module will be removed in 0.20.\", DeprecationWarning)\n"
     ]
    }
   ],
   "source": [
    "import os\n",
    "import gc\n",
    "import time\n",
    "import pickle\n",
    "import datetime\n",
    "import pandas as pd\n",
    "import numpy as np\n",
    "import dask.dataframe as dd\n",
    "from dask import delayed, compute\n",
    "import matplotlib.pyplot as plt\n",
    "%matplotlib inline\n",
    "from sklearn.cross_validation import train_test_split\n",
    "from sklearn.model_selection import RandomizedSearchCV, GridSearchCV\n",
    "from sklearn import preprocessing, metrics\n",
    "import lightgbm as lgb\n",
    "from textblob import TextBlob\n",
    "\n",
    "path = \"F:\\\\Pratik\\\\LearningZone\\\\Competitions\\\\Avito_Demand_Prediction_Challenge\"\n",
    "os.chdir(path)"
   ]
  },
  {
   "cell_type": "code",
   "execution_count": 8,
   "metadata": {},
   "outputs": [],
   "source": [
    "train_df = pd.read_csv('train_translated.csv', parse_dates=['activation_date'])\n",
    "test_df = pd.read_csv('test_translated.csv', parse_dates=['activation_date'])"
   ]
  },
  {
   "cell_type": "code",
   "execution_count": 4,
   "metadata": {},
   "outputs": [],
   "source": [
    "total_df = pd.read_csv('total_translated.csv', parse_dates=['activation_date'])"
   ]
  },
  {
   "cell_type": "code",
   "execution_count": 9,
   "metadata": {},
   "outputs": [],
   "source": [
    "train_df['dow'] = train_df['activation_date'].dt.weekday\n",
    "test_df['dow'] = test_df['activation_date'].dt.weekday"
   ]
  },
  {
   "cell_type": "code",
   "execution_count": 5,
   "metadata": {},
   "outputs": [],
   "source": [
    "total_df['dow'] = total_df['activation_date'].dt.weekday"
   ]
  },
  {
   "cell_type": "code",
   "execution_count": null,
   "metadata": {},
   "outputs": [],
   "source": [
    "train_df.head()"
   ]
  },
  {
   "cell_type": "code",
   "execution_count": 6,
   "metadata": {},
   "outputs": [],
   "source": [
    "cat_vars = [\"en_region\", \"en_city\", \"en_parent_category_name\", \"en_category_name\", \"user_type\", \"en_param1\", \"en_param2\", \"en_param3\"]"
   ]
  },
  {
   "cell_type": "code",
   "execution_count": 7,
   "metadata": {},
   "outputs": [],
   "source": [
    "def label_encoding(train_data, categorical_feature_names):\n",
    "    le = preprocessing.LabelEncoder() # Defining Label Encoder\n",
    "    train_cat_features = np.array(train_data[categorical_feature_names])\n",
    "    train_data_array = le.fit_transform(train_cat_features[:,0])\n",
    "    for i in range(1,train_cat_features.shape[1]):\n",
    "        train_data_array = np.column_stack((train_data_array, le.fit_transform(train_cat_features[:,i])))\n",
    "        \n",
    "    train_cat_data_df = pd.DataFrame(train_data_array, columns=categorical_feature_names)\n",
    "    return train_cat_data_df[categorical_feature_names]"
   ]
  },
  {
   "cell_type": "code",
   "execution_count": 8,
   "metadata": {},
   "outputs": [
    {
     "name": "stderr",
     "output_type": "stream",
     "text": [
      "C:\\Program Files\\Anaconda\\lib\\site-packages\\pandas\\core\\frame.py:3035: SettingWithCopyWarning: \n",
      "A value is trying to be set on a copy of a slice from a DataFrame\n",
      "\n",
      "See the caveats in the documentation: http://pandas.pydata.org/pandas-docs/stable/indexing.html#indexing-view-versus-copy\n",
      "  downcast=downcast, **kwargs)\n"
     ]
    }
   ],
   "source": [
    "total_df[['en_param1','en_param2','en_param3']].fillna('Missing', inplace=True)"
   ]
  },
  {
   "cell_type": "code",
   "execution_count": 13,
   "metadata": {},
   "outputs": [
    {
     "name": "stderr",
     "output_type": "stream",
     "text": [
      "C:\\Program Files\\Anaconda\\lib\\site-packages\\pandas\\core\\frame.py:3035: SettingWithCopyWarning: \n",
      "A value is trying to be set on a copy of a slice from a DataFrame\n",
      "\n",
      "See the caveats in the documentation: http://pandas.pydata.org/pandas-docs/stable/indexing.html#indexing-view-versus-copy\n",
      "  downcast=downcast, **kwargs)\n"
     ]
    }
   ],
   "source": [
    "train_df[['en_param1','en_param2','en_param3']].fillna('Missing', inplace=True)\n",
    "test_df[['en_param1','en_param2','en_param3']].fillna('Missing', inplace=True)"
   ]
  },
  {
   "cell_type": "code",
   "execution_count": 9,
   "metadata": {},
   "outputs": [],
   "source": [
    "total_df['en_param1'] = total_df['en_param1'].map(str)\n",
    "total_df['en_param2'] = total_df['en_param2'].map(str)\n",
    "total_df['en_param3'] = total_df['en_param3'].map(str)"
   ]
  },
  {
   "cell_type": "code",
   "execution_count": 14,
   "metadata": {},
   "outputs": [],
   "source": [
    "train_df['en_param1'] = train_df['en_param1'].map(str)\n",
    "train_df['en_param2'] = train_df['en_param2'].map(str)\n",
    "train_df['en_param3'] = train_df['en_param3'].map(str)"
   ]
  },
  {
   "cell_type": "code",
   "execution_count": 15,
   "metadata": {},
   "outputs": [],
   "source": [
    "test_df['en_param1'] = test_df['en_param1'].map(str)\n",
    "test_df['en_param2'] = test_df['en_param2'].map(str)\n",
    "test_df['en_param3'] = test_df['en_param3'].map(str)"
   ]
  },
  {
   "cell_type": "code",
   "execution_count": 10,
   "metadata": {},
   "outputs": [],
   "source": [
    "Catg_Var_LE = label_encoding(total_df, cat_vars)"
   ]
  },
  {
   "cell_type": "code",
   "execution_count": 16,
   "metadata": {},
   "outputs": [],
   "source": [
    "Catg_Var_LE_train = label_encoding(train_df,cat_vars)\n",
    "Catg_Var_LE_test = label_encoding(test_df,cat_vars)"
   ]
  },
  {
   "cell_type": "code",
   "execution_count": 11,
   "metadata": {},
   "outputs": [],
   "source": [
    "# Dropping the rows on which One-Hot Encoding has been performed\n",
    "total_df = total_df.drop(Catg_Var_LE.columns, axis=1)\n",
    "# Concating the rows converted using One-Hot Encoding to other columns:\n",
    "total_df = pd.concat([total_df,Catg_Var_LE], axis=1)"
   ]
  },
  {
   "cell_type": "code",
   "execution_count": 17,
   "metadata": {},
   "outputs": [],
   "source": [
    "# Dropping the rows on which One-Hot Encoding has been performed\n",
    "train_df = train_df.drop(Catg_Var_LE_train.columns, axis=1)\n",
    "# Concating the rows converted using One-Hot Encoding to other columns:\n",
    "train_df = pd.concat([train_df,Catg_Var_LE_train], axis=1)"
   ]
  },
  {
   "cell_type": "code",
   "execution_count": 18,
   "metadata": {},
   "outputs": [],
   "source": [
    "# Dropping the rows on which One-Hot Encoding has been performed\n",
    "test_df = test_df.drop(Catg_Var_LE_test.columns, axis=1)\n",
    "# Concating the rows converted using One-Hot Encoding to other columns:\n",
    "test_df = pd.concat([test_df,Catg_Var_LE_test], axis=1)"
   ]
  },
  {
   "cell_type": "code",
   "execution_count": 12,
   "metadata": {},
   "outputs": [],
   "source": [
    "train_df = total_df[total_df['set'] == 'train']\n",
    "test_df = total_df[total_df['set'] == 'test']"
   ]
  },
  {
   "cell_type": "code",
   "execution_count": 13,
   "metadata": {},
   "outputs": [],
   "source": [
    "target = 'deal_probability'\n",
    "predictors = ['dow', 'en_region', 'en_city',\n",
    "       'en_parent_category_name', 'en_category_name', 'user_type', 'en_param1',\n",
    "       'en_param2', 'en_param3','price_new']"
   ]
  },
  {
   "cell_type": "code",
   "execution_count": 14,
   "metadata": {},
   "outputs": [],
   "source": [
    "# Splitting the data for model training#\n",
    "dev_X = train_df.iloc[:-200000,:]\n",
    "val_X = train_df.iloc[-200000:,:]"
   ]
  },
  {
   "cell_type": "code",
   "execution_count": 117,
   "metadata": {},
   "outputs": [],
   "source": [
    "def run_lgb(train_X, val_X):\n",
    "    params = {\n",
    "        \"objective\" : \"regression\",\n",
    "        \"metric\" : \"rmse\",\n",
    "        \"num_leaves\" : 40,\n",
    "        \"learning_rate\" : 0.1,\n",
    "        \"bagging_fraction\" : 0.7,\n",
    "        \"feature_fraction\" : 0.7,\n",
    "        \"bagging_frequency\" : 5,\n",
    "        \"bagging_seed\" : 2018,\n",
    "        \"verbosity\" : -1\n",
    "    }\n",
    "    \n",
    "    lgtrain = lgb.Dataset(train_X[predictors].values, label=train_X[target].values)\n",
    "    lgval = lgb.Dataset(val_X[predictors].values, label=val_X[target].values)\n",
    "    evals_result = {}\n",
    "    model = lgb.train(params, lgtrain, 5000, valid_sets=[lgtrain, lgval], early_stopping_rounds=100, verbose_eval=20, evals_result=evals_result)\n",
    "    \n",
    "    #pred_test_y = model.predict(test_X, num_iteration=model.best_iteration)\n",
    "    return model, evals_result"
   ]
  },
  {
   "cell_type": "code",
   "execution_count": 99,
   "metadata": {},
   "outputs": [],
   "source": [
    "params = {\n",
    "        \"objective\" : \"regression\",\n",
    "        \"metric\" : \"rmse\",\n",
    "        \"num_leaves\" : 30,\n",
    "        \"learning_rate\" : 0.1,\n",
    "        \"bagging_fraction\" : 0.7,\n",
    "        \"feature_fraction\" : 0.7,\n",
    "        \"bagging_frequency\" : 5,\n",
    "        \"bagging_seed\" : 2018,\n",
    "        \"verbosity\" : -1\n",
    "    }"
   ]
  },
  {
   "cell_type": "code",
   "execution_count": null,
   "metadata": {},
   "outputs": [],
   "source": [
    "num_leaves = [20, 25, 30, 35, 40]\n",
    "learning_rate = [0.01, 0.05, 0.1, 0.15, 0.2]\n",
    "bst_results = []\n",
    "for num_lv in num_leaves:\n",
    "    for lr in learning_rate:\n",
    "        new_params = {\"num_leaves\" : num_lv, \"learning_rate\" : lr}\n",
    "        params.update(new_params)\n",
    "        lgtrain = lgb.Dataset(train_X[predictors].values, label=train_X[target].values)\n",
    "        lgval = lgb.Dataset(val_X[predictors].values, label=val_X[target].values)\n",
    "        evals_result = {}\n",
    "        model = lgb.train(params, lgtrain, 1000, valid_sets=[lgtrain, lgval], early_stopping_rounds=100, verbose_eval=20, evals_result=evals_result)\n",
    "        bst_results.append(params, )"
   ]
  },
  {
   "cell_type": "code",
   "execution_count": 107,
   "metadata": {},
   "outputs": [],
   "source": [
    "model = lgb.LGBMRegressor(objective=\"regression\",\n",
    "        metric = \"rmse\",\n",
    "        num_leaves = 30,\n",
    "        learning_rate = 0.1,\n",
    "        bagging_fraction = 0.7,\n",
    "        feature_fraction = 0.7,\n",
    "        bagging_frequency = 5,\n",
    "        bagging_seed = 2018,\n",
    "        verbosity = -1)"
   ]
  },
  {
   "cell_type": "code",
   "execution_count": 108,
   "metadata": {},
   "outputs": [],
   "source": [
    "params_opt = {'learning_rate': [0.01, 0.05, 0.1, 0.15, 0.2], \"num_leaves\" : [20, 25, 30, 35, 40]}"
   ]
  },
  {
   "cell_type": "code",
   "execution_count": 110,
   "metadata": {},
   "outputs": [],
   "source": [
    "gridSearchCV = GridSearchCV(estimator = model, \n",
    "    param_grid = params_opt, verbose=1)"
   ]
  },
  {
   "cell_type": "code",
   "execution_count": 111,
   "metadata": {},
   "outputs": [
    {
     "name": "stdout",
     "output_type": "stream",
     "text": [
      "Fitting 3 folds for each of 25 candidates, totalling 75 fits\n"
     ]
    },
    {
     "name": "stderr",
     "output_type": "stream",
     "text": [
      "[Parallel(n_jobs=1)]: Done  75 out of  75 | elapsed: 13.3min finished\n"
     ]
    },
    {
     "data": {
      "text/plain": [
       "GridSearchCV(cv=None, error_score='raise',\n",
       "       estimator=LGBMRegressor(bagging_fraction=0.7, bagging_frequency=5, bagging_seed=2018,\n",
       "       boosting_type='gbdt', class_weight=None, colsample_bytree=1.0,\n",
       "       feature_fraction=0.7, learning_rate=0.1, max_depth=-1,\n",
       "       metric='rmse', min_child_samples=20, min_child_weight=0.001,\n",
       "       min_spl...da=0.0, silent=True, subsample=1.0,\n",
       "       subsample_for_bin=200000, subsample_freq=1, verbosity=-1),\n",
       "       fit_params=None, iid=True, n_jobs=1,\n",
       "       param_grid={'learning_rate': [0.01, 0.05, 0.1, 0.15, 0.2], 'num_leaves': [20, 25, 30, 35, 40]},\n",
       "       pre_dispatch='2*n_jobs', refit=True, return_train_score='warn',\n",
       "       scoring=None, verbose=1)"
      ]
     },
     "execution_count": 111,
     "metadata": {},
     "output_type": "execute_result"
    }
   ],
   "source": [
    "gridSearchCV.fit(train_df[predictors],train_df[target])"
   ]
  },
  {
   "cell_type": "code",
   "execution_count": 114,
   "metadata": {},
   "outputs": [
    {
     "name": "stderr",
     "output_type": "stream",
     "text": [
      "C:\\Program Files\\Anaconda\\lib\\site-packages\\sklearn\\model_selection\\_search.py:761: DeprecationWarning: The grid_scores_ attribute was deprecated in version 0.18 in favor of the more elaborate cv_results_ attribute. The grid_scores_ attribute will not be available from 0.20\n",
      "  DeprecationWarning)\n"
     ]
    },
    {
     "data": {
      "text/plain": [
       "[mean: 0.13209, std: 0.00041, params: {'learning_rate': 0.01, 'num_leaves': 20},\n",
       " mean: 0.13629, std: 0.00032, params: {'learning_rate': 0.01, 'num_leaves': 25},\n",
       " mean: 0.13980, std: 0.00031, params: {'learning_rate': 0.01, 'num_leaves': 30},\n",
       " mean: 0.14259, std: 0.00033, params: {'learning_rate': 0.01, 'num_leaves': 35},\n",
       " mean: 0.14508, std: 0.00032, params: {'learning_rate': 0.01, 'num_leaves': 40},\n",
       " mean: 0.18440, std: 0.00095, params: {'learning_rate': 0.05, 'num_leaves': 20},\n",
       " mean: 0.18848, std: 0.00082, params: {'learning_rate': 0.05, 'num_leaves': 25},\n",
       " mean: 0.19178, std: 0.00084, params: {'learning_rate': 0.05, 'num_leaves': 30},\n",
       " mean: 0.19479, std: 0.00109, params: {'learning_rate': 0.05, 'num_leaves': 35},\n",
       " mean: 0.19652, std: 0.00107, params: {'learning_rate': 0.05, 'num_leaves': 40},\n",
       " mean: 0.19442, std: 0.00125, params: {'learning_rate': 0.1, 'num_leaves': 20},\n",
       " mean: 0.19837, std: 0.00145, params: {'learning_rate': 0.1, 'num_leaves': 25},\n",
       " mean: 0.20112, std: 0.00129, params: {'learning_rate': 0.1, 'num_leaves': 30},\n",
       " mean: 0.20320, std: 0.00125, params: {'learning_rate': 0.1, 'num_leaves': 35},\n",
       " mean: 0.20531, std: 0.00117, params: {'learning_rate': 0.1, 'num_leaves': 40},\n",
       " mean: 0.19973, std: 0.00130, params: {'learning_rate': 0.15, 'num_leaves': 20},\n",
       " mean: 0.20296, std: 0.00180, params: {'learning_rate': 0.15, 'num_leaves': 25},\n",
       " mean: 0.20545, std: 0.00093, params: {'learning_rate': 0.15, 'num_leaves': 30},\n",
       " mean: 0.20735, std: 0.00110, params: {'learning_rate': 0.15, 'num_leaves': 35},\n",
       " mean: 0.20886, std: 0.00150, params: {'learning_rate': 0.15, 'num_leaves': 40},\n",
       " mean: 0.20332, std: 0.00076, params: {'learning_rate': 0.2, 'num_leaves': 20},\n",
       " mean: 0.20574, std: 0.00126, params: {'learning_rate': 0.2, 'num_leaves': 25},\n",
       " mean: 0.20820, std: 0.00090, params: {'learning_rate': 0.2, 'num_leaves': 30},\n",
       " mean: 0.20982, std: 0.00113, params: {'learning_rate': 0.2, 'num_leaves': 35},\n",
       " mean: 0.21093, std: 0.00108, params: {'learning_rate': 0.2, 'num_leaves': 40}]"
      ]
     },
     "execution_count": 114,
     "metadata": {},
     "output_type": "execute_result"
    }
   ],
   "source": [
    "gridSearchCV.grid_scores_"
   ]
  },
  {
   "cell_type": "code",
   "execution_count": 118,
   "metadata": {
    "scrolled": true
   },
   "outputs": [
    {
     "name": "stdout",
     "output_type": "stream",
     "text": [
      "Training until validation scores don't improve for 100 rounds.\n",
      "[20]\ttraining's rmse: 0.235874\tvalid_1's rmse: 0.236164\n",
      "[40]\ttraining's rmse: 0.233528\tvalid_1's rmse: 0.233838\n",
      "[60]\ttraining's rmse: 0.232553\tvalid_1's rmse: 0.232909\n",
      "[80]\ttraining's rmse: 0.231928\tvalid_1's rmse: 0.232326\n",
      "[100]\ttraining's rmse: 0.23145\tvalid_1's rmse: 0.231907\n",
      "[120]\ttraining's rmse: 0.231133\tvalid_1's rmse: 0.231645\n",
      "[140]\ttraining's rmse: 0.23081\tvalid_1's rmse: 0.231372\n",
      "[160]\ttraining's rmse: 0.23058\tvalid_1's rmse: 0.231213\n",
      "[180]\ttraining's rmse: 0.230325\tvalid_1's rmse: 0.23102\n",
      "[200]\ttraining's rmse: 0.230132\tvalid_1's rmse: 0.230926\n",
      "[220]\ttraining's rmse: 0.229936\tvalid_1's rmse: 0.230789\n",
      "[240]\ttraining's rmse: 0.229731\tvalid_1's rmse: 0.230661\n",
      "[260]\ttraining's rmse: 0.229565\tvalid_1's rmse: 0.230568\n",
      "[280]\ttraining's rmse: 0.229403\tvalid_1's rmse: 0.230487\n",
      "[300]\ttraining's rmse: 0.229257\tvalid_1's rmse: 0.230412\n",
      "[320]\ttraining's rmse: 0.229123\tvalid_1's rmse: 0.230344\n",
      "[340]\ttraining's rmse: 0.228977\tvalid_1's rmse: 0.230271\n",
      "[360]\ttraining's rmse: 0.228859\tvalid_1's rmse: 0.230223\n",
      "[380]\ttraining's rmse: 0.228716\tvalid_1's rmse: 0.230143\n",
      "[400]\ttraining's rmse: 0.228599\tvalid_1's rmse: 0.230094\n",
      "[420]\ttraining's rmse: 0.22846\tvalid_1's rmse: 0.230017\n",
      "[440]\ttraining's rmse: 0.228341\tvalid_1's rmse: 0.229971\n",
      "[460]\ttraining's rmse: 0.228239\tvalid_1's rmse: 0.229927\n",
      "[480]\ttraining's rmse: 0.228137\tvalid_1's rmse: 0.229895\n",
      "[500]\ttraining's rmse: 0.228036\tvalid_1's rmse: 0.229853\n",
      "[520]\ttraining's rmse: 0.227936\tvalid_1's rmse: 0.229825\n",
      "[540]\ttraining's rmse: 0.227845\tvalid_1's rmse: 0.229795\n",
      "[560]\ttraining's rmse: 0.227747\tvalid_1's rmse: 0.22977\n",
      "[580]\ttraining's rmse: 0.227667\tvalid_1's rmse: 0.229739\n",
      "[600]\ttraining's rmse: 0.227559\tvalid_1's rmse: 0.229701\n",
      "[620]\ttraining's rmse: 0.227461\tvalid_1's rmse: 0.229674\n",
      "[640]\ttraining's rmse: 0.227371\tvalid_1's rmse: 0.229641\n",
      "[660]\ttraining's rmse: 0.227279\tvalid_1's rmse: 0.229607\n",
      "[680]\ttraining's rmse: 0.227188\tvalid_1's rmse: 0.229576\n",
      "[700]\ttraining's rmse: 0.227105\tvalid_1's rmse: 0.229553\n",
      "[720]\ttraining's rmse: 0.22702\tvalid_1's rmse: 0.229522\n",
      "[740]\ttraining's rmse: 0.226925\tvalid_1's rmse: 0.229492\n",
      "[760]\ttraining's rmse: 0.226834\tvalid_1's rmse: 0.229469\n",
      "[780]\ttraining's rmse: 0.226758\tvalid_1's rmse: 0.229449\n",
      "[800]\ttraining's rmse: 0.22668\tvalid_1's rmse: 0.229426\n",
      "[820]\ttraining's rmse: 0.226597\tvalid_1's rmse: 0.229399\n",
      "[840]\ttraining's rmse: 0.226514\tvalid_1's rmse: 0.229376\n",
      "[860]\ttraining's rmse: 0.226434\tvalid_1's rmse: 0.229354\n",
      "[880]\ttraining's rmse: 0.226345\tvalid_1's rmse: 0.229329\n",
      "[900]\ttraining's rmse: 0.226265\tvalid_1's rmse: 0.229312\n",
      "[920]\ttraining's rmse: 0.226198\tvalid_1's rmse: 0.229301\n",
      "[940]\ttraining's rmse: 0.226116\tvalid_1's rmse: 0.229296\n",
      "[960]\ttraining's rmse: 0.226049\tvalid_1's rmse: 0.229284\n",
      "[980]\ttraining's rmse: 0.225977\tvalid_1's rmse: 0.229272\n",
      "[1000]\ttraining's rmse: 0.225904\tvalid_1's rmse: 0.229254\n",
      "[1020]\ttraining's rmse: 0.225836\tvalid_1's rmse: 0.229234\n",
      "[1040]\ttraining's rmse: 0.225769\tvalid_1's rmse: 0.229222\n",
      "[1060]\ttraining's rmse: 0.225695\tvalid_1's rmse: 0.229203\n",
      "[1080]\ttraining's rmse: 0.225622\tvalid_1's rmse: 0.229191\n",
      "[1100]\ttraining's rmse: 0.22555\tvalid_1's rmse: 0.229175\n",
      "[1120]\ttraining's rmse: 0.225465\tvalid_1's rmse: 0.229164\n",
      "[1140]\ttraining's rmse: 0.225395\tvalid_1's rmse: 0.229143\n",
      "[1160]\ttraining's rmse: 0.225324\tvalid_1's rmse: 0.229128\n",
      "[1180]\ttraining's rmse: 0.225255\tvalid_1's rmse: 0.229113\n",
      "[1200]\ttraining's rmse: 0.225186\tvalid_1's rmse: 0.229105\n",
      "[1220]\ttraining's rmse: 0.225119\tvalid_1's rmse: 0.22909\n",
      "[1240]\ttraining's rmse: 0.225062\tvalid_1's rmse: 0.229075\n",
      "[1260]\ttraining's rmse: 0.224989\tvalid_1's rmse: 0.229065\n",
      "[1280]\ttraining's rmse: 0.224921\tvalid_1's rmse: 0.229049\n",
      "[1300]\ttraining's rmse: 0.224866\tvalid_1's rmse: 0.229041\n",
      "[1320]\ttraining's rmse: 0.224802\tvalid_1's rmse: 0.229033\n",
      "[1340]\ttraining's rmse: 0.224735\tvalid_1's rmse: 0.229036\n",
      "[1360]\ttraining's rmse: 0.224661\tvalid_1's rmse: 0.229023\n",
      "[1380]\ttraining's rmse: 0.224594\tvalid_1's rmse: 0.229012\n",
      "[1400]\ttraining's rmse: 0.224535\tvalid_1's rmse: 0.229008\n",
      "[1420]\ttraining's rmse: 0.224488\tvalid_1's rmse: 0.229005\n",
      "[1440]\ttraining's rmse: 0.224423\tvalid_1's rmse: 0.228998\n",
      "[1460]\ttraining's rmse: 0.224368\tvalid_1's rmse: 0.228991\n",
      "[1480]\ttraining's rmse: 0.224314\tvalid_1's rmse: 0.22898\n",
      "[1500]\ttraining's rmse: 0.224262\tvalid_1's rmse: 0.228969\n",
      "[1520]\ttraining's rmse: 0.224206\tvalid_1's rmse: 0.228961\n",
      "[1540]\ttraining's rmse: 0.224155\tvalid_1's rmse: 0.228953\n",
      "[1560]\ttraining's rmse: 0.224096\tvalid_1's rmse: 0.228943\n",
      "[1580]\ttraining's rmse: 0.224044\tvalid_1's rmse: 0.228936\n",
      "[1600]\ttraining's rmse: 0.223989\tvalid_1's rmse: 0.228927\n",
      "[1620]\ttraining's rmse: 0.223935\tvalid_1's rmse: 0.22892\n",
      "[1640]\ttraining's rmse: 0.223878\tvalid_1's rmse: 0.228913\n",
      "[1660]\ttraining's rmse: 0.223826\tvalid_1's rmse: 0.228904\n",
      "[1680]\ttraining's rmse: 0.223764\tvalid_1's rmse: 0.228892\n",
      "[1700]\ttraining's rmse: 0.223705\tvalid_1's rmse: 0.228887\n",
      "[1720]\ttraining's rmse: 0.223652\tvalid_1's rmse: 0.228885\n",
      "[1740]\ttraining's rmse: 0.223599\tvalid_1's rmse: 0.228877\n",
      "[1760]\ttraining's rmse: 0.223547\tvalid_1's rmse: 0.228869\n",
      "[1780]\ttraining's rmse: 0.223485\tvalid_1's rmse: 0.228858\n",
      "[1800]\ttraining's rmse: 0.22343\tvalid_1's rmse: 0.228852\n",
      "[1820]\ttraining's rmse: 0.223375\tvalid_1's rmse: 0.22884\n",
      "[1840]\ttraining's rmse: 0.223313\tvalid_1's rmse: 0.228832\n",
      "[1860]\ttraining's rmse: 0.22325\tvalid_1's rmse: 0.228816\n",
      "[1880]\ttraining's rmse: 0.223198\tvalid_1's rmse: 0.228814\n",
      "[1900]\ttraining's rmse: 0.223142\tvalid_1's rmse: 0.228813\n",
      "[1920]\ttraining's rmse: 0.223081\tvalid_1's rmse: 0.228806\n",
      "[1940]\ttraining's rmse: 0.223025\tvalid_1's rmse: 0.22881\n",
      "[1960]\ttraining's rmse: 0.222974\tvalid_1's rmse: 0.228805\n",
      "[1980]\ttraining's rmse: 0.222915\tvalid_1's rmse: 0.228797\n",
      "[2000]\ttraining's rmse: 0.222863\tvalid_1's rmse: 0.228793\n",
      "[2020]\ttraining's rmse: 0.222808\tvalid_1's rmse: 0.228794\n",
      "[2040]\ttraining's rmse: 0.222758\tvalid_1's rmse: 0.228796\n",
      "[2060]\ttraining's rmse: 0.222707\tvalid_1's rmse: 0.228796\n",
      "[2080]\ttraining's rmse: 0.22266\tvalid_1's rmse: 0.228793\n",
      "[2100]\ttraining's rmse: 0.222607\tvalid_1's rmse: 0.228785\n",
      "[2120]\ttraining's rmse: 0.222559\tvalid_1's rmse: 0.228784\n",
      "[2140]\ttraining's rmse: 0.222502\tvalid_1's rmse: 0.228777\n",
      "[2160]\ttraining's rmse: 0.222445\tvalid_1's rmse: 0.228778\n",
      "[2180]\ttraining's rmse: 0.222397\tvalid_1's rmse: 0.228779\n",
      "[2200]\ttraining's rmse: 0.222345\tvalid_1's rmse: 0.228768\n",
      "[2220]\ttraining's rmse: 0.222295\tvalid_1's rmse: 0.22876\n",
      "[2240]\ttraining's rmse: 0.222249\tvalid_1's rmse: 0.228763\n",
      "[2260]\ttraining's rmse: 0.222199\tvalid_1's rmse: 0.228758\n",
      "[2280]\ttraining's rmse: 0.222151\tvalid_1's rmse: 0.228758\n",
      "[2300]\ttraining's rmse: 0.222105\tvalid_1's rmse: 0.228756\n",
      "[2320]\ttraining's rmse: 0.22206\tvalid_1's rmse: 0.228758\n",
      "[2340]\ttraining's rmse: 0.222012\tvalid_1's rmse: 0.228761\n",
      "[2360]\ttraining's rmse: 0.221962\tvalid_1's rmse: 0.228763\n",
      "Early stopping, best iteration is:\n",
      "[2274]\ttraining's rmse: 0.222163\tvalid_1's rmse: 0.228754\n"
     ]
    }
   ],
   "source": [
    "model, result = run_lgb(dev_X, val_X)"
   ]
  },
  {
   "cell_type": "code",
   "execution_count": 119,
   "metadata": {},
   "outputs": [
    {
     "name": "stderr",
     "output_type": "stream",
     "text": [
      "C:\\Program Files\\Anaconda\\lib\\site-packages\\ipykernel_launcher.py:1: SettingWithCopyWarning: \n",
      "A value is trying to be set on a copy of a slice from a DataFrame.\n",
      "Try using .loc[row_indexer,col_indexer] = value instead\n",
      "\n",
      "See the caveats in the documentation: http://pandas.pydata.org/pandas-docs/stable/indexing.html#indexing-view-versus-copy\n",
      "  \"\"\"Entry point for launching an IPython kernel.\n"
     ]
    }
   ],
   "source": [
    "test_df['deal_probability'] = model.predict(test_df[predictors])"
   ]
  },
  {
   "cell_type": "code",
   "execution_count": 122,
   "metadata": {},
   "outputs": [],
   "source": [
    "test_df[['item_id','deal_probability']].to_csv('base_submission_total_numleaves40.csv', index=False)"
   ]
  },
  {
   "cell_type": "code",
   "execution_count": 35,
   "metadata": {},
   "outputs": [
    {
     "data": {
      "text/plain": [
       "508438"
      ]
     },
     "execution_count": 35,
     "metadata": {},
     "output_type": "execute_result"
    }
   ],
   "source": [
    "len(test_df)"
   ]
  },
  {
   "cell_type": "code",
   "execution_count": 121,
   "metadata": {},
   "outputs": [
    {
     "name": "stderr",
     "output_type": "stream",
     "text": [
      "C:\\Program Files\\Anaconda\\lib\\site-packages\\ipykernel_launcher.py:1: SettingWithCopyWarning: \n",
      "A value is trying to be set on a copy of a slice from a DataFrame\n",
      "\n",
      "See the caveats in the documentation: http://pandas.pydata.org/pandas-docs/stable/indexing.html#indexing-view-versus-copy\n",
      "  \"\"\"Entry point for launching an IPython kernel.\n",
      "C:\\Program Files\\Anaconda\\lib\\site-packages\\pandas\\core\\generic.py:5984: SettingWithCopyWarning: \n",
      "A value is trying to be set on a copy of a slice from a DataFrame\n",
      "\n",
      "See the caveats in the documentation: http://pandas.pydata.org/pandas-docs/stable/indexing.html#indexing-view-versus-copy\n",
      "  self._update_inplace(new_data)\n",
      "C:\\Program Files\\Anaconda\\lib\\site-packages\\IPython\\core\\interactiveshell.py:2910: SettingWithCopyWarning: \n",
      "A value is trying to be set on a copy of a slice from a DataFrame\n",
      "\n",
      "See the caveats in the documentation: http://pandas.pydata.org/pandas-docs/stable/indexing.html#indexing-view-versus-copy\n",
      "  exec(code_obj, self.user_global_ns, self.user_ns)\n"
     ]
    }
   ],
   "source": [
    "test_df.deal_probability[test_df['deal_probability'] < 0] = 0"
   ]
  },
  {
   "cell_type": "code",
   "execution_count": 30,
   "metadata": {},
   "outputs": [],
   "source": [
    "import kaggle"
   ]
  },
  {
   "cell_type": "code",
   "execution_count": 123,
   "metadata": {},
   "outputs": [
    {
     "name": "stdout",
     "output_type": "stream",
     "text": [
      "Warning: Looks like you're using an outdated API Version, please consider updating (server 1.3.4 / client 1.3.3)\n",
      "Successfully submitted to Avito Demand Prediction Challenge\n"
     ]
    }
   ],
   "source": [
    "!kaggle competitions submit -c avito-demand-prediction -f base_submission_total_numleaves40.csv -m \"Increasing number of leaves\""
   ]
  },
  {
   "cell_type": "code",
   "execution_count": 23,
   "metadata": {},
   "outputs": [
    {
     "data": {
      "image/png": "[encoded data removed]",
      "text/plain": [
       "<matplotlib.figure.Figure at 0x1dc1cf6f438>"
      ]
     },
     "metadata": {},
     "output_type": "display_data"
    }
   ],
   "source": [
    "fig, ax = plt.subplots(figsize=(12,18))\n",
    "lgb.plot_importance(model, max_num_features=50, height=0.8, ax=ax)\n",
    "ax.grid(False)\n",
    "plt.title(\"LightGBM - Feature Importance\", fontsize=15)\n",
    "plt.show()"
   ]
  },
  {
   "cell_type": "markdown",
   "metadata": {},
   "source": [
    "### Running XGBoost:"
   ]
  },
  {
   "cell_type": "code",
   "execution_count": 2,
   "metadata": {},
   "outputs": [],
   "source": [
    "import xgboost as xgb"
   ]
  },
  {
   "cell_type": "code",
   "execution_count": 15,
   "metadata": {},
   "outputs": [
    {
     "data": {
      "text/plain": [
       "200000"
      ]
     },
     "execution_count": 15,
     "metadata": {},
     "output_type": "execute_result"
    }
   ],
   "source": [
    "len(val_X)"
   ]
  },
  {
   "cell_type": "code",
   "execution_count": 16,
   "metadata": {},
   "outputs": [
    {
     "data": {
      "text/plain": [
       "1303424"
      ]
     },
     "execution_count": 16,
     "metadata": {},
     "output_type": "execute_result"
    }
   ],
   "source": [
    "len(dev_X)"
   ]
  },
  {
   "cell_type": "code",
   "execution_count": 17,
   "metadata": {},
   "outputs": [],
   "source": [
    "train_dmatrix = xgb.DMatrix(dev_X[predictors],dev_X[target])\n",
    "valid_dmatrix = xgb.DMatrix(val_X[predictors],val_X[target])"
   ]
  },
  {
   "cell_type": "code",
   "execution_count": 22,
   "metadata": {},
   "outputs": [],
   "source": [
    "def run_xgb(train_dmatrix, valid_dmatrix):\n",
    "    params = {\n",
    "        \"objective\" : \"reg:linear\",\n",
    "        \"metric\" : \"rmse\",\n",
    "        \"num_leaves\" : 40,\n",
    "        \"learning_rate\" : 0.1,\n",
    "        \"bagging_fraction\" : 0.7,\n",
    "        \"feature_fraction\" : 0.7,\n",
    "        \"bagging_frequency\" : 5,\n",
    "        \"bagging_seed\" : 2018,\n",
    "        \"verbosity\" : -1\n",
    "    }\n",
    "    \n",
    "    evals_result = {}\n",
    "    evallist = [(train_dmatrix,'train'), (valid_dmatrix, 'eval')]\n",
    "    model = xgb.train(params, train_dmatrix, 5000, evallist, early_stopping_rounds=100, verbose_eval=20, evals_result=evals_result)\n",
    "    \n",
    "    #pred_test_y = model.predict(test_X, num_iteration=model.best_iteration)\n",
    "    return model, evals_result"
   ]
  },
  {
   "cell_type": "code",
   "execution_count": 23,
   "metadata": {},
   "outputs": [
    {
     "name": "stdout",
     "output_type": "stream",
     "text": [
      "[0]\ttrain-rmse:0.413653\teval-rmse:0.413988\n",
      "Multiple eval metrics have been passed: 'eval-rmse' will be used for early stopping.\n",
      "\n",
      "Will train until eval-rmse hasn't improved in 100 rounds.\n",
      "[20]\ttrain-rmse:0.239864\teval-rmse:0.240212\n",
      "[40]\ttrain-rmse:0.234516\teval-rmse:0.234885\n",
      "[60]\ttrain-rmse:0.233202\teval-rmse:0.233662\n",
      "[80]\ttrain-rmse:0.232472\teval-rmse:0.233015\n",
      "[100]\ttrain-rmse:0.231816\teval-rmse:0.232434\n",
      "[120]\ttrain-rmse:0.231309\teval-rmse:0.232008\n",
      "[140]\ttrain-rmse:0.231038\teval-rmse:0.231827\n",
      "[160]\ttrain-rmse:0.230688\teval-rmse:0.231553\n",
      "[180]\ttrain-rmse:0.230423\teval-rmse:0.231351\n",
      "[200]\ttrain-rmse:0.230169\teval-rmse:0.231178\n",
      "[220]\ttrain-rmse:0.229869\teval-rmse:0.23097\n",
      "[240]\ttrain-rmse:0.229721\teval-rmse:0.230887\n",
      "[260]\ttrain-rmse:0.229517\teval-rmse:0.230774\n",
      "[280]\ttrain-rmse:0.229356\teval-rmse:0.230675\n",
      "[300]\ttrain-rmse:0.229171\teval-rmse:0.230552\n",
      "[320]\ttrain-rmse:0.229\teval-rmse:0.230462\n",
      "[340]\ttrain-rmse:0.228844\teval-rmse:0.230374\n",
      "[360]\ttrain-rmse:0.2287\teval-rmse:0.230312\n",
      "[380]\ttrain-rmse:0.228577\teval-rmse:0.230246\n",
      "[400]\ttrain-rmse:0.228452\teval-rmse:0.230194\n",
      "[420]\ttrain-rmse:0.228308\teval-rmse:0.230123\n",
      "[440]\ttrain-rmse:0.228182\teval-rmse:0.230064\n",
      "[460]\ttrain-rmse:0.228071\teval-rmse:0.230017\n",
      "[480]\ttrain-rmse:0.227977\teval-rmse:0.229988\n",
      "[500]\ttrain-rmse:0.227854\teval-rmse:0.229938\n",
      "[520]\ttrain-rmse:0.227746\teval-rmse:0.229903\n",
      "[540]\ttrain-rmse:0.227656\teval-rmse:0.229874\n",
      "[560]\ttrain-rmse:0.227565\teval-rmse:0.229841\n",
      "[580]\ttrain-rmse:0.227473\teval-rmse:0.229804\n",
      "[600]\ttrain-rmse:0.227362\teval-rmse:0.229758\n",
      "[620]\ttrain-rmse:0.227271\teval-rmse:0.22972\n",
      "[640]\ttrain-rmse:0.227137\teval-rmse:0.229667\n",
      "[660]\ttrain-rmse:0.227047\teval-rmse:0.229636\n",
      "[680]\ttrain-rmse:0.226953\teval-rmse:0.229618\n",
      "[700]\ttrain-rmse:0.226892\teval-rmse:0.2296\n",
      "[720]\ttrain-rmse:0.226808\teval-rmse:0.229579\n",
      "[740]\ttrain-rmse:0.22672\teval-rmse:0.229547\n",
      "[760]\ttrain-rmse:0.226631\teval-rmse:0.229518\n",
      "[780]\ttrain-rmse:0.226544\teval-rmse:0.22949\n",
      "[800]\ttrain-rmse:0.226451\teval-rmse:0.229465\n",
      "[820]\ttrain-rmse:0.226366\teval-rmse:0.229451\n",
      "[840]\ttrain-rmse:0.226272\teval-rmse:0.229424\n",
      "[860]\ttrain-rmse:0.226199\teval-rmse:0.229412\n",
      "[880]\ttrain-rmse:0.226123\teval-rmse:0.229393\n",
      "[900]\ttrain-rmse:0.226042\teval-rmse:0.229366\n",
      "[920]\ttrain-rmse:0.22597\teval-rmse:0.229358\n",
      "[940]\ttrain-rmse:0.225891\teval-rmse:0.229347\n",
      "[960]\ttrain-rmse:0.225826\teval-rmse:0.229333\n",
      "[980]\ttrain-rmse:0.225743\teval-rmse:0.229322\n",
      "[1000]\ttrain-rmse:0.22566\teval-rmse:0.229307\n",
      "[1020]\ttrain-rmse:0.225581\teval-rmse:0.229287\n",
      "[1040]\ttrain-rmse:0.225491\teval-rmse:0.229261\n",
      "[1060]\ttrain-rmse:0.225423\teval-rmse:0.229244\n",
      "[1080]\ttrain-rmse:0.225349\teval-rmse:0.229231\n",
      "[1100]\ttrain-rmse:0.225288\teval-rmse:0.22923\n",
      "[1120]\ttrain-rmse:0.225213\teval-rmse:0.229223\n",
      "[1140]\ttrain-rmse:0.225158\teval-rmse:0.229218\n",
      "[1160]\ttrain-rmse:0.225095\teval-rmse:0.229211\n",
      "[1180]\ttrain-rmse:0.225033\teval-rmse:0.229203\n",
      "[1200]\ttrain-rmse:0.22499\teval-rmse:0.229194\n",
      "[1220]\ttrain-rmse:0.224929\teval-rmse:0.229186\n",
      "[1240]\ttrain-rmse:0.224861\teval-rmse:0.22918\n",
      "[1260]\ttrain-rmse:0.224801\teval-rmse:0.22917\n",
      "[1280]\ttrain-rmse:0.22473\teval-rmse:0.229156\n",
      "[1300]\ttrain-rmse:0.224672\teval-rmse:0.22914\n",
      "[1320]\ttrain-rmse:0.224599\teval-rmse:0.229131\n",
      "[1340]\ttrain-rmse:0.224533\teval-rmse:0.229126\n",
      "[1360]\ttrain-rmse:0.22447\teval-rmse:0.229118\n",
      "[1380]\ttrain-rmse:0.224411\teval-rmse:0.229109\n",
      "[1400]\ttrain-rmse:0.224347\teval-rmse:0.229103\n",
      "[1420]\ttrain-rmse:0.224294\teval-rmse:0.229105\n",
      "[1440]\ttrain-rmse:0.224235\teval-rmse:0.229097\n",
      "[1460]\ttrain-rmse:0.224169\teval-rmse:0.229091\n",
      "[1480]\ttrain-rmse:0.224118\teval-rmse:0.229085\n",
      "[1500]\ttrain-rmse:0.224073\teval-rmse:0.229085\n",
      "[1520]\ttrain-rmse:0.224015\teval-rmse:0.229079\n",
      "[1540]\ttrain-rmse:0.223957\teval-rmse:0.229072\n",
      "[1560]\ttrain-rmse:0.22389\teval-rmse:0.229058\n",
      "[1580]\ttrain-rmse:0.223843\teval-rmse:0.229058\n",
      "[1600]\ttrain-rmse:0.223782\teval-rmse:0.229052\n",
      "[1620]\ttrain-rmse:0.223726\teval-rmse:0.229049\n",
      "[1640]\ttrain-rmse:0.223665\teval-rmse:0.229039\n",
      "[1660]\ttrain-rmse:0.223602\teval-rmse:0.229025\n",
      "[1680]\ttrain-rmse:0.223543\teval-rmse:0.229015\n",
      "[1700]\ttrain-rmse:0.223487\teval-rmse:0.22901\n",
      "[1720]\ttrain-rmse:0.223427\teval-rmse:0.229001\n",
      "[1740]\ttrain-rmse:0.223356\teval-rmse:0.228996\n",
      "[1760]\ttrain-rmse:0.223299\teval-rmse:0.228992\n",
      "[1780]\ttrain-rmse:0.223246\teval-rmse:0.228992\n",
      "[1800]\ttrain-rmse:0.223192\teval-rmse:0.228982\n",
      "[1820]\ttrain-rmse:0.223153\teval-rmse:0.22898\n",
      "[1840]\ttrain-rmse:0.223095\teval-rmse:0.228982\n",
      "[1860]\ttrain-rmse:0.223038\teval-rmse:0.228976\n",
      "[1880]\ttrain-rmse:0.222992\teval-rmse:0.228974\n",
      "[1900]\ttrain-rmse:0.222935\teval-rmse:0.22897\n",
      "[1920]\ttrain-rmse:0.222879\teval-rmse:0.228967\n",
      "[1940]\ttrain-rmse:0.22283\teval-rmse:0.228965\n",
      "[1960]\ttrain-rmse:0.222786\teval-rmse:0.228965\n",
      "[1980]\ttrain-rmse:0.222741\teval-rmse:0.22896\n",
      "[2000]\ttrain-rmse:0.222683\teval-rmse:0.228953\n",
      "[2020]\ttrain-rmse:0.222636\teval-rmse:0.228949\n",
      "[2040]\ttrain-rmse:0.222592\teval-rmse:0.22895\n",
      "[2060]\ttrain-rmse:0.222541\teval-rmse:0.228949\n",
      "[2080]\ttrain-rmse:0.222494\teval-rmse:0.228951\n",
      "[2100]\ttrain-rmse:0.222448\teval-rmse:0.22895\n",
      "[2120]\ttrain-rmse:0.222389\teval-rmse:0.228948\n",
      "Stopping. Best iteration:\n",
      "[2028]\ttrain-rmse:0.22262\teval-rmse:0.228947\n",
      "\n"
     ]
    }
   ],
   "source": [
    "model, result = run_xgb(train_dmatrix, valid_dmatrix)"
   ]
  },
  {
   "cell_type": "code",
   "execution_count": 27,
   "metadata": {},
   "outputs": [],
   "source": [
    "test_dmatrix = xgb.DMatrix(test_df[predictors])"
   ]
  },
  {
   "cell_type": "code",
   "execution_count": 28,
   "metadata": {},
   "outputs": [],
   "source": [
    "preds = model.predict(test_dmatrix)"
   ]
  },
  {
   "cell_type": "code",
   "execution_count": 30,
   "metadata": {},
   "outputs": [
    {
     "name": "stderr",
     "output_type": "stream",
     "text": [
      "C:\\Program Files\\Anaconda\\lib\\site-packages\\ipykernel_launcher.py:1: SettingWithCopyWarning: \n",
      "A value is trying to be set on a copy of a slice from a DataFrame.\n",
      "Try using .loc[row_indexer,col_indexer] = value instead\n",
      "\n",
      "See the caveats in the documentation: http://pandas.pydata.org/pandas-docs/stable/indexing.html#indexing-view-versus-copy\n",
      "  \"\"\"Entry point for launching an IPython kernel.\n"
     ]
    }
   ],
   "source": [
    "test_df['deal_probability'] = preds"
   ]
  },
  {
   "cell_type": "code",
   "execution_count": 32,
   "metadata": {},
   "outputs": [
    {
     "name": "stderr",
     "output_type": "stream",
     "text": [
      "C:\\Program Files\\Anaconda\\lib\\site-packages\\ipykernel_launcher.py:1: SettingWithCopyWarning: \n",
      "A value is trying to be set on a copy of a slice from a DataFrame\n",
      "\n",
      "See the caveats in the documentation: http://pandas.pydata.org/pandas-docs/stable/indexing.html#indexing-view-versus-copy\n",
      "  \"\"\"Entry point for launching an IPython kernel.\n",
      "C:\\Program Files\\Anaconda\\lib\\site-packages\\pandas\\core\\generic.py:5984: SettingWithCopyWarning: \n",
      "A value is trying to be set on a copy of a slice from a DataFrame\n",
      "\n",
      "See the caveats in the documentation: http://pandas.pydata.org/pandas-docs/stable/indexing.html#indexing-view-versus-copy\n",
      "  self._update_inplace(new_data)\n",
      "C:\\Program Files\\Anaconda\\lib\\site-packages\\IPython\\core\\interactiveshell.py:2910: SettingWithCopyWarning: \n",
      "A value is trying to be set on a copy of a slice from a DataFrame\n",
      "\n",
      "See the caveats in the documentation: http://pandas.pydata.org/pandas-docs/stable/indexing.html#indexing-view-versus-copy\n",
      "  exec(code_obj, self.user_global_ns, self.user_ns)\n"
     ]
    }
   ],
   "source": [
    "test_df.deal_probability[test_df['deal_probability'] < 0] = 0"
   ]
  },
  {
   "cell_type": "code",
   "execution_count": 33,
   "metadata": {},
   "outputs": [],
   "source": [
    "test_df[['item_id','deal_probability']].to_csv('base_submission_xgb_05072018.csv', index=False)"
   ]
  },
  {
   "cell_type": "code",
   "execution_count": 34,
   "metadata": {},
   "outputs": [
    {
     "name": "stdout",
     "output_type": "stream",
     "text": [
      "Warning: Looks like you're using an outdated API Version, please consider updating (server 1.3.4 / client 1.3.3)\n",
      "Successfully submitted to Avito Demand Prediction Challenge\n"
     ]
    }
   ],
   "source": [
    "!kaggle competitions submit -c avito-demand-prediction -f base_submission_xgb_05072018.csv -m \"base submission xgb model\""
   ]
  }
 ],
 "metadata": {
  "kernelspec": {
   "display_name": "Python 3",
   "language": "python",
   "name": "python3"
  },
  "language_info": {
   "codemirror_mode": {
    "name": "ipython",
    "version": 3
   },
   "file_extension": ".py",
   "mimetype": "text/x-python",
   "name": "python",
   "nbconvert_exporter": "python",
   "pygments_lexer": "ipython3",
   "version": "3.6.4"
  }
 },
 "nbformat": 4,
 "nbformat_minor": 2
}
