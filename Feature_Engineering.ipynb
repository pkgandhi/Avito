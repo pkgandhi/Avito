{
 "cells": [
  {
   "cell_type": "code",
   "execution_count": 1,
   "metadata": {},
   "outputs": [
    {
     "name": "stderr",
     "output_type": "stream",
     "text": [
      "C:\\Program Files\\Anaconda\\lib\\site-packages\\sklearn\\cross_validation.py:41: DeprecationWarning: This module was deprecated in version 0.18 in favor of the model_selection module into which all the refactored classes and functions are moved. Also note that the interface of the new CV iterators are different from that of this module. This module will be removed in 0.20.\n",
      "  \"This module will be removed in 0.20.\", DeprecationWarning)\n"
     ]
    }
   ],
   "source": [
    "import os\n",
    "import datetime\n",
    "import pandas as pd\n",
    "import numpy as np\n",
    "import dask.dataframe as dd\n",
    "from dask import delayed, compute\n",
    "from sklearn.cross_validation import train_test_split\n",
    "import matplotlib.pyplot as plt\n",
    "%matplotlib inline\n",
    "import seaborn as sns\n",
    "import lightgbm as lgb\n",
    "import gc\n",
    "from textblob import TextBlob, Word\n",
    "import time\n",
    "import pickle\n",
    "from tqdm import tqdm,tqdm_pandas\n",
    "path = \"F:\\\\Pratik\\\\LearningZone\\\\Competitions\\\\Avito_Demand_Prediction_Challenge\\\\RawData\"\n",
    "os.chdir(path)"
   ]
  },
  {
   "cell_type": "code",
   "execution_count": 2,
   "metadata": {},
   "outputs": [],
   "source": [
    "total_df = pd.read_csv('total_translated.csv', parse_dates=['activation_date'])"
   ]
  },
  {
   "cell_type": "code",
   "execution_count": null,
   "metadata": {},
   "outputs": [],
   "source": [
    "# # Function to convert words from Russian to English:\n",
    "\n",
    "# def translate(x):\n",
    "#     try:\n",
    "#         return TextBlob(x).translate(to=\"en\")\n",
    "#     except:\n",
    "#         return x\n",
    "    \n",
    "# def conv_string(x):\n",
    "#     try:\n",
    "#         return translate(x).string\n",
    "#     except:\n",
    "#         return translate(x)\n",
    "    \n",
    "# @delayed\n",
    "# def getting_title(total_df):\n",
    "#     unique_reg_trans = []\n",
    "#     unique_reg = list(pd.unique(total_df['title']))\n",
    "#     for reg in unique_reg:\n",
    "#         unique_reg_trans.append(conv_string(reg))\n",
    "\n",
    "#     dict_title = dict(zip(unique_reg, unique_reg_trans)) # title Dictionary\n",
    "\n",
    "#     total_df['en_title'] = total_df['title'].map(dict_title) # Mapping the titles in DF \n",
    "#     return total_df\n",
    "\n",
    "# unique_reg_compute = getting_title(unique_reg)\n",
    "# %time unique_reg_compute = unique_reg_compute.compute()"
   ]
  },
  {
   "cell_type": "code",
   "execution_count": 3,
   "metadata": {},
   "outputs": [],
   "source": [
    "# Combining param1, param2 and param3 into 1 column:\n",
    "total_df['combine_param1n2n3'] = total_df.apply(lambda row: ' '.join([\n",
    "    str(row['param_1']), \n",
    "    str(row['param_2']), \n",
    "    str(row['param_3'])]),axis=1) # Group Param Features\n",
    "total_df.drop([\"param_1\",\"param_2\",\"param_3\"],axis=1,inplace=True)"
   ]
  },
  {
   "cell_type": "code",
   "execution_count": 8,
   "metadata": {},
   "outputs": [],
   "source": [
    "# Extract features from text:\n",
    "@delayed\n",
    "def extract_textfeats(data):\n",
    "    textfeats = [\"description\",\"combine_param1n2n3\", \"title\"]\n",
    "    for cols in textfeats:\n",
    "        data[cols] = data[cols].astype(str) \n",
    "        data[cols] = data[cols].astype(str).fillna('nicapotato') # FILL NA\n",
    "        data[cols] = data[cols].str.lower() # Lowercase all text, so that capitalized words dont get treated differently\n",
    "        data[cols + '_num_chars'] = data[cols].apply(len) # Count number of Characters\n",
    "        data[cols + '_num_words'] = data[cols].apply(lambda comment: len(comment.split())) # Count number of Words\n",
    "        data[cols + '_num_unique_words'] = data[cols].apply(lambda comment: len(set(w for w in comment.split())))\n",
    "        data[cols + '_words_vs_unique'] = data[cols+'_num_unique_words'] / data[cols+'_num_words'] * 100 # Count Unique Words\n",
    "    return data\n",
    "\n",
    "total_df = extract_textfeats(total_df)\n",
    "%time total_df = total_df.compute()"
   ]
  },
  {
   "cell_type": "code",
   "execution_count": 25,
   "metadata": {},
   "outputs": [],
   "source": [
    "# Scaling the price value:\n",
    "total_df['price_new'] = np.log(total_df['price']+0.001)\n",
    "total_df[\"price_new\"].fillna(np.nanmean(total_df[\"price_new\"].values), inplace=True)"
   ]
  }
 ],
 "metadata": {
  "kernelspec": {
   "display_name": "Python 3",
   "language": "python",
   "name": "python3"
  },
  "language_info": {
   "codemirror_mode": {
    "name": "ipython",
    "version": 3
   },
   "file_extension": ".py",
   "mimetype": "text/x-python",
   "name": "python",
   "nbconvert_exporter": "python",
   "pygments_lexer": "ipython3",
   "version": "3.6.4"
  }
 },
 "nbformat": 4,
 "nbformat_minor": 2
}
