{
 "cells": [
  {
   "cell_type": "code",
   "execution_count": 1,
   "metadata": {},
   "outputs": [
    {
     "name": "stderr",
     "output_type": "stream",
     "text": [
      "C:\\Program Files\\Anaconda\\lib\\site-packages\\sklearn\\cross_validation.py:41: DeprecationWarning: This module was deprecated in version 0.18 in favor of the model_selection module into which all the refactored classes and functions are moved. Also note that the interface of the new CV iterators are different from that of this module. This module will be removed in 0.20.\n",
      "  \"This module will be removed in 0.20.\", DeprecationWarning)\n"
     ]
    }
   ],
   "source": [
    "import os\n",
    "import datetime\n",
    "import pandas as pd\n",
    "import numpy as np\n",
    "import dask.dataframe as dd\n",
    "from dask import delayed, compute\n",
    "from sklearn.cross_validation import train_test_split\n",
    "import matplotlib.pyplot as plt\n",
    "%matplotlib inline\n",
    "import seaborn as sns\n",
    "import lightgbm as lgb\n",
    "import gc\n",
    "from textblob import TextBlob\n",
    "import time\n",
    "import pickle\n",
    "from tqdm import tqdm,tqdm_pandas\n",
    "path = \"F:\\\\Pratik\\\\LearningZone\\\\Competitions\\\\Avito_Demand_Prediction_Challenge\"\n",
    "os.chdir(path)"
   ]
  },
  {
   "cell_type": "code",
   "execution_count": 2,
   "metadata": {},
   "outputs": [],
   "source": [
    "train_df = pd.read_csv('train.csv', parse_dates=['activation_date'])\n",
    "test_df = pd.read_csv('test.csv', parse_dates=['activation_date'])"
   ]
  },
  {
   "cell_type": "code",
   "execution_count": 3,
   "metadata": {},
   "outputs": [],
   "source": [
    "test_df['deal_probability'] = 0"
   ]
  },
  {
   "cell_type": "code",
   "execution_count": 4,
   "metadata": {},
   "outputs": [],
   "source": [
    "train_df['set'] = 'train'\n",
    "test_df['set'] = 'test'"
   ]
  },
  {
   "cell_type": "code",
   "execution_count": 5,
   "metadata": {},
   "outputs": [],
   "source": [
    "total_df = pd.concat([train_df, test_df])"
   ]
  },
  {
   "cell_type": "code",
   "execution_count": null,
   "metadata": {},
   "outputs": [],
   "source": [
    "plt.figure(figsize=(12,8))\n",
    "sns.distplot(train_df[\"deal_probability\"].values, bins=100, kde=False)\n",
    "plt.xlabel('Deal Probility', fontsize=12)\n",
    "plt.title(\"Deal Probability Histogram\", fontsize=14)\n",
    "plt.show()\n",
    "\n",
    "# plt.figure(figsize=(8,6))\n",
    "# plt.scatter(range(train_df.shape[0]), np.sort(train_df['deal_probability'].values))\n",
    "# plt.xlabel('index', fontsize=12)\n",
    "# plt.ylabel('deal probability', fontsize=12)\n",
    "# plt.title(\"Deal Probability Distribution\", fontsize=14)\n",
    "# plt.show()"
   ]
  },
  {
   "cell_type": "code",
   "execution_count": 6,
   "metadata": {},
   "outputs": [],
   "source": [
    "total_df[\"price_new\"] = total_df[\"price\"].values\n",
    "total_df[\"price_new\"].fillna(np.nanmean(total_df[\"price\"].values), inplace=True)\n",
    "\n",
    "# plt.figure(figsize=(12,8))\n",
    "# sns.distplot(np.log1p(train_df[\"price_new\"].values), bins=100, kde=False)\n",
    "# plt.xlabel('Log of price', fontsize=12)\n",
    "# plt.title(\"Log of Price Histogram\", fontsize=14)\n",
    "# plt.show()"
   ]
  },
  {
   "cell_type": "code",
   "execution_count": 7,
   "metadata": {},
   "outputs": [],
   "source": [
    "def translate(x):\n",
    "    try:\n",
    "        return TextBlob(x).translate(to=\"en\")\n",
    "    except:\n",
    "        return x"
   ]
  },
  {
   "cell_type": "code",
   "execution_count": 8,
   "metadata": {},
   "outputs": [],
   "source": [
    "def conv_string(x):\n",
    "    try:\n",
    "        return translate(x).string\n",
    "    except:\n",
    "        return translate(x)"
   ]
  },
  {
   "cell_type": "markdown",
   "metadata": {},
   "source": [
    "### Translation the city, region names, category name and parent category name:"
   ]
  },
  {
   "cell_type": "code",
   "execution_count": 17,
   "metadata": {},
   "outputs": [],
   "source": [
    "unique_reg_trans = []\n",
    "unique_reg = list(pd.unique(total_df['region']))\n",
    "for reg in unique_reg:\n",
    "    unique_reg_trans.append(translate(reg).string)\n",
    "    \n",
    "dict_region = dict(zip(unique_reg, unique_reg_trans)) # Region Dictionary\n",
    "\n",
    "total_df['en_region'] = total_df['region'].map(dict_region) # Mapping the regions in DF "
   ]
  },
  {
   "cell_type": "code",
   "execution_count": 18,
   "metadata": {},
   "outputs": [],
   "source": [
    "unique_city_trans = []\n",
    "unique_city = list(pd.unique(total_df['city']))\n",
    "for city in unique_city:\n",
    "    unique_city_trans.append(conv_string(city))\n",
    "    \n",
    "dict_city = dict(zip(unique_city, unique_city_trans)) # city Dictionary\n",
    "\n",
    "total_df['en_city'] = total_df['city'].map(dict_city) # Mapping the cityions in DF "
   ]
  },
  {
   "cell_type": "code",
   "execution_count": 19,
   "metadata": {},
   "outputs": [],
   "source": [
    "unique_cat_name_trans = []\n",
    "unique_cat_name = list(pd.unique(total_df['category_name']))\n",
    "for cat_name in unique_cat_name:\n",
    "    unique_cat_name_trans.append(translate(cat_name).string)\n",
    "    \n",
    "dict_cat_name = dict(zip(unique_cat_name, unique_cat_name_trans)) # cat_name Dictionary\n",
    "\n",
    "total_df['en_category_name'] = total_df['category_name'].map(dict_cat_name) # Mapping the cat_nameions in DF "
   ]
  },
  {
   "cell_type": "code",
   "execution_count": 20,
   "metadata": {},
   "outputs": [],
   "source": [
    "unique_cat_name_trans = []\n",
    "unique_cat_name = list(pd.unique(total_df['parent_category_name']))\n",
    "for cat_name in unique_cat_name:\n",
    "    unique_cat_name_trans.append(translate(cat_name).string)\n",
    "    \n",
    "dict_cat_name = dict(zip(unique_cat_name, unique_cat_name_trans)) # cat_name Dictionary\n",
    "\n",
    "total_df['en_parent_category_name'] = total_df['parent_category_name'].map(dict_cat_name) # Mapping the cat_nameions in DF "
   ]
  },
  {
   "cell_type": "code",
   "execution_count": 21,
   "metadata": {},
   "outputs": [],
   "source": [
    "unique_param1_trans = []\n",
    "unique_param1 = list(pd.unique(total_df['param_1']))\n",
    "for param1 in unique_param1:\n",
    "    unique_param1_trans.append(conv_string(param1))\n",
    "    \n",
    "dict_param1 = dict(zip(unique_param1, unique_param1_trans)) # param1 Dictionary\n",
    "\n",
    "total_df['en_param1'] = total_df['param_1'].map(dict_param1) # Mapping the param1ions in DF "
   ]
  },
  {
   "cell_type": "code",
   "execution_count": 22,
   "metadata": {},
   "outputs": [],
   "source": [
    "unique_param2_trans = []\n",
    "unique_param2 = list(pd.unique(total_df['param_2']))\n",
    "for param2 in unique_param2:\n",
    "    unique_param2_trans.append(conv_string(param2))\n",
    "    \n",
    "dict_param2 = dict(zip(unique_param2, unique_param2_trans)) # param2 Dictionary\n",
    "\n",
    "total_df['en_param2'] = total_df['param_2'].map(dict_param2) # Mapping the param2ions in DF "
   ]
  },
  {
   "cell_type": "code",
   "execution_count": 23,
   "metadata": {},
   "outputs": [],
   "source": [
    "unique_param3_trans = []\n",
    "unique_param3 = list(pd.unique(total_df['param_3']))\n",
    "for param3 in unique_param3:\n",
    "    unique_param3_trans.append(conv_string(param3))\n",
    "    \n",
    "dict_param3 = dict(zip(unique_param3, unique_param3_trans)) # param3 Dictionary\n",
    "\n",
    "total_df['en_param3'] = total_df['param_3'].map(dict_param3) # Mapping the param3ions in DF "
   ]
  },
  {
   "cell_type": "code",
   "execution_count": 24,
   "metadata": {},
   "outputs": [],
   "source": [
    "total_df[total_df['set'] == 'train'].to_csv('train_translated.csv',index=False)\n",
    "total_df[total_df['set'] == 'test'].to_csv('test_translated.csv',index=False)"
   ]
  },
  {
   "cell_type": "code",
   "execution_count": null,
   "metadata": {},
   "outputs": [],
   "source": [
    "import plotly.offline as py\n",
    "py.init_notebook_mode(connected=True)\n",
    "import plotly.graph_objs as go\n",
    "import plotly.tools as tls"
   ]
  },
  {
   "cell_type": "code",
   "execution_count": null,
   "metadata": {},
   "outputs": [],
   "source": [
    "temp_series = train_df['en_region'].value_counts()\n",
    "labels = (np.array(temp_series.index))\n",
    "sizes = (np.array((temp_series / temp_series.sum())*100))\n",
    "\n",
    "trace = go.Pie(labels=labels, values=sizes)\n",
    "layout = go.Layout(\n",
    "    title='Region distribution',\n",
    "    width=900,\n",
    "    height=900,\n",
    ")\n",
    "data = [trace]\n",
    "fig = go.Figure(data=data, layout=layout)\n",
    "py.iplot(fig, filename=\"region\")"
   ]
  },
  {
   "cell_type": "code",
   "execution_count": null,
   "metadata": {},
   "outputs": [],
   "source": [
    "cnt_srs = train_df['en_city'].value_counts().head(20)\n",
    "trace = go.Bar(\n",
    "    y=cnt_srs.index[::-1],\n",
    "    x=cnt_srs.values[::-1],\n",
    "    orientation = 'h',\n",
    "    marker=dict(\n",
    "        color=cnt_srs.values[::-1],\n",
    "        colorscale = 'Blues',\n",
    "        reversescale = True\n",
    "    ),\n",
    ")\n",
    "\n",
    "layout = dict(\n",
    "    title='City distribution of Ads',\n",
    "    )\n",
    "data = [trace]\n",
    "fig = go.Figure(data=data, layout=layout)\n",
    "py.iplot(fig, filename=\"CityAds\")"
   ]
  },
  {
   "cell_type": "code",
   "execution_count": null,
   "metadata": {},
   "outputs": [],
   "source": [
    "temp_series = train_df['en_parent_category_name'].value_counts()\n",
    "labels = (np.array(temp_series.index))\n",
    "sizes = (np.array((temp_series / temp_series.sum())*100))\n",
    "\n",
    "trace = go.Pie(labels=labels, values=sizes)\n",
    "layout = go.Layout(\n",
    "    title='Parent Category distribution',\n",
    "    width=900,\n",
    "    height=900,\n",
    ")\n",
    "data = [trace]\n",
    "fig = go.Figure(data=data, layout=layout)\n",
    "py.iplot(fig, filename=\"parent_cat\")"
   ]
  },
  {
   "cell_type": "code",
   "execution_count": null,
   "metadata": {},
   "outputs": [],
   "source": [
    "cnt_srs = train_df['en_category_name'].value_counts()\n",
    "trace = go.Bar(\n",
    "    y=cnt_srs.index[::-1],\n",
    "    x=cnt_srs.values[::-1],\n",
    "    orientation = 'h',\n",
    "    marker=dict(\n",
    "        color=cnt_srs.values[::-1],\n",
    "        colorscale = 'Blues',\n",
    "        reversescale = True\n",
    "    ),\n",
    ")\n",
    "\n",
    "layout = dict(\n",
    "    title='Category distribution of Ads',\n",
    "    height = 900\n",
    "    )\n",
    "data = [trace]\n",
    "fig = go.Figure(data=data, layout=layout)\n",
    "py.iplot(fig, filename=\"Category\")"
   ]
  },
  {
   "cell_type": "code",
   "execution_count": null,
   "metadata": {},
   "outputs": [],
   "source": [
    "temp_series = train_df['user_type'].value_counts()\n",
    "labels = (np.array(temp_series.index))\n",
    "sizes = (np.array((temp_series / temp_series.sum())*100))\n",
    "\n",
    "trace = go.Pie(labels=labels, values=sizes)\n",
    "layout = go.Layout(\n",
    "    title='User Type distribution',\n",
    "    width=700,\n",
    "    height=700,\n",
    ")\n",
    "data = [trace]\n",
    "fig = go.Figure(data=data, layout=layout)\n",
    "py.iplot(fig, filename=\"usertype\")"
   ]
  },
  {
   "cell_type": "code",
   "execution_count": null,
   "metadata": {},
   "outputs": [],
   "source": [
    "plt.figure(figsize=(12,8))\n",
    "sns.boxplot(x=\"en_parent_category_name\", y=\"deal_probability\", data=train_df)\n",
    "plt.ylabel('Deal probability', fontsize=12)\n",
    "plt.xlabel('Parent Category', fontsize=12)\n",
    "plt.title(\"Deal probability by parent category\", fontsize=14)\n",
    "plt.xticks(rotation=45)\n",
    "plt.show()"
   ]
  }
 ],
 "metadata": {
  "kernelspec": {
   "display_name": "Python 3",
   "language": "python",
   "name": "python3"
  },
  "language_info": {
   "codemirror_mode": {
    "name": "ipython",
    "version": 3
   },
   "file_extension": ".py",
   "mimetype": "text/x-python",
   "name": "python",
   "nbconvert_exporter": "python",
   "pygments_lexer": "ipython3",
   "version": "3.6.4"
  }
 },
 "nbformat": 4,
 "nbformat_minor": 2
}
